{
  "cells": [
    {
      "cell_type": "code",
      "execution_count": null,
      "metadata": {
        "id": "z41ocnRD2Usk",
        "colab": {
          "base_uri": "https://localhost:8080/"
        },
        "outputId": "9cc0e5ba-f56a-424e-f279-f2e62241969b"
      },
      "outputs": [
        {
          "output_type": "stream",
          "name": "stdout",
          "text": [
            "Looking in indexes: https://pypi.org/simple, https://us-python.pkg.dev/colab-wheels/public/simple/\n",
            "Requirement already satisfied: transformers in /usr/local/lib/python3.10/dist-packages (4.30.2)\n",
            "Requirement already satisfied: filelock in /usr/local/lib/python3.10/dist-packages (from transformers) (3.12.0)\n",
            "Requirement already satisfied: huggingface-hub<1.0,>=0.14.1 in /usr/local/lib/python3.10/dist-packages (from transformers) (0.15.1)\n",
            "Requirement already satisfied: numpy>=1.17 in /usr/local/lib/python3.10/dist-packages (from transformers) (1.22.4)\n",
            "Requirement already satisfied: packaging>=20.0 in /usr/local/lib/python3.10/dist-packages (from transformers) (23.1)\n",
            "Requirement already satisfied: pyyaml>=5.1 in /usr/local/lib/python3.10/dist-packages (from transformers) (6.0)\n",
            "Requirement already satisfied: regex!=2019.12.17 in /usr/local/lib/python3.10/dist-packages (from transformers) (2022.10.31)\n",
            "Requirement already satisfied: requests in /usr/local/lib/python3.10/dist-packages (from transformers) (2.27.1)\n",
            "Requirement already satisfied: tokenizers!=0.11.3,<0.14,>=0.11.1 in /usr/local/lib/python3.10/dist-packages (from transformers) (0.13.3)\n",
            "Requirement already satisfied: safetensors>=0.3.1 in /usr/local/lib/python3.10/dist-packages (from transformers) (0.3.1)\n",
            "Requirement already satisfied: tqdm>=4.27 in /usr/local/lib/python3.10/dist-packages (from transformers) (4.65.0)\n",
            "Requirement already satisfied: fsspec in /usr/local/lib/python3.10/dist-packages (from huggingface-hub<1.0,>=0.14.1->transformers) (2023.4.0)\n",
            "Requirement already satisfied: typing-extensions>=3.7.4.3 in /usr/local/lib/python3.10/dist-packages (from huggingface-hub<1.0,>=0.14.1->transformers) (4.5.0)\n",
            "Requirement already satisfied: urllib3<1.27,>=1.21.1 in /usr/local/lib/python3.10/dist-packages (from requests->transformers) (1.26.15)\n",
            "Requirement already satisfied: certifi>=2017.4.17 in /usr/local/lib/python3.10/dist-packages (from requests->transformers) (2022.12.7)\n",
            "Requirement already satisfied: charset-normalizer~=2.0.0 in /usr/local/lib/python3.10/dist-packages (from requests->transformers) (2.0.12)\n",
            "Requirement already satisfied: idna<4,>=2.5 in /usr/local/lib/python3.10/dist-packages (from requests->transformers) (3.4)\n"
          ]
        }
      ],
      "source": [
        "!pip install transformers"
      ]
    },
    {
      "cell_type": "code",
      "execution_count": null,
      "metadata": {
        "id": "phxTQsJxZq8D",
        "colab": {
          "base_uri": "https://localhost:8080/"
        },
        "outputId": "916aad7d-aa09-4dc8-cff0-c3f907b3c07e"
      },
      "outputs": [
        {
          "output_type": "stream",
          "name": "stdout",
          "text": [
            "Looking in indexes: https://pypi.org/simple, https://us-python.pkg.dev/colab-wheels/public/simple/\n",
            "Requirement already satisfied: sentencepiece in /usr/local/lib/python3.10/dist-packages (0.1.99)\n"
          ]
        }
      ],
      "source": [
        "!pip install sentencepiece"
      ]
    },
    {
      "cell_type": "code",
      "execution_count": null,
      "metadata": {
        "id": "kh4qLN8wKyFN",
        "colab": {
          "base_uri": "https://localhost:8080/"
        },
        "outputId": "a181ab11-2d43-483c-be7f-99df8f4978e1"
      },
      "outputs": [
        {
          "output_type": "stream",
          "name": "stdout",
          "text": [
            "Looking in indexes: https://pypi.org/simple, https://us-python.pkg.dev/colab-wheels/public/simple/\n",
            "Requirement already satisfied: rouge in /usr/local/lib/python3.10/dist-packages (1.0.1)\n",
            "Requirement already satisfied: six in /usr/local/lib/python3.10/dist-packages (from rouge) (1.16.0)\n"
          ]
        }
      ],
      "source": [
        "!pip install rouge"
      ]
    },
    {
      "cell_type": "code",
      "execution_count": null,
      "metadata": {
        "id": "ByooWLZiMZHf",
        "colab": {
          "base_uri": "https://localhost:8080/"
        },
        "outputId": "c080c9f6-208b-4c41-dc20-480e87482927"
      },
      "outputs": [
        {
          "output_type": "stream",
          "name": "stdout",
          "text": [
            "/usr/local/lib/python3.10/dist-packages/gdown/cli.py:121: FutureWarning: Option `--id` was deprecated in version 4.3.1 and will be removed in 5.0. You don't need to pass it anymore to use a file ID.\n",
            "  warnings.warn(\n",
            "Downloading...\n",
            "From: https://drive.google.com/uc?id=1fPoZrntWDpIkSXJWQDZmHJK60FVcgQlb\n",
            "To: /content/model_step_50001.pt\n",
            "100% 1.46G/1.46G [00:19<00:00, 73.4MB/s]\n"
          ]
        }
      ],
      "source": [
        "!gdown --id 1fPoZrntWDpIkSXJWQDZmHJK60FVcgQlb&export=download"
      ]
    },
    {
      "cell_type": "code",
      "execution_count": null,
      "metadata": {
        "id": "l5aZHeYLU61X",
        "colab": {
          "base_uri": "https://localhost:8080/"
        },
        "outputId": "cfa2a7e1-29a9-463c-d10b-77059c8d4363"
      },
      "outputs": [
        {
          "output_type": "stream",
          "name": "stdout",
          "text": [
            "fatal: destination path 'BertSum' already exists and is not an empty directory.\n"
          ]
        }
      ],
      "source": [
        "!git clone https://github.com/nlpyang/BertSum.git"
      ]
    },
    {
      "cell_type": "code",
      "execution_count": null,
      "metadata": {
        "id": "ij2b-Dy2Vnp3",
        "colab": {
          "base_uri": "https://localhost:8080/"
        },
        "outputId": "64d74d73-0ec7-490e-8ac4-cfdfe413bd1f"
      },
      "outputs": [
        {
          "output_type": "stream",
          "name": "stdout",
          "text": [
            "Looking in indexes: https://pypi.org/simple, https://us-python.pkg.dev/colab-wheels/public/simple/\n",
            "Requirement already satisfied: pytorch_pretrained_bert in /usr/local/lib/python3.10/dist-packages (0.6.2)\n",
            "Requirement already satisfied: torch>=0.4.1 in /usr/local/lib/python3.10/dist-packages (from pytorch_pretrained_bert) (2.0.1+cu118)\n",
            "Requirement already satisfied: numpy in /usr/local/lib/python3.10/dist-packages (from pytorch_pretrained_bert) (1.22.4)\n",
            "Requirement already satisfied: boto3 in /usr/local/lib/python3.10/dist-packages (from pytorch_pretrained_bert) (1.26.153)\n",
            "Requirement already satisfied: requests in /usr/local/lib/python3.10/dist-packages (from pytorch_pretrained_bert) (2.27.1)\n",
            "Requirement already satisfied: tqdm in /usr/local/lib/python3.10/dist-packages (from pytorch_pretrained_bert) (4.65.0)\n",
            "Requirement already satisfied: regex in /usr/local/lib/python3.10/dist-packages (from pytorch_pretrained_bert) (2022.10.31)\n",
            "Requirement already satisfied: filelock in /usr/local/lib/python3.10/dist-packages (from torch>=0.4.1->pytorch_pretrained_bert) (3.12.0)\n",
            "Requirement already satisfied: typing-extensions in /usr/local/lib/python3.10/dist-packages (from torch>=0.4.1->pytorch_pretrained_bert) (4.5.0)\n",
            "Requirement already satisfied: sympy in /usr/local/lib/python3.10/dist-packages (from torch>=0.4.1->pytorch_pretrained_bert) (1.11.1)\n",
            "Requirement already satisfied: networkx in /usr/local/lib/python3.10/dist-packages (from torch>=0.4.1->pytorch_pretrained_bert) (3.1)\n",
            "Requirement already satisfied: jinja2 in /usr/local/lib/python3.10/dist-packages (from torch>=0.4.1->pytorch_pretrained_bert) (3.1.2)\n",
            "Requirement already satisfied: triton==2.0.0 in /usr/local/lib/python3.10/dist-packages (from torch>=0.4.1->pytorch_pretrained_bert) (2.0.0)\n",
            "Requirement already satisfied: cmake in /usr/local/lib/python3.10/dist-packages (from triton==2.0.0->torch>=0.4.1->pytorch_pretrained_bert) (3.25.2)\n",
            "Requirement already satisfied: lit in /usr/local/lib/python3.10/dist-packages (from triton==2.0.0->torch>=0.4.1->pytorch_pretrained_bert) (16.0.5)\n",
            "Requirement already satisfied: botocore<1.30.0,>=1.29.153 in /usr/local/lib/python3.10/dist-packages (from boto3->pytorch_pretrained_bert) (1.29.153)\n",
            "Requirement already satisfied: jmespath<2.0.0,>=0.7.1 in /usr/local/lib/python3.10/dist-packages (from boto3->pytorch_pretrained_bert) (1.0.1)\n",
            "Requirement already satisfied: s3transfer<0.7.0,>=0.6.0 in /usr/local/lib/python3.10/dist-packages (from boto3->pytorch_pretrained_bert) (0.6.1)\n",
            "Requirement already satisfied: urllib3<1.27,>=1.21.1 in /usr/local/lib/python3.10/dist-packages (from requests->pytorch_pretrained_bert) (1.26.15)\n",
            "Requirement already satisfied: certifi>=2017.4.17 in /usr/local/lib/python3.10/dist-packages (from requests->pytorch_pretrained_bert) (2022.12.7)\n",
            "Requirement already satisfied: charset-normalizer~=2.0.0 in /usr/local/lib/python3.10/dist-packages (from requests->pytorch_pretrained_bert) (2.0.12)\n",
            "Requirement already satisfied: idna<4,>=2.5 in /usr/local/lib/python3.10/dist-packages (from requests->pytorch_pretrained_bert) (3.4)\n",
            "Requirement already satisfied: python-dateutil<3.0.0,>=2.1 in /usr/local/lib/python3.10/dist-packages (from botocore<1.30.0,>=1.29.153->boto3->pytorch_pretrained_bert) (2.8.2)\n",
            "Requirement already satisfied: MarkupSafe>=2.0 in /usr/local/lib/python3.10/dist-packages (from jinja2->torch>=0.4.1->pytorch_pretrained_bert) (2.1.2)\n",
            "Requirement already satisfied: mpmath>=0.19 in /usr/local/lib/python3.10/dist-packages (from sympy->torch>=0.4.1->pytorch_pretrained_bert) (1.3.0)\n",
            "Requirement already satisfied: six>=1.5 in /usr/local/lib/python3.10/dist-packages (from python-dateutil<3.0.0,>=2.1->botocore<1.30.0,>=1.29.153->boto3->pytorch_pretrained_bert) (1.16.0)\n"
          ]
        }
      ],
      "source": [
        "!pip install pytorch_pretrained_bert"
      ]
    },
    {
      "cell_type": "code",
      "execution_count": null,
      "metadata": {
        "id": "X4F5wKac_n4-"
      },
      "outputs": [],
      "source": [
        "#importing dependencies from transformers\n",
        "import torch\n",
        "import pandas as pd\n",
        "import difflib\n",
        "from IPython.core.display import display, HTML\n",
        "from transformers import PegasusForConditionalGeneration, PegasusTokenizer\n",
        "from rouge import Rouge\n",
        "#Set up the device for BertSum & Pegasus\n",
        "device = 'cuda' if torch.cuda.is_available() else 'cpu'\n",
        "model_name = 'google/pegasus-cnn_dailymail'"
      ]
    },
    {
      "cell_type": "code",
      "execution_count": null,
      "metadata": {
        "id": "dk9VkWoU_ATB"
      },
      "outputs": [],
      "source": [
        "def BertSum(model, clips, range=250, max = 3):\n",
        "  generated_summaries = []\n",
        "  for clip in clips:\n",
        "    if len(generated_summaries) == range:\n",
        "      break\n",
        "    file_path = '/content/input.txt'\n",
        "    with open(file_path, 'w') as file:\n",
        "        file.write(clip)\n",
        "    input_fp = '/content/input.txt'\n",
        "    result_fp = '/content/results.txt'\n",
        "    summary = summarize(input_fp, result_fp, model, max_length=max, device=device)\n",
        "    generated_summaries += [summary]\n",
        "  return generated_summaries"
      ]
    },
    {
      "cell_type": "code",
      "execution_count": null,
      "metadata": {
        "id": "pR4-szCP_ATC"
      },
      "outputs": [],
      "source": [
        "def Pegasus(model, clips, ran=250, min = 50, max = 300):\n",
        "  summary = []\n",
        "  for i in range(ran):\n",
        "    inputs = tokenizer(clips[i], truncation=True, max_length = 512, padding='longest', return_tensors='pt').to(device)\n",
        "\n",
        "    input_ids = inputs['input_ids']\n",
        "    attention_mask = inputs['attention_mask']\n",
        "\n",
        "\n",
        "    translated = model.generate(input_ids=input_ids, attention_mask=attention_mask,min_length = min, max_length=max)\n",
        "    tgt_text = tokenizer.batch_decode(translated, skip_special_tokens=True)\n",
        "    summary += [tgt_text]\n",
        "  return summary"
      ]
    },
    {
      "cell_type": "code",
      "source": [
        "def Rougesh(summary, reference):\n",
        "  rouge = Rouge()\n",
        "\n",
        "  total_rouge_1_r = 0.0\n",
        "  total_rouge_1_p = 0.0\n",
        "  total_rouge_1_f = 0.0\n",
        "  total_rouge_2_r = 0.0\n",
        "  total_rouge_2_p = 0.0\n",
        "  total_rouge_2_f = 0.0\n",
        "  total_rouge_l_r = 0.0\n",
        "  total_rouge_l_p = 0.0\n",
        "  total_rouge_l_f = 0.0\n",
        "\n",
        "  for i in range(len(summary)):\n",
        "\n",
        "\n",
        "      generated_summary = summary[i]\n",
        "\n",
        "      reference_summary = [reference[i]]\n",
        "\n",
        "      scores = rouge.get_scores(generated_summary, reference_summary)\n",
        "\n",
        "      total_rouge_1_r += scores[0][\"rouge-1\"][\"r\"]\n",
        "      total_rouge_1_p += scores[0][\"rouge-1\"][\"p\"]\n",
        "      total_rouge_1_f += scores[0][\"rouge-1\"][\"f\"]\n",
        "      total_rouge_2_r += scores[0][\"rouge-2\"][\"r\"]\n",
        "      total_rouge_2_p += scores[0][\"rouge-2\"][\"p\"]\n",
        "      total_rouge_2_f += scores[0][\"rouge-2\"][\"f\"]\n",
        "      total_rouge_l_r += scores[0][\"rouge-l\"][\"r\"]\n",
        "      total_rouge_l_p += scores[0][\"rouge-l\"][\"p\"]\n",
        "      total_rouge_l_f += scores[0][\"rouge-l\"][\"f\"]\n",
        "\n",
        "  average_rouge_1_r = total_rouge_1_r / len(summary)\n",
        "  average_rouge_1_p = total_rouge_1_p / len(summary)\n",
        "  average_rouge_1_f = total_rouge_1_f / len(summary)\n",
        "  average_rouge_2_r = total_rouge_2_r / len(summary)\n",
        "  average_rouge_2_p = total_rouge_2_p / len(summary)\n",
        "  average_rouge_2_f = total_rouge_2_f / len(summary)\n",
        "  average_rouge_l_r = total_rouge_l_r / len(summary)\n",
        "  average_rouge_l_p = total_rouge_l_p / len(summary)\n",
        "  average_rouge_l_f = total_rouge_l_f / len(summary)\n",
        "\n",
        "  print(\"Average ROUGE-1:\")\n",
        "  print(f\"Average_R: {average_rouge_1_r:.5f}\")\n",
        "  print(f\"Average_P: {average_rouge_1_p:.5f}\")\n",
        "  print(f\"Average_F: {average_rouge_1_f:.5f}\")\n",
        "  print(\"---------------------------------------------\")\n",
        "  print(\"Average ROUGE-2:\")\n",
        "  print(f\"Average_R: {average_rouge_2_r:.5f}\")\n",
        "  print(f\"Average_P: {average_rouge_2_p:.5f}\")\n",
        "  print(f\"Average_F: {average_rouge_2_f:.5f}\")\n",
        "  print(\"---------------------------------------------\")\n",
        "  print(\"Average ROUGE-L:\")\n",
        "  print(f\"Average_R: {average_rouge_l_r:.5f}\")\n",
        "  print(f\"Average_P: {average_rouge_l_p:.5f}\")\n",
        "  print(f\"Average_F: {average_rouge_l_f:.5f}\")\n",
        "  print(\"---------------------------------------------\")"
      ],
      "metadata": {
        "id": "dzn3Yj3F_4UF"
      },
      "execution_count": null,
      "outputs": []
    },
    {
      "cell_type": "code",
      "execution_count": null,
      "metadata": {
        "colab": {
          "base_uri": "https://localhost:8080/"
        },
        "id": "q8qGHw1RiBLT",
        "outputId": "3b107d94-0435-46fd-ca1c-3087f90ec891"
      },
      "outputs": [
        {
          "output_type": "stream",
          "name": "stdout",
          "text": [
            "/usr/local/lib/python3.10/dist-packages/gdown/cli.py:121: FutureWarning: Option `--id` was deprecated in version 4.3.1 and will be removed in 5.0. You don't need to pass it anymore to use a file ID.\n",
            "  warnings.warn(\n",
            "Downloading...\n",
            "From: https://drive.google.com/uc?id=14q1-GCaNnKfD9pcZu1oiFDuXOKqjlqTo\n",
            "To: /content/module.py\n",
            "100% 4.43k/4.43k [00:00<00:00, 17.9MB/s]\n"
          ]
        }
      ],
      "source": [
        "!gdown --id 14q1-GCaNnKfD9pcZu1oiFDuXOKqjlqTo -O module.py\n",
        "!mv ./module.py /content/BertSum/src/models/"
      ]
    },
    {
      "cell_type": "code",
      "execution_count": null,
      "metadata": {
        "id": "Z-GNwYmGov8f"
      },
      "outputs": [],
      "source": [
        "import sys\n",
        "import textwrap\n",
        "sys.path.append(\"/content/BertSum/src\")"
      ]
    },
    {
      "cell_type": "code",
      "source": [
        "!rm /content/BertSum/src/models/neural.py\n",
        "!gdown 1z08OXhnlYre5SsvhMYzv8I1UmCcFlX-r -O neural.py\n",
        "!mv ./neural.py /content/BertSum/src/models/"
      ],
      "metadata": {
        "id": "zo5_5PLAqr9v",
        "colab": {
          "base_uri": "https://localhost:8080/"
        },
        "outputId": "ffe0df6f-809f-41b3-c8ee-7d09582d1769"
      },
      "execution_count": null,
      "outputs": [
        {
          "output_type": "stream",
          "name": "stdout",
          "text": [
            "Downloading...\n",
            "From: https://drive.google.com/uc?id=1z08OXhnlYre5SsvhMYzv8I1UmCcFlX-r\n",
            "To: /content/neural.py\n",
            "\r  0% 0.00/8.14k [00:00<?, ?B/s]\r100% 8.14k/8.14k [00:00<00:00, 23.4MB/s]\n"
          ]
        }
      ]
    },
    {
      "cell_type": "code",
      "execution_count": null,
      "metadata": {
        "id": "h60L4GMgx-yZ"
      },
      "outputs": [],
      "source": [
        "class Args:\n",
        "    temp_dir = \"temp\"\n",
        "    encoder = \"transformer\"\n",
        "    max_pos = 512\n",
        "    max_tgt_len = 140\n",
        "    min_tgt_len = 55\n",
        "    max_src_len = 510\n",
        "    min_src_len = 5\n",
        "    test_batch_size = 3000\n",
        "    batch_size = 140\n",
        "    ext_len = 0\n",
        "    model_path = None\n",
        "    visible_gpus = None\n",
        "    gpu_ranks = None\n",
        "    world_size = 1\n",
        "    report_every = 50\n",
        "    save_checkpoint_steps = 5\n",
        "    recall_eval = False\n",
        "    visible_device = None\n",
        "    multi_gpu = False\n",
        "    max_length = 200\n",
        "    min_length = 50\n",
        "    alpha = 0.95\n",
        "    result_path = \"results/cnndm\"\n",
        "    test_from = None\n",
        "    test_start_from = None\n",
        "    dataset = \"cnndm\"\n",
        "    bert_config_path = \"/content/BertSum/bert_config_uncased_base.json\"\n",
        "    trained_model_path = \"/content/BertSum/models/bertsumext/model_step_50001.pt\"\n",
        "    param_init = 0.0\n",
        "    param_init_glorot = True\n",
        "    ff_size = 2048\n",
        "    heads = 8\n",
        "    dropout = 0.1\n",
        "    inter_layers = 2\n",
        "args = Args()"
      ]
    },
    {
      "cell_type": "code",
      "source": [
        "def compare_texts(text1, text2, r = 0):\n",
        "    # Split the texts into words\n",
        "    words1 = text1.split()\n",
        "    words2 = text2.split()\n",
        "\n",
        "    # Create lists to hold the output words\n",
        "    output1 = [''] * len(words1)\n",
        "    output2 = [''] * len(words2)\n",
        "\n",
        "    #Append the words to make possible bigrams for ROUGE-2\n",
        "    if r == 1:\n",
        "      bigram1 = [' '.join(words1[i:i+2]) for i in range(len(words1)-1)]\n",
        "      bigram2 = [' '.join(words2[i:i+2]) for i in range(len(words2)-1)]\n",
        "      matcher = difflib.SequenceMatcher(None, bigram1, bigram2)\n",
        "\n",
        "    # Use difflib to compare the words & loop through the diff and add HTML tags for added and deleted words\n",
        "    else:\n",
        "      matcher = difflib.SequenceMatcher(None, words1, words2)\n",
        "\n",
        "    if r == 0:\n",
        "      diff = matcher.get_opcodes()\n",
        "      for tag, i1, i2, j1, j2 in diff:\n",
        "        if tag == 'equal':\n",
        "            output1.extend(f'<span style=\"color: #00ff00\">{word}</span>' for word in words1[i1:i2])\n",
        "            output2.extend(f'<span style=\"color: #00ff00\">{word}</span>' for word in words2[j1:j2])\n",
        "        else:\n",
        "            output1.extend(words1[i1:i2])\n",
        "            output2.extend(words2[j1:j2])\n",
        "    elif r == 1:\n",
        "      diff = matcher.get_opcodes()\n",
        "      for tag, i1, i2, j1, j2 in diff:\n",
        "        if tag == 'equal':\n",
        "            for i in range(i1, i2):\n",
        "                if output1[i] != '':\n",
        "                    output1[i] = output1[i].replace('color: #00ff00', 'color: #ff0000')\n",
        "                else:\n",
        "                    output1[i] = f'<span style=\"color: #00ff00\">{words1[i]}</span>'\n",
        "\n",
        "                output1[i+1] = f'<span style=\"color: #00ff00\">{words1[i+1]}</span>'\n",
        "\n",
        "            for j in range(j1, j2):\n",
        "                if output2[j] != '':\n",
        "                    output2[j] = output2[j].replace('color: #00ff00', 'color: #ff0000')\n",
        "                    output2[j+1] = f'<span style=\"color: #00ff00\">{words2[j+1]}</span>'\n",
        "                else:\n",
        "                    output2[j] = f'<span style=\"color: #00ff00\">{words2[j]}</span>'\n",
        "                    output2[j+1] = f'<span style=\"color: #00ff00\">{words2[j+1]}</span>'\n",
        "\n",
        "    # Join the words back into a single string\n",
        "    elif r == 2:\n",
        "      match = matcher.find_longest_match(0, len(words1), 0, len(words2))\n",
        "      for i in range(len(words1)):\n",
        "        if match.a <= i < match.a + match.size:\n",
        "            output1.append(f'<span style=\"color: #00ff00\">{words1[i]}</span>')\n",
        "        else:\n",
        "            output1.append(words1[i])\n",
        "\n",
        "      for i in range(len(words2)):\n",
        "        if match.b <= i < match.b + match.size:\n",
        "            output2.append(f'<span style=\"color: #00ff00\">{words2[i]}</span>')\n",
        "        else:\n",
        "            output2.append(words2[i])\n",
        "\n",
        "\n",
        "\n",
        "    # Join the words back into a single string\n",
        "    if r != 1:\n",
        "      html1 = ' '.join(output1)\n",
        "      html2 = ' '.join(output2)\n",
        "\n",
        "    elif r == 1:\n",
        "      html1 = ' '.join(word if word != '' else f'<span class=\"normal-text\">{words1[i]}</span>' for i, word in enumerate(output1))\n",
        "      html2 = ' '.join(word if word != '' else f'<span class=\"normal-text\">{words2[i]}</span>' for i, word in enumerate(output2))\n",
        "\n",
        "    # Create a table to display the texts side by side\n",
        "    table = f'''\n",
        "    <table>\n",
        "        <tr>\n",
        "            <th>Generated</th>\n",
        "            <th>Reference</th>\n",
        "        </tr>\n",
        "        <tr>\n",
        "            <td style=\"padding-right:20px\">{html1}</td>\n",
        "            <td>{html2}</td>\n",
        "        </tr>\n",
        "    </table>\n",
        "    '''\n",
        "\n",
        "    # Display the HTML\n",
        "    display(HTML(table))"
      ],
      "metadata": {
        "id": "QEQt1j5ZFbPm"
      },
      "execution_count": null,
      "outputs": []
    },
    {
      "cell_type": "code",
      "execution_count": null,
      "metadata": {
        "id": "hHgABf2i-R-H",
        "colab": {
          "base_uri": "https://localhost:8080/"
        },
        "outputId": "bc23ef73-e92e-444c-8fa2-f21a88de666d"
      },
      "outputs": [
        {
          "output_type": "stream",
          "name": "stderr",
          "text": [
            "[nltk_data] Downloading package punkt to /root/nltk_data...\n",
            "[nltk_data]   Package punkt is already up-to-date!\n"
          ]
        }
      ],
      "source": [
        "import nltk\n",
        "from models.model_builder import Summarizer\n",
        "from models.module import summarize\n",
        "from pytorch_pretrained_bert import BertConfig\n",
        "nltk.download('punkt')\n",
        "# Load the pre-trained BERT model\n",
        "bert_config = BertConfig.from_json_file(args.bert_config_path)\n",
        "\n",
        "# Load the BertSum model\n",
        "model = Summarizer(args=args, device=device, load_pretrained_bert=False, bert_config=bert_config).to(device)\n",
        "# Load the checkpoint\n",
        "checkpoint = torch.load(\"/content/model_step_50001.pt\", map_location=device)\n",
        "model.load_cp(checkpoint)"
      ]
    },
    {
      "cell_type": "code",
      "execution_count": null,
      "metadata": {
        "colab": {
          "base_uri": "https://localhost:8080/"
        },
        "id": "11z_czsIAiIT",
        "outputId": "3814f3c5-c634-4888-979e-e018d229884e"
      },
      "outputs": [
        {
          "output_type": "stream",
          "name": "stdout",
          "text": [
            "/usr/local/lib/python3.10/dist-packages/gdown/cli.py:121: FutureWarning: Option `--id` was deprecated in version 4.3.1 and will be removed in 5.0. You don't need to pass it anymore to use a file ID.\n",
            "  warnings.warn(\n",
            "Downloading...\n",
            "From: https://drive.google.com/uc?id=1uepQiNca9ZolZHB6HQeatLFiqsRyPEqX\n",
            "To: /content/test.zip\n",
            "100% 18.9M/18.9M [00:00<00:00, 145MB/s]\n"
          ]
        }
      ],
      "source": [
        "!gdown --id 1uepQiNca9ZolZHB6HQeatLFiqsRyPEqX -O test.zip"
      ]
    },
    {
      "cell_type": "code",
      "execution_count": null,
      "metadata": {
        "colab": {
          "base_uri": "https://localhost:8080/"
        },
        "id": "KHaEbomXAyQC",
        "outputId": "ac6a90db-89c9-4b26-e1eb-4445427833d6"
      },
      "outputs": [
        {
          "output_type": "stream",
          "name": "stdout",
          "text": [
            "Archive:  /content/test.zip\n",
            "replace test.csv? [y]es, [n]o, [A]ll, [N]one, [r]ename: n\n"
          ]
        }
      ],
      "source": [
        "!unzip /content/test.zip"
      ]
    },
    {
      "cell_type": "code",
      "execution_count": null,
      "metadata": {
        "id": "O_-GHq80A27n"
      },
      "outputs": [],
      "source": [
        "df = pd.read_csv(\"/content/test.csv\")"
      ]
    },
    {
      "cell_type": "code",
      "execution_count": null,
      "metadata": {
        "id": "XmCgMRRfkMyS"
      },
      "outputs": [],
      "source": [
        "clips = df['article']\n",
        "reference = df['highlights']"
      ]
    },
    {
      "cell_type": "code",
      "execution_count": null,
      "metadata": {
        "id": "0cnB_XmiUa3Y",
        "colab": {
          "base_uri": "https://localhost:8080/",
          "height": 209,
          "referenced_widgets": [
            "52446f9d55724c63a2bf3b79a74782ef",
            "970de179392d4382a3e9926662ac37d1",
            "6e34423a6e874c5c8f2faf2861f16eef",
            "f3e349281c7a46f08432e6ae8a7d875d",
            "ea66f025ba6449bc821f6e9e6b52bf85",
            "55a4db357d0848b5ba76c4f354738d73",
            "28456bfb81d547319a70938939395be5",
            "325cab1b2e9344e1a41dd7f4905f94a1",
            "86edbb4912dc409cba01fff002483b4a",
            "3f09d21480404652bf442d3aa9b70fe8",
            "198d9b36f983475788f8885719c1af8a",
            "9bb5217c7262420a8bf287b79d79d7f0",
            "3f3323298e1346f7881551f4b02c1cd3",
            "12f7cc82f6b245e89c2821ca3d2b9bfc",
            "2d461ea903764b5e9cb18c5ca55c95c1",
            "e8ab8853484d4c2d9cb0d63f1303653a",
            "c2addb39a014479eb7470328e4d76659",
            "6dec6ba2d8874f48aa9a0246c4c9069a",
            "62f6d8c6d1ea4e148e3135fbc996b19e",
            "d94d74ccdd134d08a189a0cc0aa145dd",
            "37cfaa90bd514c009b02c95f1f788610",
            "c4ef8ab371f94218bebbd7fc0713eed8",
            "d0eb504170154672ae59068c1b15ea0a",
            "db78883d20174292ab175b0210c068d9",
            "97e080e5bc3f48e39199dfee3b8c087e",
            "c22dfe8dc766444797e04aa2ac107243",
            "af66389fee90401a9df0d0204fc2b17b",
            "e7d359df29c1496fad97da4c01938758",
            "d5d077bd55e840bbaf59e5abfa9955b0",
            "810bd9b98b22409db74e788b6dd02fec",
            "3516cbbab5db48f4af322f828814bd45",
            "a48826424e984caf8df5bcf9c3ef78c4",
            "aa1c41a1d43d44d0b9c724f40e63828d",
            "6a08a95e08c44f0c83f01eaa3042021b",
            "8cc11aeffd254a25b3fbd5e6cf4efc03",
            "671d0b9f7a46425b8c72e2b12fb78ea2",
            "51a0b1444a29400596f20f07ef91141c",
            "df3577f7d59b4a4baea3526db60a0bbc",
            "2e399e98dd954bd4a75148c469db8433",
            "d2fbf9143a1f493e9d25fe4ea9b68033",
            "ba48ff71df714620a4b341a4f206a665",
            "e7d20cd8d70f4551a080ea41df152d4c",
            "2ba96b6e93e04205b45aa0f11f5a3464",
            "7c3aef85d7c74e66884ed17c0dc54223",
            "a3ed4cdfaa6a416e8578bc867e4ec231",
            "3c07cd58e0a54a6ba1d5477e468d7905",
            "15094f8a3d394f7dac3219a0fee30c85",
            "e7e4802c537f43c2859e70aa58d22622",
            "d88cbcc786604bc1a69a7f9c6700ca2c",
            "6179c7a7c11446db9d6bba728a04efdf",
            "64aaed2b610b412e8e16ca748b281915",
            "0058bdeb34ef4fc9b1a205c15847b015",
            "afb8895a4bc14590a2f78bd779ed0c36",
            "82486901d6fa4af1a64630e01341e011",
            "c6886a18e4894f929b987219df603c12",
            "5ad963de7d384aa5a3f6ebf48d406833",
            "6c49ebfa19a941d39ee5fd764eceb2e4",
            "b3bd09e8d57e47f4853bc1c9b9463605",
            "4f63e30aebab4b40ab1cb1ed01539251",
            "e51c745aceaf43d09b43c355f8f80e06",
            "e92245c0717d4057acb6324efbf20fe7",
            "e9e4653e52fe4c3e9f6948c21b6bab6f",
            "9c30583c7bf3430dae9caa0167339e87",
            "5ff3fd0159ac440aab7e5e4a7b2d6bd4",
            "83227f7edb5344109bc96a1abb646945",
            "d84bf66f8385493689afcd48aada69a9"
          ]
        },
        "outputId": "8625a8c0-1aa8-42c4-fdd8-1b472bc63b38"
      },
      "outputs": [
        {
          "output_type": "display_data",
          "data": {
            "text/plain": [
              "Downloading (…)ve/main/spiece.model:   0%|          | 0.00/1.91M [00:00<?, ?B/s]"
            ],
            "application/vnd.jupyter.widget-view+json": {
              "version_major": 2,
              "version_minor": 0,
              "model_id": "52446f9d55724c63a2bf3b79a74782ef"
            }
          },
          "metadata": {}
        },
        {
          "output_type": "display_data",
          "data": {
            "text/plain": [
              "Downloading (…)cial_tokens_map.json:   0%|          | 0.00/65.0 [00:00<?, ?B/s]"
            ],
            "application/vnd.jupyter.widget-view+json": {
              "version_major": 2,
              "version_minor": 0,
              "model_id": "9bb5217c7262420a8bf287b79d79d7f0"
            }
          },
          "metadata": {}
        },
        {
          "output_type": "display_data",
          "data": {
            "text/plain": [
              "Downloading (…)okenizer_config.json:   0%|          | 0.00/88.0 [00:00<?, ?B/s]"
            ],
            "application/vnd.jupyter.widget-view+json": {
              "version_major": 2,
              "version_minor": 0,
              "model_id": "d0eb504170154672ae59068c1b15ea0a"
            }
          },
          "metadata": {}
        },
        {
          "output_type": "display_data",
          "data": {
            "text/plain": [
              "Downloading (…)lve/main/config.json:   0%|          | 0.00/1.12k [00:00<?, ?B/s]"
            ],
            "application/vnd.jupyter.widget-view+json": {
              "version_major": 2,
              "version_minor": 0,
              "model_id": "6a08a95e08c44f0c83f01eaa3042021b"
            }
          },
          "metadata": {}
        },
        {
          "output_type": "display_data",
          "data": {
            "text/plain": [
              "Downloading pytorch_model.bin:   0%|          | 0.00/2.28G [00:00<?, ?B/s]"
            ],
            "application/vnd.jupyter.widget-view+json": {
              "version_major": 2,
              "version_minor": 0,
              "model_id": "a3ed4cdfaa6a416e8578bc867e4ec231"
            }
          },
          "metadata": {}
        },
        {
          "output_type": "display_data",
          "data": {
            "text/plain": [
              "Downloading (…)neration_config.json:   0%|          | 0.00/280 [00:00<?, ?B/s]"
            ],
            "application/vnd.jupyter.widget-view+json": {
              "version_major": 2,
              "version_minor": 0,
              "model_id": "5ad963de7d384aa5a3f6ebf48d406833"
            }
          },
          "metadata": {}
        }
      ],
      "source": [
        "tokenizer = PegasusTokenizer.from_pretrained(model_name)\n",
        "model_P = PegasusForConditionalGeneration.from_pretrained(model_name).to(device)"
      ]
    },
    {
      "cell_type": "code",
      "source": [
        "#BertSum CNN/Dailymail\n",
        "BertSum_Sum = BertSum(model,clips, range = 10, max = 3)\n",
        "Rougesh([[bs] for bs in BertSum_Sum],reference)"
      ],
      "metadata": {
        "id": "94HqoL9l_-73",
        "colab": {
          "base_uri": "https://localhost:8080/",
          "height": 373,
          "referenced_widgets": [
            "bfe89dae4df64450a62547ac3c236cc2",
            "4ab299cb70e9490a85491b53a8df04ab",
            "d92209bab5ae410faa167f795cf6b45d",
            "0f976e4faf7e4bf4baa02fb0cebfdedd",
            "c4fa15bd09a744cdbe2c0641de41d3d5",
            "f6e4cb4af60b463aacfec225f9d1dd26",
            "56cff2cd462b475d9a0f4022929c521a",
            "ab86c8b9770147ec9602f4aa0f7f6c1a",
            "d8a423cc57fa41c3b9ba1503c3f362f1",
            "37c42f174faf4b9696afd79697e30d38",
            "b578c9d8982b425badef823c10699e33",
            "90cd83b5228343c89690ec03a544b2c6",
            "5542ad8e3ae74f5386fb82a8dc52b810",
            "467bdd6a0dae48418255bea66ffb6054",
            "35013c1d78e34892924c09f1dde0f09e",
            "816dc66448cf432ea26b561c9788d837",
            "33fad44a14274afd8a7067646a46acf8",
            "bf4cc2ae58ae433db541a722f3339ee6",
            "dcf3de0be0f242b1a282bcf111a76ccb",
            "38ca4f67b7b842d588a8d4284b3b6cc2",
            "00c7d516fd8a4b31b37af48e0c9fb3e2",
            "a8d52c63ee82493f9149db901b33f1af",
            "34004e68a1f243988c7bce894722d2f0",
            "4a1a67e94d444ea7bd660c8985bf21c8",
            "a39b54a1d52240c09cc2cdcb7253449f",
            "457b3a6487c64c809e6ffc0a0aec9851",
            "380d66ca2b3b45d99eea0e3ff0cb86bc",
            "55ded3eb96464ab28d1571cb57cfdc3e",
            "3f9457ddd77c417fa2106cbebe11e1c9",
            "5b1de602f1b043bfa9d27e1de07d0225",
            "2f9c98b9931847d4b91c819d41babc8a",
            "a6d6434247bf4b759ff4286912aec28b",
            "cf1f86dde6dd49579af23680ce473f27"
          ]
        },
        "outputId": "df3a8bc0-827a-4270-f08e-9eb1db8eae98"
      },
      "execution_count": null,
      "outputs": [
        {
          "output_type": "display_data",
          "data": {
            "text/plain": [
              "Downloading (…)solve/main/vocab.txt:   0%|          | 0.00/232k [00:00<?, ?B/s]"
            ],
            "application/vnd.jupyter.widget-view+json": {
              "version_major": 2,
              "version_minor": 0,
              "model_id": "bfe89dae4df64450a62547ac3c236cc2"
            }
          },
          "metadata": {}
        },
        {
          "output_type": "display_data",
          "data": {
            "text/plain": [
              "Downloading (…)okenizer_config.json:   0%|          | 0.00/28.0 [00:00<?, ?B/s]"
            ],
            "application/vnd.jupyter.widget-view+json": {
              "version_major": 2,
              "version_minor": 0,
              "model_id": "90cd83b5228343c89690ec03a544b2c6"
            }
          },
          "metadata": {}
        },
        {
          "output_type": "display_data",
          "data": {
            "text/plain": [
              "Downloading (…)lve/main/config.json:   0%|          | 0.00/570 [00:00<?, ?B/s]"
            ],
            "application/vnd.jupyter.widget-view+json": {
              "version_major": 2,
              "version_minor": 0,
              "model_id": "34004e68a1f243988c7bce894722d2f0"
            }
          },
          "metadata": {}
        },
        {
          "output_type": "stream",
          "name": "stdout",
          "text": [
            "Average ROUGE-1:\n",
            "Average_R: 0.43213\n",
            "Average_P: 0.31523\n",
            "Average_F: 0.35879\n",
            "---------------------------------------------\n",
            "Average ROUGE-2:\n",
            "Average_R: 0.18370\n",
            "Average_P: 0.12582\n",
            "Average_F: 0.14599\n",
            "---------------------------------------------\n",
            "Average ROUGE-L:\n",
            "Average_R: 0.41519\n",
            "Average_P: 0.30401\n",
            "Average_F: 0.34532\n",
            "---------------------------------------------\n"
          ]
        }
      ]
    },
    {
      "cell_type": "code",
      "source": [
        "#BertSum CNN/Dailymail\n",
        "BertSum_Sum = BertSum(model,clips, range = 10, max = 3)\n",
        "Rougesh([[bs] for bs in BertSum_Sum],reference)"
      ],
      "metadata": {
        "colab": {
          "base_uri": "https://localhost:8080/",
          "height": 373,
          "referenced_widgets": [
            "c6a074e8ab4f44d9b78d89171e522ff7",
            "4828d84f611d414f82a3bd2f78c40114",
            "f5226f240a5e445f9e33ee5d6f5286d3",
            "ee8091feafea467eaf163b2f18e4dbe0",
            "dbe52df1a1ed48418406245129d09e59",
            "ace5157c28514c4abc48784310ea0a0e",
            "763ed2a6cc8148bfbc84be27d5399eeb",
            "77a5bdfc5bd942e1ac6d0f9c1ce23961",
            "064b7993a2a64977bd4da950721df144",
            "391d9e5859c246258c77bd376c1c955b",
            "154b86a66be440a9a3ca6a374d9bde86",
            "3831eb168a794cc6943301687960e608",
            "399db87a508a4a0e9c2f8d57fc500f54",
            "c55cb9eea38a47dfbd640a3d054fe305",
            "685c1039120540638b6be8009a6b2f6b",
            "ad134c1bcad940abb5e90ae0ea89819a",
            "f643485b1f0749c485593defe1fbb55f",
            "9ce79d3c06e4444fb6d2a8849d49fdfd",
            "a67b240c21ad40778c5bc7c34b1d3872",
            "9240253364ce41a18d9f3b4e7a6de89e",
            "34807a2fb7bf46b48b968a99e8d7fe44",
            "5096b3e9824a4dd19ddf06dc79840bbe",
            "3f204dcb42694e729464511356b45156",
            "a4fa301c1c42426a9d550c9dcba49f44",
            "e9198201addc424388db58c8eab06a93",
            "60ef423f056a405c9c11f3ee1e91c967",
            "c0e20519102544459cfe8cc5e713510d",
            "9189e446c0cd43599c7393cfe762944f",
            "46d3407cd60743589245f559afa14bf7",
            "06688f6de7a14da18140d5cfed758efd",
            "e88fbc8e23c140519efc638490d66a79",
            "bd223c0d3b8c4f67932529b6ea774fff",
            "4632d63ba5e14b5ab66a504642abc66b"
          ]
        },
        "id": "fyjBD2Nn-80d",
        "outputId": "3d6cca87-9fe3-44c0-cdab-8844a7e42e77"
      },
      "execution_count": null,
      "outputs": [
        {
          "output_type": "display_data",
          "data": {
            "text/plain": [
              "Downloading (…)solve/main/vocab.txt:   0%|          | 0.00/232k [00:00<?, ?B/s]"
            ],
            "application/vnd.jupyter.widget-view+json": {
              "version_major": 2,
              "version_minor": 0,
              "model_id": "c6a074e8ab4f44d9b78d89171e522ff7"
            }
          },
          "metadata": {}
        },
        {
          "output_type": "display_data",
          "data": {
            "text/plain": [
              "Downloading (…)okenizer_config.json:   0%|          | 0.00/28.0 [00:00<?, ?B/s]"
            ],
            "application/vnd.jupyter.widget-view+json": {
              "version_major": 2,
              "version_minor": 0,
              "model_id": "3831eb168a794cc6943301687960e608"
            }
          },
          "metadata": {}
        },
        {
          "output_type": "display_data",
          "data": {
            "text/plain": [
              "Downloading (…)lve/main/config.json:   0%|          | 0.00/570 [00:00<?, ?B/s]"
            ],
            "application/vnd.jupyter.widget-view+json": {
              "version_major": 2,
              "version_minor": 0,
              "model_id": "3f204dcb42694e729464511356b45156"
            }
          },
          "metadata": {}
        },
        {
          "output_type": "stream",
          "name": "stdout",
          "text": [
            "Average ROUGE-1:\n",
            "Average_R: 0.43213\n",
            "Average_P: 0.31523\n",
            "Average_F: 0.35879\n",
            "---------------------------------------------\n",
            "Average ROUGE-2:\n",
            "Average_R: 0.18370\n",
            "Average_P: 0.12582\n",
            "Average_F: 0.14599\n",
            "---------------------------------------------\n",
            "Average ROUGE-L:\n",
            "Average_R: 0.41519\n",
            "Average_P: 0.30401\n",
            "Average_F: 0.34532\n",
            "---------------------------------------------\n"
          ]
        }
      ]
    },
    {
      "cell_type": "code",
      "source": [
        "#Pegasus\n",
        "P_Sum = Pegasus(model_P,clips, ran = 2)\n",
        "Rougesh(P_Sum,reference)"
      ],
      "metadata": {
        "id": "BhhxOKoEBF5j",
        "colab": {
          "base_uri": "https://localhost:8080/"
        },
        "outputId": "c34090f7-7501-4280-9fce-aa8fc2ed1099"
      },
      "execution_count": null,
      "outputs": [
        {
          "output_type": "stream",
          "name": "stdout",
          "text": [
            "Average ROUGE-1:\n",
            "Average_R: 0.49020\n",
            "Average_P: 0.43353\n",
            "Average_F: 0.45606\n",
            "---------------------------------------------\n",
            "Average ROUGE-2:\n",
            "Average_R: 0.23030\n",
            "Average_P: 0.20643\n",
            "Average_F: 0.21642\n",
            "---------------------------------------------\n",
            "Average ROUGE-L:\n",
            "Average_R: 0.49020\n",
            "Average_P: 0.43353\n",
            "Average_F: 0.45606\n",
            "---------------------------------------------\n"
          ]
        }
      ]
    },
    {
      "cell_type": "code",
      "source": [
        "print(textwrap.fill(clips[1], width = 100))"
      ],
      "metadata": {
        "colab": {
          "base_uri": "https://localhost:8080/"
        },
        "id": "fZ6miZrw9vGf",
        "outputId": "9bdffdef-f985-455c-a352-78d96f8147e3"
      },
      "execution_count": null,
      "outputs": [
        {
          "output_type": "stream",
          "name": "stdout",
          "text": [
            "A drunk teenage boy had to be rescued by security after jumping into a lions' enclosure at a zoo in\n",
            "western India. Rahul Kumar, 17, clambered over the enclosure fence at the Kamla Nehru Zoological\n",
            "Park in Ahmedabad, and began running towards the animals, shouting he would 'kill them'. Mr Kumar\n",
            "explained afterwards that he was drunk and 'thought I'd stand a good chance' against the predators.\n",
            "Next level drunk: Intoxicated Rahul Kumar, 17, climbed into the lions' enclosure at a zoo in\n",
            "Ahmedabad and began running towards the animals shouting 'Today I kill a lion!' Mr Kumar had been\n",
            "sitting near the enclosure when he suddenly made a dash for the lions, surprising zoo security. The\n",
            "intoxicated teenager ran towards the lions, shouting: 'Today I kill a lion or a lion kills me!' A\n",
            "zoo spokesman said: 'Guards had earlier spotted him close to the enclosure but had no idea he was\n",
            "planing to enter it. 'Fortunately, there are eight moats to cross before getting to where the lions\n",
            "usually are and he fell into the second one, allowing guards to catch up with him and take him out.\n",
            "'We then handed him over to the police.' Brave fool: Fortunately, Mr Kumar  fell into a moat as he\n",
            "ran towards the lions and could be rescued by zoo security staff before reaching the animals (stock\n",
            "image) Kumar later explained: 'I don't really know why I did it. 'I was drunk and thought I'd stand\n",
            "a good chance.' A police spokesman said: 'He has been cautioned and will be sent for psychiatric\n",
            "evaluation. 'Fortunately for him, the lions were asleep and the zoo guards acted quickly enough to\n",
            "prevent a tragedy similar to that in Delhi.' Last year a 20-year-old man was mauled to death by a\n",
            "tiger in the Indian capital after climbing into its enclosure at the city zoo.\n"
          ]
        }
      ]
    },
    {
      "cell_type": "markdown",
      "source": [
        "<h1>ROUGE-1</h1>"
      ],
      "metadata": {
        "id": "VFs21U6BCQE9"
      }
    },
    {
      "cell_type": "code",
      "source": [
        "print(\"ROUGE-1\")\n",
        "print(\"BERTSum\")\n",
        "compare_texts(BertSum_Sum[1], reference[1], r = 0)"
      ],
      "metadata": {
        "colab": {
          "base_uri": "https://localhost:8080/",
          "height": 112
        },
        "id": "hsCLjBn4IYVt",
        "outputId": "0554e505-9f20-4db7-e003-b698574e9183"
      },
      "execution_count": null,
      "outputs": [
        {
          "output_type": "stream",
          "name": "stdout",
          "text": [
            "ROUGE-1\n",
            "BERTSum\n"
          ]
        },
        {
          "output_type": "display_data",
          "data": {
            "text/plain": [
              "<IPython.core.display.HTML object>"
            ],
            "text/html": [
              "\n",
              "    <table>\n",
              "        <tr>\n",
              "            <th>Generated</th>\n",
              "            <th>Reference</th>\n",
              "        </tr>\n",
              "        <tr>\n",
              "            <td style=\"padding-right:20px\">                                                                   Next level drunk: Intoxicated <span style=\"color: #00ff00\">Rahul</span> <span style=\"color: #00ff00\">Kumar,</span> <span style=\"color: #00ff00\">17,</span> climbed into the lions' enclosure at a zoo in Ahmedabad and began running <span style=\"color: #00ff00\">towards</span> the <span style=\"color: #00ff00\">animals</span> <span style=\"color: #00ff00\">shouting</span> <span style=\"color: #00ff00\">'Today</span> <span style=\"color: #00ff00\">I</span> <span style=\"color: #00ff00\">kill</span> <span style=\"color: #00ff00\">a</span> <span style=\"color: #00ff00\">lion!'</span> Mr Kumar explained afterwards that <span style=\"color: #00ff00\">he</span> <span style=\"color: #00ff00\">was</span> drunk and 'thought I'd stand a good chance' against the predators. Mr Kumar had been sitting near the enclosure when he suddenly made a dash for the lions, surprising zoo security.</td>\n",
              "            <td>                                      Drunk teenage boy climbed into lion enclosure at zoo in west India . <span style=\"color: #00ff00\">Rahul</span> <span style=\"color: #00ff00\">Kumar,</span> <span style=\"color: #00ff00\">17,</span> ran <span style=\"color: #00ff00\">towards</span> <span style=\"color: #00ff00\">animals</span> <span style=\"color: #00ff00\">shouting</span> <span style=\"color: #00ff00\">'Today</span> <span style=\"color: #00ff00\">I</span> <span style=\"color: #00ff00\">kill</span> <span style=\"color: #00ff00\">a</span> <span style=\"color: #00ff00\">lion!'</span> Fortunately <span style=\"color: #00ff00\">he</span> fell into a moat before reaching lions and <span style=\"color: #00ff00\">was</span> rescued .</td>\n",
              "        </tr>\n",
              "    </table>\n",
              "    "
            ]
          },
          "metadata": {}
        }
      ]
    },
    {
      "cell_type": "code",
      "source": [
        "print(\"PEGASUS\")\n",
        "compare_texts(P_Sum[1][0], reference[1], r = 0)"
      ],
      "metadata": {
        "colab": {
          "base_uri": "https://localhost:8080/",
          "height": 94
        },
        "id": "Yyi5TIsgH-n0",
        "outputId": "400e7bd4-c3f8-4277-ed0e-7e004f823fae"
      },
      "execution_count": null,
      "outputs": [
        {
          "output_type": "stream",
          "name": "stdout",
          "text": [
            "PEGASUS\n"
          ]
        },
        {
          "output_type": "display_data",
          "data": {
            "text/plain": [
              "<IPython.core.display.HTML object>"
            ],
            "text/html": [
              "\n",
              "    <table>\n",
              "        <tr>\n",
              "            <th>Generated</th>\n",
              "            <th>Reference</th>\n",
              "        </tr>\n",
              "        <tr>\n",
              "            <td style=\"padding-right:20px\">                                      <span style=\"color: #00ff00\">Rahul</span> <span style=\"color: #00ff00\">Kumar,</span> <span style=\"color: #00ff00\">17,</span> climbed into the enclosure at Kamla Nehru Zoological Park.<n>He <span style=\"color: #00ff00\">ran</span> <span style=\"color: #00ff00\">towards</span> the <span style=\"color: #00ff00\">animals</span> shouting: <span style=\"color: #00ff00\">'Today</span> <span style=\"color: #00ff00\">I</span> <span style=\"color: #00ff00\">kill</span> <span style=\"color: #00ff00\">a</span> lion or a lion kills me!'<n>Fortunately, <span style=\"color: #00ff00\">he</span> <span style=\"color: #00ff00\">fell</span> <span style=\"color: #00ff00\">into</span> <span style=\"color: #00ff00\">a</span> <span style=\"color: #00ff00\">moat</span> <span style=\"color: #00ff00\">and</span> <span style=\"color: #00ff00\">was</span> <span style=\"color: #00ff00\">rescued</span> by zoo security.</td>\n",
              "            <td>                                      Drunk teenage boy climbed into lion enclosure at zoo in west India . <span style=\"color: #00ff00\">Rahul</span> <span style=\"color: #00ff00\">Kumar,</span> <span style=\"color: #00ff00\">17,</span> <span style=\"color: #00ff00\">ran</span> <span style=\"color: #00ff00\">towards</span> <span style=\"color: #00ff00\">animals</span> shouting <span style=\"color: #00ff00\">'Today</span> <span style=\"color: #00ff00\">I</span> <span style=\"color: #00ff00\">kill</span> <span style=\"color: #00ff00\">a</span> lion!' Fortunately <span style=\"color: #00ff00\">he</span> <span style=\"color: #00ff00\">fell</span> <span style=\"color: #00ff00\">into</span> <span style=\"color: #00ff00\">a</span> <span style=\"color: #00ff00\">moat</span> before reaching lions <span style=\"color: #00ff00\">and</span> <span style=\"color: #00ff00\">was</span> <span style=\"color: #00ff00\">rescued</span> .</td>\n",
              "        </tr>\n",
              "    </table>\n",
              "    "
            ]
          },
          "metadata": {}
        }
      ]
    },
    {
      "cell_type": "markdown",
      "source": [
        "<h1>ROUGE-2</h1>"
      ],
      "metadata": {
        "id": "himKbt-zCbPv"
      }
    },
    {
      "cell_type": "code",
      "source": [
        "print(\"ROUGE-2\")\n",
        "print(\"BERTSum\")\n",
        "compare_texts(BertSum_Sum[1], reference[1], r = 1)"
      ],
      "metadata": {
        "colab": {
          "base_uri": "https://localhost:8080/",
          "height": 112
        },
        "outputId": "73b83dcc-3950-457b-a8f6-b31dcac0417d",
        "id": "7Qyvz34JQk0f"
      },
      "execution_count": null,
      "outputs": [
        {
          "output_type": "stream",
          "name": "stdout",
          "text": [
            "ROUGE-2\n",
            "BERTSum\n"
          ]
        },
        {
          "output_type": "display_data",
          "data": {
            "text/plain": [
              "<IPython.core.display.HTML object>"
            ],
            "text/html": [
              "\n",
              "    <table>\n",
              "        <tr>\n",
              "            <th>Generated</th>\n",
              "            <th>Reference</th>\n",
              "        </tr>\n",
              "        <tr>\n",
              "            <td style=\"padding-right:20px\"><span class=\"normal-text\">Next</span> <span class=\"normal-text\">level</span> <span class=\"normal-text\">drunk:</span> <span class=\"normal-text\">Intoxicated</span> <span style=\"color: #00ff00\">Rahul</span> <span style=\"color: #ff0000\">Kumar,</span> <span style=\"color: #00ff00\">17,</span> <span class=\"normal-text\">climbed</span> <span class=\"normal-text\">into</span> <span class=\"normal-text\">the</span> <span class=\"normal-text\">lions'</span> <span class=\"normal-text\">enclosure</span> <span class=\"normal-text\">at</span> <span class=\"normal-text\">a</span> <span class=\"normal-text\">zoo</span> <span class=\"normal-text\">in</span> <span class=\"normal-text\">Ahmedabad</span> <span class=\"normal-text\">and</span> <span class=\"normal-text\">began</span> <span class=\"normal-text\">running</span> <span class=\"normal-text\">towards</span> <span class=\"normal-text\">the</span> <span style=\"color: #00ff00\">animals</span> <span style=\"color: #ff0000\">shouting</span> <span style=\"color: #ff0000\">'Today</span> <span style=\"color: #ff0000\">I</span> <span style=\"color: #ff0000\">kill</span> <span style=\"color: #ff0000\">a</span> <span style=\"color: #00ff00\">lion!'</span> <span class=\"normal-text\">Mr</span> <span class=\"normal-text\">Kumar</span> <span class=\"normal-text\">explained</span> <span class=\"normal-text\">afterwards</span> <span class=\"normal-text\">that</span> <span class=\"normal-text\">he</span> <span class=\"normal-text\">was</span> <span class=\"normal-text\">drunk</span> <span class=\"normal-text\">and</span> <span class=\"normal-text\">'thought</span> <span class=\"normal-text\">I'd</span> <span class=\"normal-text\">stand</span> <span class=\"normal-text\">a</span> <span class=\"normal-text\">good</span> <span class=\"normal-text\">chance'</span> <span class=\"normal-text\">against</span> <span class=\"normal-text\">the</span> <span class=\"normal-text\">predators.</span> <span class=\"normal-text\">Mr</span> <span class=\"normal-text\">Kumar</span> <span class=\"normal-text\">had</span> <span class=\"normal-text\">been</span> <span class=\"normal-text\">sitting</span> <span class=\"normal-text\">near</span> <span class=\"normal-text\">the</span> <span class=\"normal-text\">enclosure</span> <span class=\"normal-text\">when</span> <span class=\"normal-text\">he</span> <span class=\"normal-text\">suddenly</span> <span class=\"normal-text\">made</span> <span class=\"normal-text\">a</span> <span class=\"normal-text\">dash</span> <span class=\"normal-text\">for</span> <span class=\"normal-text\">the</span> <span class=\"normal-text\">lions,</span> <span class=\"normal-text\">surprising</span> <span class=\"normal-text\">zoo</span> <span class=\"normal-text\">security.</span></td>\n",
              "            <td><span class=\"normal-text\">Drunk</span> <span class=\"normal-text\">teenage</span> <span class=\"normal-text\">boy</span> <span class=\"normal-text\">climbed</span> <span class=\"normal-text\">into</span> <span class=\"normal-text\">lion</span> <span class=\"normal-text\">enclosure</span> <span class=\"normal-text\">at</span> <span class=\"normal-text\">zoo</span> <span class=\"normal-text\">in</span> <span class=\"normal-text\">west</span> <span class=\"normal-text\">India</span> <span class=\"normal-text\">.</span> <span style=\"color: #00ff00\">Rahul</span> <span style=\"color: #ff0000\">Kumar,</span> <span style=\"color: #00ff00\">17,</span> <span class=\"normal-text\">ran</span> <span class=\"normal-text\">towards</span> <span style=\"color: #00ff00\">animals</span> <span style=\"color: #ff0000\">shouting</span> <span style=\"color: #ff0000\">'Today</span> <span style=\"color: #ff0000\">I</span> <span style=\"color: #ff0000\">kill</span> <span style=\"color: #ff0000\">a</span> <span style=\"color: #00ff00\">lion!'</span> <span class=\"normal-text\">Fortunately</span> <span class=\"normal-text\">he</span> <span class=\"normal-text\">fell</span> <span class=\"normal-text\">into</span> <span class=\"normal-text\">a</span> <span class=\"normal-text\">moat</span> <span class=\"normal-text\">before</span> <span class=\"normal-text\">reaching</span> <span class=\"normal-text\">lions</span> <span class=\"normal-text\">and</span> <span class=\"normal-text\">was</span> <span class=\"normal-text\">rescued</span> <span class=\"normal-text\">.</span></td>\n",
              "        </tr>\n",
              "    </table>\n",
              "    "
            ]
          },
          "metadata": {}
        }
      ]
    },
    {
      "cell_type": "code",
      "source": [
        "print(\"PEGASUS\")\n",
        "compare_texts(P_Sum[1][0], reference[1], r = 1)"
      ],
      "metadata": {
        "colab": {
          "base_uri": "https://localhost:8080/",
          "height": 94
        },
        "outputId": "d3a97ee3-3901-478e-c7fc-5370f36abf54",
        "id": "DXLFfJxMQk0l"
      },
      "execution_count": null,
      "outputs": [
        {
          "output_type": "stream",
          "name": "stdout",
          "text": [
            "PEGASUS\n"
          ]
        },
        {
          "output_type": "display_data",
          "data": {
            "text/plain": [
              "<IPython.core.display.HTML object>"
            ],
            "text/html": [
              "\n",
              "    <table>\n",
              "        <tr>\n",
              "            <th>Generated</th>\n",
              "            <th>Reference</th>\n",
              "        </tr>\n",
              "        <tr>\n",
              "            <td style=\"padding-right:20px\"><span style=\"color: #00ff00\">Rahul</span> <span style=\"color: #ff0000\">Kumar,</span> <span style=\"color: #00ff00\">17,</span> <span class=\"normal-text\">climbed</span> <span class=\"normal-text\">into</span> <span class=\"normal-text\">the</span> <span class=\"normal-text\">enclosure</span> <span class=\"normal-text\">at</span> <span class=\"normal-text\">Kamla</span> <span class=\"normal-text\">Nehru</span> <span class=\"normal-text\">Zoological</span> <span class=\"normal-text\">Park.<n>He</span> <span style=\"color: #00ff00\">ran</span> <span style=\"color: #00ff00\">towards</span> <span class=\"normal-text\">the</span> <span class=\"normal-text\">animals</span> <span class=\"normal-text\">shouting:</span> <span style=\"color: #00ff00\">'Today</span> <span style=\"color: #ff0000\">I</span> <span style=\"color: #ff0000\">kill</span> <span style=\"color: #00ff00\">a</span> <span class=\"normal-text\">lion</span> <span class=\"normal-text\">or</span> <span class=\"normal-text\">a</span> <span class=\"normal-text\">lion</span> <span class=\"normal-text\">kills</span> <span class=\"normal-text\">me!'<n>Fortunately,</span> <span style=\"color: #00ff00\">he</span> <span style=\"color: #ff0000\">fell</span> <span style=\"color: #ff0000\">into</span> <span style=\"color: #ff0000\">a</span> <span style=\"color: #00ff00\">moat</span> <span style=\"color: #00ff00\">and</span> <span style=\"color: #ff0000\">was</span> <span style=\"color: #00ff00\">rescued</span> <span class=\"normal-text\">by</span> <span class=\"normal-text\">zoo</span> <span class=\"normal-text\">security.</span></td>\n",
              "            <td><span class=\"normal-text\">Drunk</span> <span class=\"normal-text\">teenage</span> <span class=\"normal-text\">boy</span> <span class=\"normal-text\">climbed</span> <span class=\"normal-text\">into</span> <span class=\"normal-text\">lion</span> <span class=\"normal-text\">enclosure</span> <span class=\"normal-text\">at</span> <span class=\"normal-text\">zoo</span> <span class=\"normal-text\">in</span> <span class=\"normal-text\">west</span> <span class=\"normal-text\">India</span> <span class=\"normal-text\">.</span> <span style=\"color: #00ff00\">Rahul</span> <span style=\"color: #ff0000\">Kumar,</span> <span style=\"color: #00ff00\">17,</span> <span style=\"color: #00ff00\">ran</span> <span style=\"color: #00ff00\">towards</span> <span class=\"normal-text\">animals</span> <span class=\"normal-text\">shouting</span> <span style=\"color: #00ff00\">'Today</span> <span style=\"color: #ff0000\">I</span> <span style=\"color: #ff0000\">kill</span> <span style=\"color: #00ff00\">a</span> <span class=\"normal-text\">lion!'</span> <span class=\"normal-text\">Fortunately</span> <span style=\"color: #00ff00\">he</span> <span style=\"color: #ff0000\">fell</span> <span style=\"color: #ff0000\">into</span> <span style=\"color: #ff0000\">a</span> <span style=\"color: #00ff00\">moat</span> <span class=\"normal-text\">before</span> <span class=\"normal-text\">reaching</span> <span class=\"normal-text\">lions</span> <span style=\"color: #00ff00\">and</span> <span style=\"color: #ff0000\">was</span> <span style=\"color: #00ff00\">rescued</span> <span class=\"normal-text\">.</span></td>\n",
              "        </tr>\n",
              "    </table>\n",
              "    "
            ]
          },
          "metadata": {}
        }
      ]
    },
    {
      "cell_type": "markdown",
      "source": [
        "<h1>ROUGE-L</h1>"
      ],
      "metadata": {
        "id": "H9D4mJOCCc8Z"
      }
    },
    {
      "cell_type": "code",
      "source": [
        "print(\"ROUGE-L\")\n",
        "print(\"BERTSum\")\n",
        "compare_texts(BertSum_Sum[1], reference[1], r = 2)"
      ],
      "metadata": {
        "colab": {
          "base_uri": "https://localhost:8080/",
          "height": 112
        },
        "id": "2gGKMhgjIzdu",
        "outputId": "c2001931-5776-4a5f-a5f0-4271e2d938f3"
      },
      "execution_count": null,
      "outputs": [
        {
          "output_type": "stream",
          "name": "stdout",
          "text": [
            "ROUGE-L\n",
            "BERTSum\n"
          ]
        },
        {
          "output_type": "display_data",
          "data": {
            "text/plain": [
              "<IPython.core.display.HTML object>"
            ],
            "text/html": [
              "\n",
              "    <table>\n",
              "        <tr>\n",
              "            <th>Generated</th>\n",
              "            <th>Reference</th>\n",
              "        </tr>\n",
              "        <tr>\n",
              "            <td style=\"padding-right:20px\">                                                                   Next level drunk: Intoxicated Rahul Kumar, 17, climbed into the lions' enclosure at a zoo in Ahmedabad and began running towards the <span style=\"color: #00ff00\">animals</span> <span style=\"color: #00ff00\">shouting</span> <span style=\"color: #00ff00\">'Today</span> <span style=\"color: #00ff00\">I</span> <span style=\"color: #00ff00\">kill</span> <span style=\"color: #00ff00\">a</span> <span style=\"color: #00ff00\">lion!'</span> Mr Kumar explained afterwards that he was drunk and 'thought I'd stand a good chance' against the predators. Mr Kumar had been sitting near the enclosure when he suddenly made a dash for the lions, surprising zoo security.</td>\n",
              "            <td>                                      Drunk teenage boy climbed into lion enclosure at zoo in west India . Rahul Kumar, 17, ran towards <span style=\"color: #00ff00\">animals</span> <span style=\"color: #00ff00\">shouting</span> <span style=\"color: #00ff00\">'Today</span> <span style=\"color: #00ff00\">I</span> <span style=\"color: #00ff00\">kill</span> <span style=\"color: #00ff00\">a</span> <span style=\"color: #00ff00\">lion!'</span> Fortunately he fell into a moat before reaching lions and was rescued .</td>\n",
              "        </tr>\n",
              "    </table>\n",
              "    "
            ]
          },
          "metadata": {}
        }
      ]
    },
    {
      "cell_type": "code",
      "source": [
        "print(\"PEGASUS\")\n",
        "compare_texts(P_Sum[1][0], reference[1], r = 2)"
      ],
      "metadata": {
        "colab": {
          "base_uri": "https://localhost:8080/",
          "height": 94
        },
        "id": "GhMMC0usJWuM",
        "outputId": "0cf6f8e1-1a4c-4251-d434-337193cd3efd"
      },
      "execution_count": null,
      "outputs": [
        {
          "output_type": "stream",
          "name": "stdout",
          "text": [
            "PEGASUS\n"
          ]
        },
        {
          "output_type": "display_data",
          "data": {
            "text/plain": [
              "<IPython.core.display.HTML object>"
            ],
            "text/html": [
              "\n",
              "    <table>\n",
              "        <tr>\n",
              "            <th>Generated</th>\n",
              "            <th>Reference</th>\n",
              "        </tr>\n",
              "        <tr>\n",
              "            <td style=\"padding-right:20px\">                                      Rahul Kumar, 17, climbed into the enclosure at Kamla Nehru Zoological Park.<n>He ran towards the animals shouting: 'Today I kill a lion or a lion kills me!'<n>Fortunately, <span style=\"color: #00ff00\">he</span> <span style=\"color: #00ff00\">fell</span> <span style=\"color: #00ff00\">into</span> <span style=\"color: #00ff00\">a</span> <span style=\"color: #00ff00\">moat</span> and was rescued by zoo security.</td>\n",
              "            <td>                                      Drunk teenage boy climbed into lion enclosure at zoo in west India . Rahul Kumar, 17, ran towards animals shouting 'Today I kill a lion!' Fortunately <span style=\"color: #00ff00\">he</span> <span style=\"color: #00ff00\">fell</span> <span style=\"color: #00ff00\">into</span> <span style=\"color: #00ff00\">a</span> <span style=\"color: #00ff00\">moat</span> before reaching lions and was rescued .</td>\n",
              "        </tr>\n",
              "    </table>\n",
              "    "
            ]
          },
          "metadata": {}
        }
      ]
    },
    {
      "cell_type": "code",
      "execution_count": null,
      "metadata": {
        "id": "1J-iTNgKlR9b",
        "colab": {
          "base_uri": "https://localhost:8080/"
        },
        "outputId": "0e0a0659-b5ac-464e-8075-c5342cfbb946"
      },
      "outputs": [
        {
          "output_type": "stream",
          "name": "stdout",
          "text": [
            "Downloading...\n",
            "From: https://drive.google.com/uc?id=19YWWVsDJk_KtArI-2Wi1HKU6ldviz32n\n",
            "To: /content/gpt.csv\n",
            "\r  0% 0.00/81.6k [00:00<?, ?B/s]\r100% 81.6k/81.6k [00:00<00:00, 71.4MB/s]\n"
          ]
        }
      ],
      "source": [
        "!gdown 19YWWVsDJk_KtArI-2Wi1HKU6ldviz32n -O gpt.csv"
      ]
    },
    {
      "cell_type": "code",
      "source": [
        "data = pd.read_csv(\"/content/gpt.csv\")"
      ],
      "metadata": {
        "id": "T6fPeOcOFHB9"
      },
      "execution_count": null,
      "outputs": []
    },
    {
      "cell_type": "code",
      "execution_count": null,
      "metadata": {
        "id": "1k-4xZW-mRV1"
      },
      "outputs": [],
      "source": [
        "clips = data['Clips']\n",
        "reference = data['Reference']"
      ]
    },
    {
      "cell_type": "code",
      "source": [
        "summary = BertSum(model,[clips[50]], max = 6)\n",
        "Rougesh([summary],[reference[50]])"
      ],
      "metadata": {
        "colab": {
          "base_uri": "https://localhost:8080/"
        },
        "id": "cOMtkE47zW38",
        "outputId": "ff66d2a0-650a-4a02-bae7-ad67801e0d84"
      },
      "execution_count": null,
      "outputs": [
        {
          "output_type": "stream",
          "name": "stdout",
          "text": [
            "Average ROUGE-1:\n",
            "Average_R: 0.61702\n",
            "Average_P: 0.85294\n",
            "Average_F: 0.71605\n",
            "---------------------------------------------\n",
            "Average ROUGE-2:\n",
            "Average_R: 0.50000\n",
            "Average_P: 0.75676\n",
            "Average_F: 0.60215\n",
            "---------------------------------------------\n",
            "Average ROUGE-L:\n",
            "Average_R: 0.51064\n",
            "Average_P: 0.70588\n",
            "Average_F: 0.59259\n",
            "---------------------------------------------\n"
          ]
        }
      ]
    },
    {
      "cell_type": "code",
      "source": [
        "compare_texts(summary[0], reference[50], r = 0)"
      ],
      "metadata": {
        "colab": {
          "base_uri": "https://localhost:8080/",
          "height": 94
        },
        "id": "_S2ay5takTYo",
        "outputId": "0205ce4e-3aeb-470b-eacd-6eaa103bf8d6"
      },
      "execution_count": null,
      "outputs": [
        {
          "output_type": "display_data",
          "data": {
            "text/plain": [
              "<IPython.core.display.HTML object>"
            ],
            "text/html": [
              "\n",
              "    <table>\n",
              "        <tr>\n",
              "            <th>Generated</th>\n",
              "            <th>Reference</th>\n",
              "        </tr>\n",
              "        <tr>\n",
              "            <td style=\"padding-right:20px\">                                       With each dive, <span style=\"color: #00ff00\">she</span> <span style=\"color: #00ff00\">unraveled</span> <span style=\"color: #00ff00\">the</span> <span style=\"color: #00ff00\">mysteries</span> <span style=\"color: #00ff00\">of</span> <span style=\"color: #00ff00\">the</span> <span style=\"color: #00ff00\">underwater</span> <span style=\"color: #00ff00\">world,</span> <span style=\"color: #00ff00\">documenting</span> <span style=\"color: #00ff00\">new</span> <span style=\"color: #00ff00\">species</span> <span style=\"color: #00ff00\">and</span> <span style=\"color: #00ff00\">advocating</span> <span style=\"color: #00ff00\">for</span> <span style=\"color: #00ff00\">their</span> <span style=\"color: #00ff00\">preservation.</span> Beneath <span style=\"color: #00ff00\">the</span> turbulent waves <span style=\"color: #00ff00\">of</span> <span style=\"color: #00ff00\">the</span> <span style=\"color: #00ff00\">ocean,</span> Lia, a courageous marine biologist, explored the vibrant coral reefs teeming with life.</td>\n",
              "            <td>                                                              Lia, a courageous marine biologist, delved beneath the turbulent waves of the ocean, exploring vibrant coral reefs teeming with life. Through her dives, <span style=\"color: #00ff00\">she</span> <span style=\"color: #00ff00\">unraveled</span> <span style=\"color: #00ff00\">the</span> <span style=\"color: #00ff00\">mysteries</span> <span style=\"color: #00ff00\">of</span> <span style=\"color: #00ff00\">the</span> <span style=\"color: #00ff00\">underwater</span> <span style=\"color: #00ff00\">world,</span> <span style=\"color: #00ff00\">documenting</span> <span style=\"color: #00ff00\">new</span> <span style=\"color: #00ff00\">species</span> <span style=\"color: #00ff00\">and</span> <span style=\"color: #00ff00\">advocating</span> <span style=\"color: #00ff00\">for</span> <span style=\"color: #00ff00\">their</span> <span style=\"color: #00ff00\">preservation.</span> Lia's passion for marine conservation propelled her to protect <span style=\"color: #00ff00\">the</span> delicate balance <span style=\"color: #00ff00\">of</span> <span style=\"color: #00ff00\">the</span> <span style=\"color: #00ff00\">ocean,</span> revealing its beauty and advocating for its protection.</td>\n",
              "        </tr>\n",
              "    </table>\n",
              "    "
            ]
          },
          "metadata": {}
        }
      ]
    },
    {
      "cell_type": "code",
      "source": [
        "compare_texts(summary[0], reference[50], r = 1)"
      ],
      "metadata": {
        "colab": {
          "base_uri": "https://localhost:8080/",
          "height": 94
        },
        "id": "m4f8Eb5586jH",
        "outputId": "69c912bb-eb61-449d-dbb6-556b4a54e29f"
      },
      "execution_count": null,
      "outputs": [
        {
          "output_type": "display_data",
          "data": {
            "text/plain": [
              "<IPython.core.display.HTML object>"
            ],
            "text/html": [
              "\n",
              "    <table>\n",
              "        <tr>\n",
              "            <th>Generated</th>\n",
              "            <th>Reference</th>\n",
              "        </tr>\n",
              "        <tr>\n",
              "            <td style=\"padding-right:20px\"><span class=\"normal-text\">With</span> <span class=\"normal-text\">each</span> <span class=\"normal-text\">dive,</span> <span style=\"color: #00ff00\">she</span> <span style=\"color: #ff0000\">unraveled</span> <span style=\"color: #ff0000\">the</span> <span style=\"color: #ff0000\">mysteries</span> <span style=\"color: #ff0000\">of</span> <span style=\"color: #ff0000\">the</span> <span style=\"color: #ff0000\">underwater</span> <span style=\"color: #ff0000\">world,</span> <span style=\"color: #ff0000\">documenting</span> <span style=\"color: #ff0000\">new</span> <span style=\"color: #ff0000\">species</span> <span style=\"color: #ff0000\">and</span> <span style=\"color: #ff0000\">advocating</span> <span style=\"color: #ff0000\">for</span> <span style=\"color: #ff0000\">their</span> <span style=\"color: #00ff00\">preservation.</span> <span class=\"normal-text\">Beneath</span> <span class=\"normal-text\">the</span> <span class=\"normal-text\">turbulent</span> <span class=\"normal-text\">waves</span> <span style=\"color: #00ff00\">of</span> <span style=\"color: #ff0000\">the</span> <span style=\"color: #00ff00\">ocean,</span> <span class=\"normal-text\">Lia,</span> <span class=\"normal-text\">a</span> <span class=\"normal-text\">courageous</span> <span class=\"normal-text\">marine</span> <span class=\"normal-text\">biologist,</span> <span class=\"normal-text\">explored</span> <span class=\"normal-text\">the</span> <span class=\"normal-text\">vibrant</span> <span class=\"normal-text\">coral</span> <span class=\"normal-text\">reefs</span> <span class=\"normal-text\">teeming</span> <span class=\"normal-text\">with</span> <span class=\"normal-text\">life.</span></td>\n",
              "            <td><span class=\"normal-text\">Lia,</span> <span class=\"normal-text\">a</span> <span class=\"normal-text\">courageous</span> <span class=\"normal-text\">marine</span> <span class=\"normal-text\">biologist,</span> <span class=\"normal-text\">delved</span> <span class=\"normal-text\">beneath</span> <span class=\"normal-text\">the</span> <span class=\"normal-text\">turbulent</span> <span class=\"normal-text\">waves</span> <span class=\"normal-text\">of</span> <span class=\"normal-text\">the</span> <span class=\"normal-text\">ocean,</span> <span class=\"normal-text\">exploring</span> <span class=\"normal-text\">vibrant</span> <span class=\"normal-text\">coral</span> <span class=\"normal-text\">reefs</span> <span class=\"normal-text\">teeming</span> <span class=\"normal-text\">with</span> <span class=\"normal-text\">life.</span> <span class=\"normal-text\">Through</span> <span class=\"normal-text\">her</span> <span class=\"normal-text\">dives,</span> <span style=\"color: #00ff00\">she</span> <span style=\"color: #ff0000\">unraveled</span> <span style=\"color: #ff0000\">the</span> <span style=\"color: #ff0000\">mysteries</span> <span style=\"color: #ff0000\">of</span> <span style=\"color: #ff0000\">the</span> <span style=\"color: #ff0000\">underwater</span> <span style=\"color: #ff0000\">world,</span> <span style=\"color: #ff0000\">documenting</span> <span style=\"color: #ff0000\">new</span> <span style=\"color: #ff0000\">species</span> <span style=\"color: #ff0000\">and</span> <span style=\"color: #ff0000\">advocating</span> <span style=\"color: #ff0000\">for</span> <span style=\"color: #ff0000\">their</span> <span style=\"color: #00ff00\">preservation.</span> <span class=\"normal-text\">Lia's</span> <span class=\"normal-text\">passion</span> <span class=\"normal-text\">for</span> <span class=\"normal-text\">marine</span> <span class=\"normal-text\">conservation</span> <span class=\"normal-text\">propelled</span> <span class=\"normal-text\">her</span> <span class=\"normal-text\">to</span> <span class=\"normal-text\">protect</span> <span class=\"normal-text\">the</span> <span class=\"normal-text\">delicate</span> <span class=\"normal-text\">balance</span> <span style=\"color: #00ff00\">of</span> <span style=\"color: #ff0000\">the</span> <span style=\"color: #00ff00\">ocean,</span> <span class=\"normal-text\">revealing</span> <span class=\"normal-text\">its</span> <span class=\"normal-text\">beauty</span> <span class=\"normal-text\">and</span> <span class=\"normal-text\">advocating</span> <span class=\"normal-text\">for</span> <span class=\"normal-text\">its</span> <span class=\"normal-text\">protection.</span></td>\n",
              "        </tr>\n",
              "    </table>\n",
              "    "
            ]
          },
          "metadata": {}
        }
      ]
    },
    {
      "cell_type": "code",
      "source": [
        "compare_texts(summary[0], reference[50], r = 2)"
      ],
      "metadata": {
        "colab": {
          "base_uri": "https://localhost:8080/",
          "height": 94
        },
        "id": "IqV2ZcgprBzQ",
        "outputId": "b2b5c2c2-b4f9-495b-d47c-f960a854385b"
      },
      "execution_count": null,
      "outputs": [
        {
          "output_type": "display_data",
          "data": {
            "text/plain": [
              "<IPython.core.display.HTML object>"
            ],
            "text/html": [
              "\n",
              "    <table>\n",
              "        <tr>\n",
              "            <th>Generated</th>\n",
              "            <th>Reference</th>\n",
              "        </tr>\n",
              "        <tr>\n",
              "            <td style=\"padding-right:20px\">                                       With each dive, <span style=\"color: #00ff00\">she</span> <span style=\"color: #00ff00\">unraveled</span> <span style=\"color: #00ff00\">the</span> <span style=\"color: #00ff00\">mysteries</span> <span style=\"color: #00ff00\">of</span> <span style=\"color: #00ff00\">the</span> <span style=\"color: #00ff00\">underwater</span> <span style=\"color: #00ff00\">world,</span> <span style=\"color: #00ff00\">documenting</span> <span style=\"color: #00ff00\">new</span> <span style=\"color: #00ff00\">species</span> <span style=\"color: #00ff00\">and</span> <span style=\"color: #00ff00\">advocating</span> <span style=\"color: #00ff00\">for</span> <span style=\"color: #00ff00\">their</span> <span style=\"color: #00ff00\">preservation.</span> Beneath the turbulent waves of the ocean, Lia, a courageous marine biologist, explored the vibrant coral reefs teeming with life.</td>\n",
              "            <td>                                                              Lia, a courageous marine biologist, delved beneath the turbulent waves of the ocean, exploring vibrant coral reefs teeming with life. Through her dives, <span style=\"color: #00ff00\">she</span> <span style=\"color: #00ff00\">unraveled</span> <span style=\"color: #00ff00\">the</span> <span style=\"color: #00ff00\">mysteries</span> <span style=\"color: #00ff00\">of</span> <span style=\"color: #00ff00\">the</span> <span style=\"color: #00ff00\">underwater</span> <span style=\"color: #00ff00\">world,</span> <span style=\"color: #00ff00\">documenting</span> <span style=\"color: #00ff00\">new</span> <span style=\"color: #00ff00\">species</span> <span style=\"color: #00ff00\">and</span> <span style=\"color: #00ff00\">advocating</span> <span style=\"color: #00ff00\">for</span> <span style=\"color: #00ff00\">their</span> <span style=\"color: #00ff00\">preservation.</span> Lia's passion for marine conservation propelled her to protect the delicate balance of the ocean, revealing its beauty and advocating for its protection.</td>\n",
              "        </tr>\n",
              "    </table>\n",
              "    "
            ]
          },
          "metadata": {}
        }
      ]
    },
    {
      "cell_type": "code",
      "source": [
        "#Pegasus GPT 3.5\n",
        "P_Sum = Pegasus(model_P,clips,ran = len(clips))\n",
        "Rougesh(P_Sum, reference)"
      ],
      "metadata": {
        "id": "4r_rmuB8DHr3",
        "colab": {
          "base_uri": "https://localhost:8080/"
        },
        "outputId": "85e86f74-b353-485e-fc60-ae61d269aeaa"
      },
      "execution_count": null,
      "outputs": [
        {
          "output_type": "stream",
          "name": "stdout",
          "text": [
            "Average ROUGE-1:\n",
            "Average_R: 0.47032\n",
            "Average_P: 0.54015\n",
            "Average_F: 0.47664\n",
            "---------------------------------------------\n",
            "Average ROUGE-2:\n",
            "Average_R: 0.29543\n",
            "Average_P: 0.36953\n",
            "Average_F: 0.30837\n",
            "---------------------------------------------\n",
            "Average ROUGE-L:\n",
            "Average_R: 0.43073\n",
            "Average_P: 0.50310\n",
            "Average_F: 0.43991\n",
            "---------------------------------------------\n"
          ]
        }
      ]
    },
    {
      "cell_type": "code",
      "source": [
        "#BertSum GPT 3.5\n",
        "BertSum_Sum = BertSum(model,clips, leng = 6)\n",
        "Rougesh([[x] for x in BertSum_Sum],reference)"
      ],
      "metadata": {
        "id": "xVpQxZ8qDHrn",
        "colab": {
          "base_uri": "https://localhost:8080/"
        },
        "outputId": "0ba5ebda-c7d3-4d1f-ac95-28be7eb21baf"
      },
      "execution_count": null,
      "outputs": [
        {
          "output_type": "stream",
          "name": "stdout",
          "text": [
            "Average ROUGE-1:\n",
            "Average_R: 0.63973\n",
            "Average_P: 0.52855\n",
            "Average_F: 0.55449\n",
            "---------------------------------------------\n",
            "Average ROUGE-2:\n",
            "Average_R: 0.42687\n",
            "Average_P: 0.37153\n",
            "Average_F: 0.37909\n",
            "---------------------------------------------\n",
            "Average ROUGE-L:\n",
            "Average_R: 0.58047\n",
            "Average_P: 0.48641\n",
            "Average_F: 0.50706\n",
            "---------------------------------------------\n"
          ]
        }
      ]
    }
  ],
  "metadata": {
    "colab": {
      "provenance": [],
      "gpuType": "T4"
    },
    "kernelspec": {
      "display_name": "Python 3",
      "name": "python3"
    },
    "language_info": {
      "name": "python"
    },
    "accelerator": "GPU",
    "widgets": {
      "application/vnd.jupyter.widget-state+json": {
        "52446f9d55724c63a2bf3b79a74782ef": {
          "model_module": "@jupyter-widgets/controls",
          "model_name": "HBoxModel",
          "model_module_version": "1.5.0",
          "state": {
            "_dom_classes": [],
            "_model_module": "@jupyter-widgets/controls",
            "_model_module_version": "1.5.0",
            "_model_name": "HBoxModel",
            "_view_count": null,
            "_view_module": "@jupyter-widgets/controls",
            "_view_module_version": "1.5.0",
            "_view_name": "HBoxView",
            "box_style": "",
            "children": [
              "IPY_MODEL_970de179392d4382a3e9926662ac37d1",
              "IPY_MODEL_6e34423a6e874c5c8f2faf2861f16eef",
              "IPY_MODEL_f3e349281c7a46f08432e6ae8a7d875d"
            ],
            "layout": "IPY_MODEL_ea66f025ba6449bc821f6e9e6b52bf85"
          }
        },
        "970de179392d4382a3e9926662ac37d1": {
          "model_module": "@jupyter-widgets/controls",
          "model_name": "HTMLModel",
          "model_module_version": "1.5.0",
          "state": {
            "_dom_classes": [],
            "_model_module": "@jupyter-widgets/controls",
            "_model_module_version": "1.5.0",
            "_model_name": "HTMLModel",
            "_view_count": null,
            "_view_module": "@jupyter-widgets/controls",
            "_view_module_version": "1.5.0",
            "_view_name": "HTMLView",
            "description": "",
            "description_tooltip": null,
            "layout": "IPY_MODEL_55a4db357d0848b5ba76c4f354738d73",
            "placeholder": "​",
            "style": "IPY_MODEL_28456bfb81d547319a70938939395be5",
            "value": "Downloading (…)ve/main/spiece.model: 100%"
          }
        },
        "6e34423a6e874c5c8f2faf2861f16eef": {
          "model_module": "@jupyter-widgets/controls",
          "model_name": "FloatProgressModel",
          "model_module_version": "1.5.0",
          "state": {
            "_dom_classes": [],
            "_model_module": "@jupyter-widgets/controls",
            "_model_module_version": "1.5.0",
            "_model_name": "FloatProgressModel",
            "_view_count": null,
            "_view_module": "@jupyter-widgets/controls",
            "_view_module_version": "1.5.0",
            "_view_name": "ProgressView",
            "bar_style": "success",
            "description": "",
            "description_tooltip": null,
            "layout": "IPY_MODEL_325cab1b2e9344e1a41dd7f4905f94a1",
            "max": 1912529,
            "min": 0,
            "orientation": "horizontal",
            "style": "IPY_MODEL_86edbb4912dc409cba01fff002483b4a",
            "value": 1912529
          }
        },
        "f3e349281c7a46f08432e6ae8a7d875d": {
          "model_module": "@jupyter-widgets/controls",
          "model_name": "HTMLModel",
          "model_module_version": "1.5.0",
          "state": {
            "_dom_classes": [],
            "_model_module": "@jupyter-widgets/controls",
            "_model_module_version": "1.5.0",
            "_model_name": "HTMLModel",
            "_view_count": null,
            "_view_module": "@jupyter-widgets/controls",
            "_view_module_version": "1.5.0",
            "_view_name": "HTMLView",
            "description": "",
            "description_tooltip": null,
            "layout": "IPY_MODEL_3f09d21480404652bf442d3aa9b70fe8",
            "placeholder": "​",
            "style": "IPY_MODEL_198d9b36f983475788f8885719c1af8a",
            "value": " 1.91M/1.91M [00:00&lt;00:00, 2.28MB/s]"
          }
        },
        "ea66f025ba6449bc821f6e9e6b52bf85": {
          "model_module": "@jupyter-widgets/base",
          "model_name": "LayoutModel",
          "model_module_version": "1.2.0",
          "state": {
            "_model_module": "@jupyter-widgets/base",
            "_model_module_version": "1.2.0",
            "_model_name": "LayoutModel",
            "_view_count": null,
            "_view_module": "@jupyter-widgets/base",
            "_view_module_version": "1.2.0",
            "_view_name": "LayoutView",
            "align_content": null,
            "align_items": null,
            "align_self": null,
            "border": null,
            "bottom": null,
            "display": null,
            "flex": null,
            "flex_flow": null,
            "grid_area": null,
            "grid_auto_columns": null,
            "grid_auto_flow": null,
            "grid_auto_rows": null,
            "grid_column": null,
            "grid_gap": null,
            "grid_row": null,
            "grid_template_areas": null,
            "grid_template_columns": null,
            "grid_template_rows": null,
            "height": null,
            "justify_content": null,
            "justify_items": null,
            "left": null,
            "margin": null,
            "max_height": null,
            "max_width": null,
            "min_height": null,
            "min_width": null,
            "object_fit": null,
            "object_position": null,
            "order": null,
            "overflow": null,
            "overflow_x": null,
            "overflow_y": null,
            "padding": null,
            "right": null,
            "top": null,
            "visibility": null,
            "width": null
          }
        },
        "55a4db357d0848b5ba76c4f354738d73": {
          "model_module": "@jupyter-widgets/base",
          "model_name": "LayoutModel",
          "model_module_version": "1.2.0",
          "state": {
            "_model_module": "@jupyter-widgets/base",
            "_model_module_version": "1.2.0",
            "_model_name": "LayoutModel",
            "_view_count": null,
            "_view_module": "@jupyter-widgets/base",
            "_view_module_version": "1.2.0",
            "_view_name": "LayoutView",
            "align_content": null,
            "align_items": null,
            "align_self": null,
            "border": null,
            "bottom": null,
            "display": null,
            "flex": null,
            "flex_flow": null,
            "grid_area": null,
            "grid_auto_columns": null,
            "grid_auto_flow": null,
            "grid_auto_rows": null,
            "grid_column": null,
            "grid_gap": null,
            "grid_row": null,
            "grid_template_areas": null,
            "grid_template_columns": null,
            "grid_template_rows": null,
            "height": null,
            "justify_content": null,
            "justify_items": null,
            "left": null,
            "margin": null,
            "max_height": null,
            "max_width": null,
            "min_height": null,
            "min_width": null,
            "object_fit": null,
            "object_position": null,
            "order": null,
            "overflow": null,
            "overflow_x": null,
            "overflow_y": null,
            "padding": null,
            "right": null,
            "top": null,
            "visibility": null,
            "width": null
          }
        },
        "28456bfb81d547319a70938939395be5": {
          "model_module": "@jupyter-widgets/controls",
          "model_name": "DescriptionStyleModel",
          "model_module_version": "1.5.0",
          "state": {
            "_model_module": "@jupyter-widgets/controls",
            "_model_module_version": "1.5.0",
            "_model_name": "DescriptionStyleModel",
            "_view_count": null,
            "_view_module": "@jupyter-widgets/base",
            "_view_module_version": "1.2.0",
            "_view_name": "StyleView",
            "description_width": ""
          }
        },
        "325cab1b2e9344e1a41dd7f4905f94a1": {
          "model_module": "@jupyter-widgets/base",
          "model_name": "LayoutModel",
          "model_module_version": "1.2.0",
          "state": {
            "_model_module": "@jupyter-widgets/base",
            "_model_module_version": "1.2.0",
            "_model_name": "LayoutModel",
            "_view_count": null,
            "_view_module": "@jupyter-widgets/base",
            "_view_module_version": "1.2.0",
            "_view_name": "LayoutView",
            "align_content": null,
            "align_items": null,
            "align_self": null,
            "border": null,
            "bottom": null,
            "display": null,
            "flex": null,
            "flex_flow": null,
            "grid_area": null,
            "grid_auto_columns": null,
            "grid_auto_flow": null,
            "grid_auto_rows": null,
            "grid_column": null,
            "grid_gap": null,
            "grid_row": null,
            "grid_template_areas": null,
            "grid_template_columns": null,
            "grid_template_rows": null,
            "height": null,
            "justify_content": null,
            "justify_items": null,
            "left": null,
            "margin": null,
            "max_height": null,
            "max_width": null,
            "min_height": null,
            "min_width": null,
            "object_fit": null,
            "object_position": null,
            "order": null,
            "overflow": null,
            "overflow_x": null,
            "overflow_y": null,
            "padding": null,
            "right": null,
            "top": null,
            "visibility": null,
            "width": null
          }
        },
        "86edbb4912dc409cba01fff002483b4a": {
          "model_module": "@jupyter-widgets/controls",
          "model_name": "ProgressStyleModel",
          "model_module_version": "1.5.0",
          "state": {
            "_model_module": "@jupyter-widgets/controls",
            "_model_module_version": "1.5.0",
            "_model_name": "ProgressStyleModel",
            "_view_count": null,
            "_view_module": "@jupyter-widgets/base",
            "_view_module_version": "1.2.0",
            "_view_name": "StyleView",
            "bar_color": null,
            "description_width": ""
          }
        },
        "3f09d21480404652bf442d3aa9b70fe8": {
          "model_module": "@jupyter-widgets/base",
          "model_name": "LayoutModel",
          "model_module_version": "1.2.0",
          "state": {
            "_model_module": "@jupyter-widgets/base",
            "_model_module_version": "1.2.0",
            "_model_name": "LayoutModel",
            "_view_count": null,
            "_view_module": "@jupyter-widgets/base",
            "_view_module_version": "1.2.0",
            "_view_name": "LayoutView",
            "align_content": null,
            "align_items": null,
            "align_self": null,
            "border": null,
            "bottom": null,
            "display": null,
            "flex": null,
            "flex_flow": null,
            "grid_area": null,
            "grid_auto_columns": null,
            "grid_auto_flow": null,
            "grid_auto_rows": null,
            "grid_column": null,
            "grid_gap": null,
            "grid_row": null,
            "grid_template_areas": null,
            "grid_template_columns": null,
            "grid_template_rows": null,
            "height": null,
            "justify_content": null,
            "justify_items": null,
            "left": null,
            "margin": null,
            "max_height": null,
            "max_width": null,
            "min_height": null,
            "min_width": null,
            "object_fit": null,
            "object_position": null,
            "order": null,
            "overflow": null,
            "overflow_x": null,
            "overflow_y": null,
            "padding": null,
            "right": null,
            "top": null,
            "visibility": null,
            "width": null
          }
        },
        "198d9b36f983475788f8885719c1af8a": {
          "model_module": "@jupyter-widgets/controls",
          "model_name": "DescriptionStyleModel",
          "model_module_version": "1.5.0",
          "state": {
            "_model_module": "@jupyter-widgets/controls",
            "_model_module_version": "1.5.0",
            "_model_name": "DescriptionStyleModel",
            "_view_count": null,
            "_view_module": "@jupyter-widgets/base",
            "_view_module_version": "1.2.0",
            "_view_name": "StyleView",
            "description_width": ""
          }
        },
        "9bb5217c7262420a8bf287b79d79d7f0": {
          "model_module": "@jupyter-widgets/controls",
          "model_name": "HBoxModel",
          "model_module_version": "1.5.0",
          "state": {
            "_dom_classes": [],
            "_model_module": "@jupyter-widgets/controls",
            "_model_module_version": "1.5.0",
            "_model_name": "HBoxModel",
            "_view_count": null,
            "_view_module": "@jupyter-widgets/controls",
            "_view_module_version": "1.5.0",
            "_view_name": "HBoxView",
            "box_style": "",
            "children": [
              "IPY_MODEL_3f3323298e1346f7881551f4b02c1cd3",
              "IPY_MODEL_12f7cc82f6b245e89c2821ca3d2b9bfc",
              "IPY_MODEL_2d461ea903764b5e9cb18c5ca55c95c1"
            ],
            "layout": "IPY_MODEL_e8ab8853484d4c2d9cb0d63f1303653a"
          }
        },
        "3f3323298e1346f7881551f4b02c1cd3": {
          "model_module": "@jupyter-widgets/controls",
          "model_name": "HTMLModel",
          "model_module_version": "1.5.0",
          "state": {
            "_dom_classes": [],
            "_model_module": "@jupyter-widgets/controls",
            "_model_module_version": "1.5.0",
            "_model_name": "HTMLModel",
            "_view_count": null,
            "_view_module": "@jupyter-widgets/controls",
            "_view_module_version": "1.5.0",
            "_view_name": "HTMLView",
            "description": "",
            "description_tooltip": null,
            "layout": "IPY_MODEL_c2addb39a014479eb7470328e4d76659",
            "placeholder": "​",
            "style": "IPY_MODEL_6dec6ba2d8874f48aa9a0246c4c9069a",
            "value": "Downloading (…)cial_tokens_map.json: 100%"
          }
        },
        "12f7cc82f6b245e89c2821ca3d2b9bfc": {
          "model_module": "@jupyter-widgets/controls",
          "model_name": "FloatProgressModel",
          "model_module_version": "1.5.0",
          "state": {
            "_dom_classes": [],
            "_model_module": "@jupyter-widgets/controls",
            "_model_module_version": "1.5.0",
            "_model_name": "FloatProgressModel",
            "_view_count": null,
            "_view_module": "@jupyter-widgets/controls",
            "_view_module_version": "1.5.0",
            "_view_name": "ProgressView",
            "bar_style": "success",
            "description": "",
            "description_tooltip": null,
            "layout": "IPY_MODEL_62f6d8c6d1ea4e148e3135fbc996b19e",
            "max": 65,
            "min": 0,
            "orientation": "horizontal",
            "style": "IPY_MODEL_d94d74ccdd134d08a189a0cc0aa145dd",
            "value": 65
          }
        },
        "2d461ea903764b5e9cb18c5ca55c95c1": {
          "model_module": "@jupyter-widgets/controls",
          "model_name": "HTMLModel",
          "model_module_version": "1.5.0",
          "state": {
            "_dom_classes": [],
            "_model_module": "@jupyter-widgets/controls",
            "_model_module_version": "1.5.0",
            "_model_name": "HTMLModel",
            "_view_count": null,
            "_view_module": "@jupyter-widgets/controls",
            "_view_module_version": "1.5.0",
            "_view_name": "HTMLView",
            "description": "",
            "description_tooltip": null,
            "layout": "IPY_MODEL_37cfaa90bd514c009b02c95f1f788610",
            "placeholder": "​",
            "style": "IPY_MODEL_c4ef8ab371f94218bebbd7fc0713eed8",
            "value": " 65.0/65.0 [00:00&lt;00:00, 1.61kB/s]"
          }
        },
        "e8ab8853484d4c2d9cb0d63f1303653a": {
          "model_module": "@jupyter-widgets/base",
          "model_name": "LayoutModel",
          "model_module_version": "1.2.0",
          "state": {
            "_model_module": "@jupyter-widgets/base",
            "_model_module_version": "1.2.0",
            "_model_name": "LayoutModel",
            "_view_count": null,
            "_view_module": "@jupyter-widgets/base",
            "_view_module_version": "1.2.0",
            "_view_name": "LayoutView",
            "align_content": null,
            "align_items": null,
            "align_self": null,
            "border": null,
            "bottom": null,
            "display": null,
            "flex": null,
            "flex_flow": null,
            "grid_area": null,
            "grid_auto_columns": null,
            "grid_auto_flow": null,
            "grid_auto_rows": null,
            "grid_column": null,
            "grid_gap": null,
            "grid_row": null,
            "grid_template_areas": null,
            "grid_template_columns": null,
            "grid_template_rows": null,
            "height": null,
            "justify_content": null,
            "justify_items": null,
            "left": null,
            "margin": null,
            "max_height": null,
            "max_width": null,
            "min_height": null,
            "min_width": null,
            "object_fit": null,
            "object_position": null,
            "order": null,
            "overflow": null,
            "overflow_x": null,
            "overflow_y": null,
            "padding": null,
            "right": null,
            "top": null,
            "visibility": null,
            "width": null
          }
        },
        "c2addb39a014479eb7470328e4d76659": {
          "model_module": "@jupyter-widgets/base",
          "model_name": "LayoutModel",
          "model_module_version": "1.2.0",
          "state": {
            "_model_module": "@jupyter-widgets/base",
            "_model_module_version": "1.2.0",
            "_model_name": "LayoutModel",
            "_view_count": null,
            "_view_module": "@jupyter-widgets/base",
            "_view_module_version": "1.2.0",
            "_view_name": "LayoutView",
            "align_content": null,
            "align_items": null,
            "align_self": null,
            "border": null,
            "bottom": null,
            "display": null,
            "flex": null,
            "flex_flow": null,
            "grid_area": null,
            "grid_auto_columns": null,
            "grid_auto_flow": null,
            "grid_auto_rows": null,
            "grid_column": null,
            "grid_gap": null,
            "grid_row": null,
            "grid_template_areas": null,
            "grid_template_columns": null,
            "grid_template_rows": null,
            "height": null,
            "justify_content": null,
            "justify_items": null,
            "left": null,
            "margin": null,
            "max_height": null,
            "max_width": null,
            "min_height": null,
            "min_width": null,
            "object_fit": null,
            "object_position": null,
            "order": null,
            "overflow": null,
            "overflow_x": null,
            "overflow_y": null,
            "padding": null,
            "right": null,
            "top": null,
            "visibility": null,
            "width": null
          }
        },
        "6dec6ba2d8874f48aa9a0246c4c9069a": {
          "model_module": "@jupyter-widgets/controls",
          "model_name": "DescriptionStyleModel",
          "model_module_version": "1.5.0",
          "state": {
            "_model_module": "@jupyter-widgets/controls",
            "_model_module_version": "1.5.0",
            "_model_name": "DescriptionStyleModel",
            "_view_count": null,
            "_view_module": "@jupyter-widgets/base",
            "_view_module_version": "1.2.0",
            "_view_name": "StyleView",
            "description_width": ""
          }
        },
        "62f6d8c6d1ea4e148e3135fbc996b19e": {
          "model_module": "@jupyter-widgets/base",
          "model_name": "LayoutModel",
          "model_module_version": "1.2.0",
          "state": {
            "_model_module": "@jupyter-widgets/base",
            "_model_module_version": "1.2.0",
            "_model_name": "LayoutModel",
            "_view_count": null,
            "_view_module": "@jupyter-widgets/base",
            "_view_module_version": "1.2.0",
            "_view_name": "LayoutView",
            "align_content": null,
            "align_items": null,
            "align_self": null,
            "border": null,
            "bottom": null,
            "display": null,
            "flex": null,
            "flex_flow": null,
            "grid_area": null,
            "grid_auto_columns": null,
            "grid_auto_flow": null,
            "grid_auto_rows": null,
            "grid_column": null,
            "grid_gap": null,
            "grid_row": null,
            "grid_template_areas": null,
            "grid_template_columns": null,
            "grid_template_rows": null,
            "height": null,
            "justify_content": null,
            "justify_items": null,
            "left": null,
            "margin": null,
            "max_height": null,
            "max_width": null,
            "min_height": null,
            "min_width": null,
            "object_fit": null,
            "object_position": null,
            "order": null,
            "overflow": null,
            "overflow_x": null,
            "overflow_y": null,
            "padding": null,
            "right": null,
            "top": null,
            "visibility": null,
            "width": null
          }
        },
        "d94d74ccdd134d08a189a0cc0aa145dd": {
          "model_module": "@jupyter-widgets/controls",
          "model_name": "ProgressStyleModel",
          "model_module_version": "1.5.0",
          "state": {
            "_model_module": "@jupyter-widgets/controls",
            "_model_module_version": "1.5.0",
            "_model_name": "ProgressStyleModel",
            "_view_count": null,
            "_view_module": "@jupyter-widgets/base",
            "_view_module_version": "1.2.0",
            "_view_name": "StyleView",
            "bar_color": null,
            "description_width": ""
          }
        },
        "37cfaa90bd514c009b02c95f1f788610": {
          "model_module": "@jupyter-widgets/base",
          "model_name": "LayoutModel",
          "model_module_version": "1.2.0",
          "state": {
            "_model_module": "@jupyter-widgets/base",
            "_model_module_version": "1.2.0",
            "_model_name": "LayoutModel",
            "_view_count": null,
            "_view_module": "@jupyter-widgets/base",
            "_view_module_version": "1.2.0",
            "_view_name": "LayoutView",
            "align_content": null,
            "align_items": null,
            "align_self": null,
            "border": null,
            "bottom": null,
            "display": null,
            "flex": null,
            "flex_flow": null,
            "grid_area": null,
            "grid_auto_columns": null,
            "grid_auto_flow": null,
            "grid_auto_rows": null,
            "grid_column": null,
            "grid_gap": null,
            "grid_row": null,
            "grid_template_areas": null,
            "grid_template_columns": null,
            "grid_template_rows": null,
            "height": null,
            "justify_content": null,
            "justify_items": null,
            "left": null,
            "margin": null,
            "max_height": null,
            "max_width": null,
            "min_height": null,
            "min_width": null,
            "object_fit": null,
            "object_position": null,
            "order": null,
            "overflow": null,
            "overflow_x": null,
            "overflow_y": null,
            "padding": null,
            "right": null,
            "top": null,
            "visibility": null,
            "width": null
          }
        },
        "c4ef8ab371f94218bebbd7fc0713eed8": {
          "model_module": "@jupyter-widgets/controls",
          "model_name": "DescriptionStyleModel",
          "model_module_version": "1.5.0",
          "state": {
            "_model_module": "@jupyter-widgets/controls",
            "_model_module_version": "1.5.0",
            "_model_name": "DescriptionStyleModel",
            "_view_count": null,
            "_view_module": "@jupyter-widgets/base",
            "_view_module_version": "1.2.0",
            "_view_name": "StyleView",
            "description_width": ""
          }
        },
        "d0eb504170154672ae59068c1b15ea0a": {
          "model_module": "@jupyter-widgets/controls",
          "model_name": "HBoxModel",
          "model_module_version": "1.5.0",
          "state": {
            "_dom_classes": [],
            "_model_module": "@jupyter-widgets/controls",
            "_model_module_version": "1.5.0",
            "_model_name": "HBoxModel",
            "_view_count": null,
            "_view_module": "@jupyter-widgets/controls",
            "_view_module_version": "1.5.0",
            "_view_name": "HBoxView",
            "box_style": "",
            "children": [
              "IPY_MODEL_db78883d20174292ab175b0210c068d9",
              "IPY_MODEL_97e080e5bc3f48e39199dfee3b8c087e",
              "IPY_MODEL_c22dfe8dc766444797e04aa2ac107243"
            ],
            "layout": "IPY_MODEL_af66389fee90401a9df0d0204fc2b17b"
          }
        },
        "db78883d20174292ab175b0210c068d9": {
          "model_module": "@jupyter-widgets/controls",
          "model_name": "HTMLModel",
          "model_module_version": "1.5.0",
          "state": {
            "_dom_classes": [],
            "_model_module": "@jupyter-widgets/controls",
            "_model_module_version": "1.5.0",
            "_model_name": "HTMLModel",
            "_view_count": null,
            "_view_module": "@jupyter-widgets/controls",
            "_view_module_version": "1.5.0",
            "_view_name": "HTMLView",
            "description": "",
            "description_tooltip": null,
            "layout": "IPY_MODEL_e7d359df29c1496fad97da4c01938758",
            "placeholder": "​",
            "style": "IPY_MODEL_d5d077bd55e840bbaf59e5abfa9955b0",
            "value": "Downloading (…)okenizer_config.json: 100%"
          }
        },
        "97e080e5bc3f48e39199dfee3b8c087e": {
          "model_module": "@jupyter-widgets/controls",
          "model_name": "FloatProgressModel",
          "model_module_version": "1.5.0",
          "state": {
            "_dom_classes": [],
            "_model_module": "@jupyter-widgets/controls",
            "_model_module_version": "1.5.0",
            "_model_name": "FloatProgressModel",
            "_view_count": null,
            "_view_module": "@jupyter-widgets/controls",
            "_view_module_version": "1.5.0",
            "_view_name": "ProgressView",
            "bar_style": "success",
            "description": "",
            "description_tooltip": null,
            "layout": "IPY_MODEL_810bd9b98b22409db74e788b6dd02fec",
            "max": 88,
            "min": 0,
            "orientation": "horizontal",
            "style": "IPY_MODEL_3516cbbab5db48f4af322f828814bd45",
            "value": 88
          }
        },
        "c22dfe8dc766444797e04aa2ac107243": {
          "model_module": "@jupyter-widgets/controls",
          "model_name": "HTMLModel",
          "model_module_version": "1.5.0",
          "state": {
            "_dom_classes": [],
            "_model_module": "@jupyter-widgets/controls",
            "_model_module_version": "1.5.0",
            "_model_name": "HTMLModel",
            "_view_count": null,
            "_view_module": "@jupyter-widgets/controls",
            "_view_module_version": "1.5.0",
            "_view_name": "HTMLView",
            "description": "",
            "description_tooltip": null,
            "layout": "IPY_MODEL_a48826424e984caf8df5bcf9c3ef78c4",
            "placeholder": "​",
            "style": "IPY_MODEL_aa1c41a1d43d44d0b9c724f40e63828d",
            "value": " 88.0/88.0 [00:00&lt;00:00, 2.40kB/s]"
          }
        },
        "af66389fee90401a9df0d0204fc2b17b": {
          "model_module": "@jupyter-widgets/base",
          "model_name": "LayoutModel",
          "model_module_version": "1.2.0",
          "state": {
            "_model_module": "@jupyter-widgets/base",
            "_model_module_version": "1.2.0",
            "_model_name": "LayoutModel",
            "_view_count": null,
            "_view_module": "@jupyter-widgets/base",
            "_view_module_version": "1.2.0",
            "_view_name": "LayoutView",
            "align_content": null,
            "align_items": null,
            "align_self": null,
            "border": null,
            "bottom": null,
            "display": null,
            "flex": null,
            "flex_flow": null,
            "grid_area": null,
            "grid_auto_columns": null,
            "grid_auto_flow": null,
            "grid_auto_rows": null,
            "grid_column": null,
            "grid_gap": null,
            "grid_row": null,
            "grid_template_areas": null,
            "grid_template_columns": null,
            "grid_template_rows": null,
            "height": null,
            "justify_content": null,
            "justify_items": null,
            "left": null,
            "margin": null,
            "max_height": null,
            "max_width": null,
            "min_height": null,
            "min_width": null,
            "object_fit": null,
            "object_position": null,
            "order": null,
            "overflow": null,
            "overflow_x": null,
            "overflow_y": null,
            "padding": null,
            "right": null,
            "top": null,
            "visibility": null,
            "width": null
          }
        },
        "e7d359df29c1496fad97da4c01938758": {
          "model_module": "@jupyter-widgets/base",
          "model_name": "LayoutModel",
          "model_module_version": "1.2.0",
          "state": {
            "_model_module": "@jupyter-widgets/base",
            "_model_module_version": "1.2.0",
            "_model_name": "LayoutModel",
            "_view_count": null,
            "_view_module": "@jupyter-widgets/base",
            "_view_module_version": "1.2.0",
            "_view_name": "LayoutView",
            "align_content": null,
            "align_items": null,
            "align_self": null,
            "border": null,
            "bottom": null,
            "display": null,
            "flex": null,
            "flex_flow": null,
            "grid_area": null,
            "grid_auto_columns": null,
            "grid_auto_flow": null,
            "grid_auto_rows": null,
            "grid_column": null,
            "grid_gap": null,
            "grid_row": null,
            "grid_template_areas": null,
            "grid_template_columns": null,
            "grid_template_rows": null,
            "height": null,
            "justify_content": null,
            "justify_items": null,
            "left": null,
            "margin": null,
            "max_height": null,
            "max_width": null,
            "min_height": null,
            "min_width": null,
            "object_fit": null,
            "object_position": null,
            "order": null,
            "overflow": null,
            "overflow_x": null,
            "overflow_y": null,
            "padding": null,
            "right": null,
            "top": null,
            "visibility": null,
            "width": null
          }
        },
        "d5d077bd55e840bbaf59e5abfa9955b0": {
          "model_module": "@jupyter-widgets/controls",
          "model_name": "DescriptionStyleModel",
          "model_module_version": "1.5.0",
          "state": {
            "_model_module": "@jupyter-widgets/controls",
            "_model_module_version": "1.5.0",
            "_model_name": "DescriptionStyleModel",
            "_view_count": null,
            "_view_module": "@jupyter-widgets/base",
            "_view_module_version": "1.2.0",
            "_view_name": "StyleView",
            "description_width": ""
          }
        },
        "810bd9b98b22409db74e788b6dd02fec": {
          "model_module": "@jupyter-widgets/base",
          "model_name": "LayoutModel",
          "model_module_version": "1.2.0",
          "state": {
            "_model_module": "@jupyter-widgets/base",
            "_model_module_version": "1.2.0",
            "_model_name": "LayoutModel",
            "_view_count": null,
            "_view_module": "@jupyter-widgets/base",
            "_view_module_version": "1.2.0",
            "_view_name": "LayoutView",
            "align_content": null,
            "align_items": null,
            "align_self": null,
            "border": null,
            "bottom": null,
            "display": null,
            "flex": null,
            "flex_flow": null,
            "grid_area": null,
            "grid_auto_columns": null,
            "grid_auto_flow": null,
            "grid_auto_rows": null,
            "grid_column": null,
            "grid_gap": null,
            "grid_row": null,
            "grid_template_areas": null,
            "grid_template_columns": null,
            "grid_template_rows": null,
            "height": null,
            "justify_content": null,
            "justify_items": null,
            "left": null,
            "margin": null,
            "max_height": null,
            "max_width": null,
            "min_height": null,
            "min_width": null,
            "object_fit": null,
            "object_position": null,
            "order": null,
            "overflow": null,
            "overflow_x": null,
            "overflow_y": null,
            "padding": null,
            "right": null,
            "top": null,
            "visibility": null,
            "width": null
          }
        },
        "3516cbbab5db48f4af322f828814bd45": {
          "model_module": "@jupyter-widgets/controls",
          "model_name": "ProgressStyleModel",
          "model_module_version": "1.5.0",
          "state": {
            "_model_module": "@jupyter-widgets/controls",
            "_model_module_version": "1.5.0",
            "_model_name": "ProgressStyleModel",
            "_view_count": null,
            "_view_module": "@jupyter-widgets/base",
            "_view_module_version": "1.2.0",
            "_view_name": "StyleView",
            "bar_color": null,
            "description_width": ""
          }
        },
        "a48826424e984caf8df5bcf9c3ef78c4": {
          "model_module": "@jupyter-widgets/base",
          "model_name": "LayoutModel",
          "model_module_version": "1.2.0",
          "state": {
            "_model_module": "@jupyter-widgets/base",
            "_model_module_version": "1.2.0",
            "_model_name": "LayoutModel",
            "_view_count": null,
            "_view_module": "@jupyter-widgets/base",
            "_view_module_version": "1.2.0",
            "_view_name": "LayoutView",
            "align_content": null,
            "align_items": null,
            "align_self": null,
            "border": null,
            "bottom": null,
            "display": null,
            "flex": null,
            "flex_flow": null,
            "grid_area": null,
            "grid_auto_columns": null,
            "grid_auto_flow": null,
            "grid_auto_rows": null,
            "grid_column": null,
            "grid_gap": null,
            "grid_row": null,
            "grid_template_areas": null,
            "grid_template_columns": null,
            "grid_template_rows": null,
            "height": null,
            "justify_content": null,
            "justify_items": null,
            "left": null,
            "margin": null,
            "max_height": null,
            "max_width": null,
            "min_height": null,
            "min_width": null,
            "object_fit": null,
            "object_position": null,
            "order": null,
            "overflow": null,
            "overflow_x": null,
            "overflow_y": null,
            "padding": null,
            "right": null,
            "top": null,
            "visibility": null,
            "width": null
          }
        },
        "aa1c41a1d43d44d0b9c724f40e63828d": {
          "model_module": "@jupyter-widgets/controls",
          "model_name": "DescriptionStyleModel",
          "model_module_version": "1.5.0",
          "state": {
            "_model_module": "@jupyter-widgets/controls",
            "_model_module_version": "1.5.0",
            "_model_name": "DescriptionStyleModel",
            "_view_count": null,
            "_view_module": "@jupyter-widgets/base",
            "_view_module_version": "1.2.0",
            "_view_name": "StyleView",
            "description_width": ""
          }
        },
        "6a08a95e08c44f0c83f01eaa3042021b": {
          "model_module": "@jupyter-widgets/controls",
          "model_name": "HBoxModel",
          "model_module_version": "1.5.0",
          "state": {
            "_dom_classes": [],
            "_model_module": "@jupyter-widgets/controls",
            "_model_module_version": "1.5.0",
            "_model_name": "HBoxModel",
            "_view_count": null,
            "_view_module": "@jupyter-widgets/controls",
            "_view_module_version": "1.5.0",
            "_view_name": "HBoxView",
            "box_style": "",
            "children": [
              "IPY_MODEL_8cc11aeffd254a25b3fbd5e6cf4efc03",
              "IPY_MODEL_671d0b9f7a46425b8c72e2b12fb78ea2",
              "IPY_MODEL_51a0b1444a29400596f20f07ef91141c"
            ],
            "layout": "IPY_MODEL_df3577f7d59b4a4baea3526db60a0bbc"
          }
        },
        "8cc11aeffd254a25b3fbd5e6cf4efc03": {
          "model_module": "@jupyter-widgets/controls",
          "model_name": "HTMLModel",
          "model_module_version": "1.5.0",
          "state": {
            "_dom_classes": [],
            "_model_module": "@jupyter-widgets/controls",
            "_model_module_version": "1.5.0",
            "_model_name": "HTMLModel",
            "_view_count": null,
            "_view_module": "@jupyter-widgets/controls",
            "_view_module_version": "1.5.0",
            "_view_name": "HTMLView",
            "description": "",
            "description_tooltip": null,
            "layout": "IPY_MODEL_2e399e98dd954bd4a75148c469db8433",
            "placeholder": "​",
            "style": "IPY_MODEL_d2fbf9143a1f493e9d25fe4ea9b68033",
            "value": "Downloading (…)lve/main/config.json: 100%"
          }
        },
        "671d0b9f7a46425b8c72e2b12fb78ea2": {
          "model_module": "@jupyter-widgets/controls",
          "model_name": "FloatProgressModel",
          "model_module_version": "1.5.0",
          "state": {
            "_dom_classes": [],
            "_model_module": "@jupyter-widgets/controls",
            "_model_module_version": "1.5.0",
            "_model_name": "FloatProgressModel",
            "_view_count": null,
            "_view_module": "@jupyter-widgets/controls",
            "_view_module_version": "1.5.0",
            "_view_name": "ProgressView",
            "bar_style": "success",
            "description": "",
            "description_tooltip": null,
            "layout": "IPY_MODEL_ba48ff71df714620a4b341a4f206a665",
            "max": 1120,
            "min": 0,
            "orientation": "horizontal",
            "style": "IPY_MODEL_e7d20cd8d70f4551a080ea41df152d4c",
            "value": 1120
          }
        },
        "51a0b1444a29400596f20f07ef91141c": {
          "model_module": "@jupyter-widgets/controls",
          "model_name": "HTMLModel",
          "model_module_version": "1.5.0",
          "state": {
            "_dom_classes": [],
            "_model_module": "@jupyter-widgets/controls",
            "_model_module_version": "1.5.0",
            "_model_name": "HTMLModel",
            "_view_count": null,
            "_view_module": "@jupyter-widgets/controls",
            "_view_module_version": "1.5.0",
            "_view_name": "HTMLView",
            "description": "",
            "description_tooltip": null,
            "layout": "IPY_MODEL_2ba96b6e93e04205b45aa0f11f5a3464",
            "placeholder": "​",
            "style": "IPY_MODEL_7c3aef85d7c74e66884ed17c0dc54223",
            "value": " 1.12k/1.12k [00:00&lt;00:00, 28.2kB/s]"
          }
        },
        "df3577f7d59b4a4baea3526db60a0bbc": {
          "model_module": "@jupyter-widgets/base",
          "model_name": "LayoutModel",
          "model_module_version": "1.2.0",
          "state": {
            "_model_module": "@jupyter-widgets/base",
            "_model_module_version": "1.2.0",
            "_model_name": "LayoutModel",
            "_view_count": null,
            "_view_module": "@jupyter-widgets/base",
            "_view_module_version": "1.2.0",
            "_view_name": "LayoutView",
            "align_content": null,
            "align_items": null,
            "align_self": null,
            "border": null,
            "bottom": null,
            "display": null,
            "flex": null,
            "flex_flow": null,
            "grid_area": null,
            "grid_auto_columns": null,
            "grid_auto_flow": null,
            "grid_auto_rows": null,
            "grid_column": null,
            "grid_gap": null,
            "grid_row": null,
            "grid_template_areas": null,
            "grid_template_columns": null,
            "grid_template_rows": null,
            "height": null,
            "justify_content": null,
            "justify_items": null,
            "left": null,
            "margin": null,
            "max_height": null,
            "max_width": null,
            "min_height": null,
            "min_width": null,
            "object_fit": null,
            "object_position": null,
            "order": null,
            "overflow": null,
            "overflow_x": null,
            "overflow_y": null,
            "padding": null,
            "right": null,
            "top": null,
            "visibility": null,
            "width": null
          }
        },
        "2e399e98dd954bd4a75148c469db8433": {
          "model_module": "@jupyter-widgets/base",
          "model_name": "LayoutModel",
          "model_module_version": "1.2.0",
          "state": {
            "_model_module": "@jupyter-widgets/base",
            "_model_module_version": "1.2.0",
            "_model_name": "LayoutModel",
            "_view_count": null,
            "_view_module": "@jupyter-widgets/base",
            "_view_module_version": "1.2.0",
            "_view_name": "LayoutView",
            "align_content": null,
            "align_items": null,
            "align_self": null,
            "border": null,
            "bottom": null,
            "display": null,
            "flex": null,
            "flex_flow": null,
            "grid_area": null,
            "grid_auto_columns": null,
            "grid_auto_flow": null,
            "grid_auto_rows": null,
            "grid_column": null,
            "grid_gap": null,
            "grid_row": null,
            "grid_template_areas": null,
            "grid_template_columns": null,
            "grid_template_rows": null,
            "height": null,
            "justify_content": null,
            "justify_items": null,
            "left": null,
            "margin": null,
            "max_height": null,
            "max_width": null,
            "min_height": null,
            "min_width": null,
            "object_fit": null,
            "object_position": null,
            "order": null,
            "overflow": null,
            "overflow_x": null,
            "overflow_y": null,
            "padding": null,
            "right": null,
            "top": null,
            "visibility": null,
            "width": null
          }
        },
        "d2fbf9143a1f493e9d25fe4ea9b68033": {
          "model_module": "@jupyter-widgets/controls",
          "model_name": "DescriptionStyleModel",
          "model_module_version": "1.5.0",
          "state": {
            "_model_module": "@jupyter-widgets/controls",
            "_model_module_version": "1.5.0",
            "_model_name": "DescriptionStyleModel",
            "_view_count": null,
            "_view_module": "@jupyter-widgets/base",
            "_view_module_version": "1.2.0",
            "_view_name": "StyleView",
            "description_width": ""
          }
        },
        "ba48ff71df714620a4b341a4f206a665": {
          "model_module": "@jupyter-widgets/base",
          "model_name": "LayoutModel",
          "model_module_version": "1.2.0",
          "state": {
            "_model_module": "@jupyter-widgets/base",
            "_model_module_version": "1.2.0",
            "_model_name": "LayoutModel",
            "_view_count": null,
            "_view_module": "@jupyter-widgets/base",
            "_view_module_version": "1.2.0",
            "_view_name": "LayoutView",
            "align_content": null,
            "align_items": null,
            "align_self": null,
            "border": null,
            "bottom": null,
            "display": null,
            "flex": null,
            "flex_flow": null,
            "grid_area": null,
            "grid_auto_columns": null,
            "grid_auto_flow": null,
            "grid_auto_rows": null,
            "grid_column": null,
            "grid_gap": null,
            "grid_row": null,
            "grid_template_areas": null,
            "grid_template_columns": null,
            "grid_template_rows": null,
            "height": null,
            "justify_content": null,
            "justify_items": null,
            "left": null,
            "margin": null,
            "max_height": null,
            "max_width": null,
            "min_height": null,
            "min_width": null,
            "object_fit": null,
            "object_position": null,
            "order": null,
            "overflow": null,
            "overflow_x": null,
            "overflow_y": null,
            "padding": null,
            "right": null,
            "top": null,
            "visibility": null,
            "width": null
          }
        },
        "e7d20cd8d70f4551a080ea41df152d4c": {
          "model_module": "@jupyter-widgets/controls",
          "model_name": "ProgressStyleModel",
          "model_module_version": "1.5.0",
          "state": {
            "_model_module": "@jupyter-widgets/controls",
            "_model_module_version": "1.5.0",
            "_model_name": "ProgressStyleModel",
            "_view_count": null,
            "_view_module": "@jupyter-widgets/base",
            "_view_module_version": "1.2.0",
            "_view_name": "StyleView",
            "bar_color": null,
            "description_width": ""
          }
        },
        "2ba96b6e93e04205b45aa0f11f5a3464": {
          "model_module": "@jupyter-widgets/base",
          "model_name": "LayoutModel",
          "model_module_version": "1.2.0",
          "state": {
            "_model_module": "@jupyter-widgets/base",
            "_model_module_version": "1.2.0",
            "_model_name": "LayoutModel",
            "_view_count": null,
            "_view_module": "@jupyter-widgets/base",
            "_view_module_version": "1.2.0",
            "_view_name": "LayoutView",
            "align_content": null,
            "align_items": null,
            "align_self": null,
            "border": null,
            "bottom": null,
            "display": null,
            "flex": null,
            "flex_flow": null,
            "grid_area": null,
            "grid_auto_columns": null,
            "grid_auto_flow": null,
            "grid_auto_rows": null,
            "grid_column": null,
            "grid_gap": null,
            "grid_row": null,
            "grid_template_areas": null,
            "grid_template_columns": null,
            "grid_template_rows": null,
            "height": null,
            "justify_content": null,
            "justify_items": null,
            "left": null,
            "margin": null,
            "max_height": null,
            "max_width": null,
            "min_height": null,
            "min_width": null,
            "object_fit": null,
            "object_position": null,
            "order": null,
            "overflow": null,
            "overflow_x": null,
            "overflow_y": null,
            "padding": null,
            "right": null,
            "top": null,
            "visibility": null,
            "width": null
          }
        },
        "7c3aef85d7c74e66884ed17c0dc54223": {
          "model_module": "@jupyter-widgets/controls",
          "model_name": "DescriptionStyleModel",
          "model_module_version": "1.5.0",
          "state": {
            "_model_module": "@jupyter-widgets/controls",
            "_model_module_version": "1.5.0",
            "_model_name": "DescriptionStyleModel",
            "_view_count": null,
            "_view_module": "@jupyter-widgets/base",
            "_view_module_version": "1.2.0",
            "_view_name": "StyleView",
            "description_width": ""
          }
        },
        "a3ed4cdfaa6a416e8578bc867e4ec231": {
          "model_module": "@jupyter-widgets/controls",
          "model_name": "HBoxModel",
          "model_module_version": "1.5.0",
          "state": {
            "_dom_classes": [],
            "_model_module": "@jupyter-widgets/controls",
            "_model_module_version": "1.5.0",
            "_model_name": "HBoxModel",
            "_view_count": null,
            "_view_module": "@jupyter-widgets/controls",
            "_view_module_version": "1.5.0",
            "_view_name": "HBoxView",
            "box_style": "",
            "children": [
              "IPY_MODEL_3c07cd58e0a54a6ba1d5477e468d7905",
              "IPY_MODEL_15094f8a3d394f7dac3219a0fee30c85",
              "IPY_MODEL_e7e4802c537f43c2859e70aa58d22622"
            ],
            "layout": "IPY_MODEL_d88cbcc786604bc1a69a7f9c6700ca2c"
          }
        },
        "3c07cd58e0a54a6ba1d5477e468d7905": {
          "model_module": "@jupyter-widgets/controls",
          "model_name": "HTMLModel",
          "model_module_version": "1.5.0",
          "state": {
            "_dom_classes": [],
            "_model_module": "@jupyter-widgets/controls",
            "_model_module_version": "1.5.0",
            "_model_name": "HTMLModel",
            "_view_count": null,
            "_view_module": "@jupyter-widgets/controls",
            "_view_module_version": "1.5.0",
            "_view_name": "HTMLView",
            "description": "",
            "description_tooltip": null,
            "layout": "IPY_MODEL_6179c7a7c11446db9d6bba728a04efdf",
            "placeholder": "​",
            "style": "IPY_MODEL_64aaed2b610b412e8e16ca748b281915",
            "value": "Downloading pytorch_model.bin: 100%"
          }
        },
        "15094f8a3d394f7dac3219a0fee30c85": {
          "model_module": "@jupyter-widgets/controls",
          "model_name": "FloatProgressModel",
          "model_module_version": "1.5.0",
          "state": {
            "_dom_classes": [],
            "_model_module": "@jupyter-widgets/controls",
            "_model_module_version": "1.5.0",
            "_model_name": "FloatProgressModel",
            "_view_count": null,
            "_view_module": "@jupyter-widgets/controls",
            "_view_module_version": "1.5.0",
            "_view_name": "ProgressView",
            "bar_style": "success",
            "description": "",
            "description_tooltip": null,
            "layout": "IPY_MODEL_0058bdeb34ef4fc9b1a205c15847b015",
            "max": 2275327883,
            "min": 0,
            "orientation": "horizontal",
            "style": "IPY_MODEL_afb8895a4bc14590a2f78bd779ed0c36",
            "value": 2275327883
          }
        },
        "e7e4802c537f43c2859e70aa58d22622": {
          "model_module": "@jupyter-widgets/controls",
          "model_name": "HTMLModel",
          "model_module_version": "1.5.0",
          "state": {
            "_dom_classes": [],
            "_model_module": "@jupyter-widgets/controls",
            "_model_module_version": "1.5.0",
            "_model_name": "HTMLModel",
            "_view_count": null,
            "_view_module": "@jupyter-widgets/controls",
            "_view_module_version": "1.5.0",
            "_view_name": "HTMLView",
            "description": "",
            "description_tooltip": null,
            "layout": "IPY_MODEL_82486901d6fa4af1a64630e01341e011",
            "placeholder": "​",
            "style": "IPY_MODEL_c6886a18e4894f929b987219df603c12",
            "value": " 2.28G/2.28G [01:50&lt;00:00, 21.4MB/s]"
          }
        },
        "d88cbcc786604bc1a69a7f9c6700ca2c": {
          "model_module": "@jupyter-widgets/base",
          "model_name": "LayoutModel",
          "model_module_version": "1.2.0",
          "state": {
            "_model_module": "@jupyter-widgets/base",
            "_model_module_version": "1.2.0",
            "_model_name": "LayoutModel",
            "_view_count": null,
            "_view_module": "@jupyter-widgets/base",
            "_view_module_version": "1.2.0",
            "_view_name": "LayoutView",
            "align_content": null,
            "align_items": null,
            "align_self": null,
            "border": null,
            "bottom": null,
            "display": null,
            "flex": null,
            "flex_flow": null,
            "grid_area": null,
            "grid_auto_columns": null,
            "grid_auto_flow": null,
            "grid_auto_rows": null,
            "grid_column": null,
            "grid_gap": null,
            "grid_row": null,
            "grid_template_areas": null,
            "grid_template_columns": null,
            "grid_template_rows": null,
            "height": null,
            "justify_content": null,
            "justify_items": null,
            "left": null,
            "margin": null,
            "max_height": null,
            "max_width": null,
            "min_height": null,
            "min_width": null,
            "object_fit": null,
            "object_position": null,
            "order": null,
            "overflow": null,
            "overflow_x": null,
            "overflow_y": null,
            "padding": null,
            "right": null,
            "top": null,
            "visibility": null,
            "width": null
          }
        },
        "6179c7a7c11446db9d6bba728a04efdf": {
          "model_module": "@jupyter-widgets/base",
          "model_name": "LayoutModel",
          "model_module_version": "1.2.0",
          "state": {
            "_model_module": "@jupyter-widgets/base",
            "_model_module_version": "1.2.0",
            "_model_name": "LayoutModel",
            "_view_count": null,
            "_view_module": "@jupyter-widgets/base",
            "_view_module_version": "1.2.0",
            "_view_name": "LayoutView",
            "align_content": null,
            "align_items": null,
            "align_self": null,
            "border": null,
            "bottom": null,
            "display": null,
            "flex": null,
            "flex_flow": null,
            "grid_area": null,
            "grid_auto_columns": null,
            "grid_auto_flow": null,
            "grid_auto_rows": null,
            "grid_column": null,
            "grid_gap": null,
            "grid_row": null,
            "grid_template_areas": null,
            "grid_template_columns": null,
            "grid_template_rows": null,
            "height": null,
            "justify_content": null,
            "justify_items": null,
            "left": null,
            "margin": null,
            "max_height": null,
            "max_width": null,
            "min_height": null,
            "min_width": null,
            "object_fit": null,
            "object_position": null,
            "order": null,
            "overflow": null,
            "overflow_x": null,
            "overflow_y": null,
            "padding": null,
            "right": null,
            "top": null,
            "visibility": null,
            "width": null
          }
        },
        "64aaed2b610b412e8e16ca748b281915": {
          "model_module": "@jupyter-widgets/controls",
          "model_name": "DescriptionStyleModel",
          "model_module_version": "1.5.0",
          "state": {
            "_model_module": "@jupyter-widgets/controls",
            "_model_module_version": "1.5.0",
            "_model_name": "DescriptionStyleModel",
            "_view_count": null,
            "_view_module": "@jupyter-widgets/base",
            "_view_module_version": "1.2.0",
            "_view_name": "StyleView",
            "description_width": ""
          }
        },
        "0058bdeb34ef4fc9b1a205c15847b015": {
          "model_module": "@jupyter-widgets/base",
          "model_name": "LayoutModel",
          "model_module_version": "1.2.0",
          "state": {
            "_model_module": "@jupyter-widgets/base",
            "_model_module_version": "1.2.0",
            "_model_name": "LayoutModel",
            "_view_count": null,
            "_view_module": "@jupyter-widgets/base",
            "_view_module_version": "1.2.0",
            "_view_name": "LayoutView",
            "align_content": null,
            "align_items": null,
            "align_self": null,
            "border": null,
            "bottom": null,
            "display": null,
            "flex": null,
            "flex_flow": null,
            "grid_area": null,
            "grid_auto_columns": null,
            "grid_auto_flow": null,
            "grid_auto_rows": null,
            "grid_column": null,
            "grid_gap": null,
            "grid_row": null,
            "grid_template_areas": null,
            "grid_template_columns": null,
            "grid_template_rows": null,
            "height": null,
            "justify_content": null,
            "justify_items": null,
            "left": null,
            "margin": null,
            "max_height": null,
            "max_width": null,
            "min_height": null,
            "min_width": null,
            "object_fit": null,
            "object_position": null,
            "order": null,
            "overflow": null,
            "overflow_x": null,
            "overflow_y": null,
            "padding": null,
            "right": null,
            "top": null,
            "visibility": null,
            "width": null
          }
        },
        "afb8895a4bc14590a2f78bd779ed0c36": {
          "model_module": "@jupyter-widgets/controls",
          "model_name": "ProgressStyleModel",
          "model_module_version": "1.5.0",
          "state": {
            "_model_module": "@jupyter-widgets/controls",
            "_model_module_version": "1.5.0",
            "_model_name": "ProgressStyleModel",
            "_view_count": null,
            "_view_module": "@jupyter-widgets/base",
            "_view_module_version": "1.2.0",
            "_view_name": "StyleView",
            "bar_color": null,
            "description_width": ""
          }
        },
        "82486901d6fa4af1a64630e01341e011": {
          "model_module": "@jupyter-widgets/base",
          "model_name": "LayoutModel",
          "model_module_version": "1.2.0",
          "state": {
            "_model_module": "@jupyter-widgets/base",
            "_model_module_version": "1.2.0",
            "_model_name": "LayoutModel",
            "_view_count": null,
            "_view_module": "@jupyter-widgets/base",
            "_view_module_version": "1.2.0",
            "_view_name": "LayoutView",
            "align_content": null,
            "align_items": null,
            "align_self": null,
            "border": null,
            "bottom": null,
            "display": null,
            "flex": null,
            "flex_flow": null,
            "grid_area": null,
            "grid_auto_columns": null,
            "grid_auto_flow": null,
            "grid_auto_rows": null,
            "grid_column": null,
            "grid_gap": null,
            "grid_row": null,
            "grid_template_areas": null,
            "grid_template_columns": null,
            "grid_template_rows": null,
            "height": null,
            "justify_content": null,
            "justify_items": null,
            "left": null,
            "margin": null,
            "max_height": null,
            "max_width": null,
            "min_height": null,
            "min_width": null,
            "object_fit": null,
            "object_position": null,
            "order": null,
            "overflow": null,
            "overflow_x": null,
            "overflow_y": null,
            "padding": null,
            "right": null,
            "top": null,
            "visibility": null,
            "width": null
          }
        },
        "c6886a18e4894f929b987219df603c12": {
          "model_module": "@jupyter-widgets/controls",
          "model_name": "DescriptionStyleModel",
          "model_module_version": "1.5.0",
          "state": {
            "_model_module": "@jupyter-widgets/controls",
            "_model_module_version": "1.5.0",
            "_model_name": "DescriptionStyleModel",
            "_view_count": null,
            "_view_module": "@jupyter-widgets/base",
            "_view_module_version": "1.2.0",
            "_view_name": "StyleView",
            "description_width": ""
          }
        },
        "5ad963de7d384aa5a3f6ebf48d406833": {
          "model_module": "@jupyter-widgets/controls",
          "model_name": "HBoxModel",
          "model_module_version": "1.5.0",
          "state": {
            "_dom_classes": [],
            "_model_module": "@jupyter-widgets/controls",
            "_model_module_version": "1.5.0",
            "_model_name": "HBoxModel",
            "_view_count": null,
            "_view_module": "@jupyter-widgets/controls",
            "_view_module_version": "1.5.0",
            "_view_name": "HBoxView",
            "box_style": "",
            "children": [
              "IPY_MODEL_6c49ebfa19a941d39ee5fd764eceb2e4",
              "IPY_MODEL_b3bd09e8d57e47f4853bc1c9b9463605",
              "IPY_MODEL_4f63e30aebab4b40ab1cb1ed01539251"
            ],
            "layout": "IPY_MODEL_e51c745aceaf43d09b43c355f8f80e06"
          }
        },
        "6c49ebfa19a941d39ee5fd764eceb2e4": {
          "model_module": "@jupyter-widgets/controls",
          "model_name": "HTMLModel",
          "model_module_version": "1.5.0",
          "state": {
            "_dom_classes": [],
            "_model_module": "@jupyter-widgets/controls",
            "_model_module_version": "1.5.0",
            "_model_name": "HTMLModel",
            "_view_count": null,
            "_view_module": "@jupyter-widgets/controls",
            "_view_module_version": "1.5.0",
            "_view_name": "HTMLView",
            "description": "",
            "description_tooltip": null,
            "layout": "IPY_MODEL_e92245c0717d4057acb6324efbf20fe7",
            "placeholder": "​",
            "style": "IPY_MODEL_e9e4653e52fe4c3e9f6948c21b6bab6f",
            "value": "Downloading (…)neration_config.json: 100%"
          }
        },
        "b3bd09e8d57e47f4853bc1c9b9463605": {
          "model_module": "@jupyter-widgets/controls",
          "model_name": "FloatProgressModel",
          "model_module_version": "1.5.0",
          "state": {
            "_dom_classes": [],
            "_model_module": "@jupyter-widgets/controls",
            "_model_module_version": "1.5.0",
            "_model_name": "FloatProgressModel",
            "_view_count": null,
            "_view_module": "@jupyter-widgets/controls",
            "_view_module_version": "1.5.0",
            "_view_name": "ProgressView",
            "bar_style": "success",
            "description": "",
            "description_tooltip": null,
            "layout": "IPY_MODEL_9c30583c7bf3430dae9caa0167339e87",
            "max": 280,
            "min": 0,
            "orientation": "horizontal",
            "style": "IPY_MODEL_5ff3fd0159ac440aab7e5e4a7b2d6bd4",
            "value": 280
          }
        },
        "4f63e30aebab4b40ab1cb1ed01539251": {
          "model_module": "@jupyter-widgets/controls",
          "model_name": "HTMLModel",
          "model_module_version": "1.5.0",
          "state": {
            "_dom_classes": [],
            "_model_module": "@jupyter-widgets/controls",
            "_model_module_version": "1.5.0",
            "_model_name": "HTMLModel",
            "_view_count": null,
            "_view_module": "@jupyter-widgets/controls",
            "_view_module_version": "1.5.0",
            "_view_name": "HTMLView",
            "description": "",
            "description_tooltip": null,
            "layout": "IPY_MODEL_83227f7edb5344109bc96a1abb646945",
            "placeholder": "​",
            "style": "IPY_MODEL_d84bf66f8385493689afcd48aada69a9",
            "value": " 280/280 [00:00&lt;00:00, 3.49kB/s]"
          }
        },
        "e51c745aceaf43d09b43c355f8f80e06": {
          "model_module": "@jupyter-widgets/base",
          "model_name": "LayoutModel",
          "model_module_version": "1.2.0",
          "state": {
            "_model_module": "@jupyter-widgets/base",
            "_model_module_version": "1.2.0",
            "_model_name": "LayoutModel",
            "_view_count": null,
            "_view_module": "@jupyter-widgets/base",
            "_view_module_version": "1.2.0",
            "_view_name": "LayoutView",
            "align_content": null,
            "align_items": null,
            "align_self": null,
            "border": null,
            "bottom": null,
            "display": null,
            "flex": null,
            "flex_flow": null,
            "grid_area": null,
            "grid_auto_columns": null,
            "grid_auto_flow": null,
            "grid_auto_rows": null,
            "grid_column": null,
            "grid_gap": null,
            "grid_row": null,
            "grid_template_areas": null,
            "grid_template_columns": null,
            "grid_template_rows": null,
            "height": null,
            "justify_content": null,
            "justify_items": null,
            "left": null,
            "margin": null,
            "max_height": null,
            "max_width": null,
            "min_height": null,
            "min_width": null,
            "object_fit": null,
            "object_position": null,
            "order": null,
            "overflow": null,
            "overflow_x": null,
            "overflow_y": null,
            "padding": null,
            "right": null,
            "top": null,
            "visibility": null,
            "width": null
          }
        },
        "e92245c0717d4057acb6324efbf20fe7": {
          "model_module": "@jupyter-widgets/base",
          "model_name": "LayoutModel",
          "model_module_version": "1.2.0",
          "state": {
            "_model_module": "@jupyter-widgets/base",
            "_model_module_version": "1.2.0",
            "_model_name": "LayoutModel",
            "_view_count": null,
            "_view_module": "@jupyter-widgets/base",
            "_view_module_version": "1.2.0",
            "_view_name": "LayoutView",
            "align_content": null,
            "align_items": null,
            "align_self": null,
            "border": null,
            "bottom": null,
            "display": null,
            "flex": null,
            "flex_flow": null,
            "grid_area": null,
            "grid_auto_columns": null,
            "grid_auto_flow": null,
            "grid_auto_rows": null,
            "grid_column": null,
            "grid_gap": null,
            "grid_row": null,
            "grid_template_areas": null,
            "grid_template_columns": null,
            "grid_template_rows": null,
            "height": null,
            "justify_content": null,
            "justify_items": null,
            "left": null,
            "margin": null,
            "max_height": null,
            "max_width": null,
            "min_height": null,
            "min_width": null,
            "object_fit": null,
            "object_position": null,
            "order": null,
            "overflow": null,
            "overflow_x": null,
            "overflow_y": null,
            "padding": null,
            "right": null,
            "top": null,
            "visibility": null,
            "width": null
          }
        },
        "e9e4653e52fe4c3e9f6948c21b6bab6f": {
          "model_module": "@jupyter-widgets/controls",
          "model_name": "DescriptionStyleModel",
          "model_module_version": "1.5.0",
          "state": {
            "_model_module": "@jupyter-widgets/controls",
            "_model_module_version": "1.5.0",
            "_model_name": "DescriptionStyleModel",
            "_view_count": null,
            "_view_module": "@jupyter-widgets/base",
            "_view_module_version": "1.2.0",
            "_view_name": "StyleView",
            "description_width": ""
          }
        },
        "9c30583c7bf3430dae9caa0167339e87": {
          "model_module": "@jupyter-widgets/base",
          "model_name": "LayoutModel",
          "model_module_version": "1.2.0",
          "state": {
            "_model_module": "@jupyter-widgets/base",
            "_model_module_version": "1.2.0",
            "_model_name": "LayoutModel",
            "_view_count": null,
            "_view_module": "@jupyter-widgets/base",
            "_view_module_version": "1.2.0",
            "_view_name": "LayoutView",
            "align_content": null,
            "align_items": null,
            "align_self": null,
            "border": null,
            "bottom": null,
            "display": null,
            "flex": null,
            "flex_flow": null,
            "grid_area": null,
            "grid_auto_columns": null,
            "grid_auto_flow": null,
            "grid_auto_rows": null,
            "grid_column": null,
            "grid_gap": null,
            "grid_row": null,
            "grid_template_areas": null,
            "grid_template_columns": null,
            "grid_template_rows": null,
            "height": null,
            "justify_content": null,
            "justify_items": null,
            "left": null,
            "margin": null,
            "max_height": null,
            "max_width": null,
            "min_height": null,
            "min_width": null,
            "object_fit": null,
            "object_position": null,
            "order": null,
            "overflow": null,
            "overflow_x": null,
            "overflow_y": null,
            "padding": null,
            "right": null,
            "top": null,
            "visibility": null,
            "width": null
          }
        },
        "5ff3fd0159ac440aab7e5e4a7b2d6bd4": {
          "model_module": "@jupyter-widgets/controls",
          "model_name": "ProgressStyleModel",
          "model_module_version": "1.5.0",
          "state": {
            "_model_module": "@jupyter-widgets/controls",
            "_model_module_version": "1.5.0",
            "_model_name": "ProgressStyleModel",
            "_view_count": null,
            "_view_module": "@jupyter-widgets/base",
            "_view_module_version": "1.2.0",
            "_view_name": "StyleView",
            "bar_color": null,
            "description_width": ""
          }
        },
        "83227f7edb5344109bc96a1abb646945": {
          "model_module": "@jupyter-widgets/base",
          "model_name": "LayoutModel",
          "model_module_version": "1.2.0",
          "state": {
            "_model_module": "@jupyter-widgets/base",
            "_model_module_version": "1.2.0",
            "_model_name": "LayoutModel",
            "_view_count": null,
            "_view_module": "@jupyter-widgets/base",
            "_view_module_version": "1.2.0",
            "_view_name": "LayoutView",
            "align_content": null,
            "align_items": null,
            "align_self": null,
            "border": null,
            "bottom": null,
            "display": null,
            "flex": null,
            "flex_flow": null,
            "grid_area": null,
            "grid_auto_columns": null,
            "grid_auto_flow": null,
            "grid_auto_rows": null,
            "grid_column": null,
            "grid_gap": null,
            "grid_row": null,
            "grid_template_areas": null,
            "grid_template_columns": null,
            "grid_template_rows": null,
            "height": null,
            "justify_content": null,
            "justify_items": null,
            "left": null,
            "margin": null,
            "max_height": null,
            "max_width": null,
            "min_height": null,
            "min_width": null,
            "object_fit": null,
            "object_position": null,
            "order": null,
            "overflow": null,
            "overflow_x": null,
            "overflow_y": null,
            "padding": null,
            "right": null,
            "top": null,
            "visibility": null,
            "width": null
          }
        },
        "d84bf66f8385493689afcd48aada69a9": {
          "model_module": "@jupyter-widgets/controls",
          "model_name": "DescriptionStyleModel",
          "model_module_version": "1.5.0",
          "state": {
            "_model_module": "@jupyter-widgets/controls",
            "_model_module_version": "1.5.0",
            "_model_name": "DescriptionStyleModel",
            "_view_count": null,
            "_view_module": "@jupyter-widgets/base",
            "_view_module_version": "1.2.0",
            "_view_name": "StyleView",
            "description_width": ""
          }
        },
        "bfe89dae4df64450a62547ac3c236cc2": {
          "model_module": "@jupyter-widgets/controls",
          "model_name": "HBoxModel",
          "model_module_version": "1.5.0",
          "state": {
            "_dom_classes": [],
            "_model_module": "@jupyter-widgets/controls",
            "_model_module_version": "1.5.0",
            "_model_name": "HBoxModel",
            "_view_count": null,
            "_view_module": "@jupyter-widgets/controls",
            "_view_module_version": "1.5.0",
            "_view_name": "HBoxView",
            "box_style": "",
            "children": [
              "IPY_MODEL_4ab299cb70e9490a85491b53a8df04ab",
              "IPY_MODEL_d92209bab5ae410faa167f795cf6b45d",
              "IPY_MODEL_0f976e4faf7e4bf4baa02fb0cebfdedd"
            ],
            "layout": "IPY_MODEL_c4fa15bd09a744cdbe2c0641de41d3d5"
          }
        },
        "4ab299cb70e9490a85491b53a8df04ab": {
          "model_module": "@jupyter-widgets/controls",
          "model_name": "HTMLModel",
          "model_module_version": "1.5.0",
          "state": {
            "_dom_classes": [],
            "_model_module": "@jupyter-widgets/controls",
            "_model_module_version": "1.5.0",
            "_model_name": "HTMLModel",
            "_view_count": null,
            "_view_module": "@jupyter-widgets/controls",
            "_view_module_version": "1.5.0",
            "_view_name": "HTMLView",
            "description": "",
            "description_tooltip": null,
            "layout": "IPY_MODEL_f6e4cb4af60b463aacfec225f9d1dd26",
            "placeholder": "​",
            "style": "IPY_MODEL_56cff2cd462b475d9a0f4022929c521a",
            "value": "Downloading (…)solve/main/vocab.txt: 100%"
          }
        },
        "d92209bab5ae410faa167f795cf6b45d": {
          "model_module": "@jupyter-widgets/controls",
          "model_name": "FloatProgressModel",
          "model_module_version": "1.5.0",
          "state": {
            "_dom_classes": [],
            "_model_module": "@jupyter-widgets/controls",
            "_model_module_version": "1.5.0",
            "_model_name": "FloatProgressModel",
            "_view_count": null,
            "_view_module": "@jupyter-widgets/controls",
            "_view_module_version": "1.5.0",
            "_view_name": "ProgressView",
            "bar_style": "success",
            "description": "",
            "description_tooltip": null,
            "layout": "IPY_MODEL_ab86c8b9770147ec9602f4aa0f7f6c1a",
            "max": 231508,
            "min": 0,
            "orientation": "horizontal",
            "style": "IPY_MODEL_d8a423cc57fa41c3b9ba1503c3f362f1",
            "value": 231508
          }
        },
        "0f976e4faf7e4bf4baa02fb0cebfdedd": {
          "model_module": "@jupyter-widgets/controls",
          "model_name": "HTMLModel",
          "model_module_version": "1.5.0",
          "state": {
            "_dom_classes": [],
            "_model_module": "@jupyter-widgets/controls",
            "_model_module_version": "1.5.0",
            "_model_name": "HTMLModel",
            "_view_count": null,
            "_view_module": "@jupyter-widgets/controls",
            "_view_module_version": "1.5.0",
            "_view_name": "HTMLView",
            "description": "",
            "description_tooltip": null,
            "layout": "IPY_MODEL_37c42f174faf4b9696afd79697e30d38",
            "placeholder": "​",
            "style": "IPY_MODEL_b578c9d8982b425badef823c10699e33",
            "value": " 232k/232k [00:00&lt;00:00, 4.77MB/s]"
          }
        },
        "c4fa15bd09a744cdbe2c0641de41d3d5": {
          "model_module": "@jupyter-widgets/base",
          "model_name": "LayoutModel",
          "model_module_version": "1.2.0",
          "state": {
            "_model_module": "@jupyter-widgets/base",
            "_model_module_version": "1.2.0",
            "_model_name": "LayoutModel",
            "_view_count": null,
            "_view_module": "@jupyter-widgets/base",
            "_view_module_version": "1.2.0",
            "_view_name": "LayoutView",
            "align_content": null,
            "align_items": null,
            "align_self": null,
            "border": null,
            "bottom": null,
            "display": null,
            "flex": null,
            "flex_flow": null,
            "grid_area": null,
            "grid_auto_columns": null,
            "grid_auto_flow": null,
            "grid_auto_rows": null,
            "grid_column": null,
            "grid_gap": null,
            "grid_row": null,
            "grid_template_areas": null,
            "grid_template_columns": null,
            "grid_template_rows": null,
            "height": null,
            "justify_content": null,
            "justify_items": null,
            "left": null,
            "margin": null,
            "max_height": null,
            "max_width": null,
            "min_height": null,
            "min_width": null,
            "object_fit": null,
            "object_position": null,
            "order": null,
            "overflow": null,
            "overflow_x": null,
            "overflow_y": null,
            "padding": null,
            "right": null,
            "top": null,
            "visibility": null,
            "width": null
          }
        },
        "f6e4cb4af60b463aacfec225f9d1dd26": {
          "model_module": "@jupyter-widgets/base",
          "model_name": "LayoutModel",
          "model_module_version": "1.2.0",
          "state": {
            "_model_module": "@jupyter-widgets/base",
            "_model_module_version": "1.2.0",
            "_model_name": "LayoutModel",
            "_view_count": null,
            "_view_module": "@jupyter-widgets/base",
            "_view_module_version": "1.2.0",
            "_view_name": "LayoutView",
            "align_content": null,
            "align_items": null,
            "align_self": null,
            "border": null,
            "bottom": null,
            "display": null,
            "flex": null,
            "flex_flow": null,
            "grid_area": null,
            "grid_auto_columns": null,
            "grid_auto_flow": null,
            "grid_auto_rows": null,
            "grid_column": null,
            "grid_gap": null,
            "grid_row": null,
            "grid_template_areas": null,
            "grid_template_columns": null,
            "grid_template_rows": null,
            "height": null,
            "justify_content": null,
            "justify_items": null,
            "left": null,
            "margin": null,
            "max_height": null,
            "max_width": null,
            "min_height": null,
            "min_width": null,
            "object_fit": null,
            "object_position": null,
            "order": null,
            "overflow": null,
            "overflow_x": null,
            "overflow_y": null,
            "padding": null,
            "right": null,
            "top": null,
            "visibility": null,
            "width": null
          }
        },
        "56cff2cd462b475d9a0f4022929c521a": {
          "model_module": "@jupyter-widgets/controls",
          "model_name": "DescriptionStyleModel",
          "model_module_version": "1.5.0",
          "state": {
            "_model_module": "@jupyter-widgets/controls",
            "_model_module_version": "1.5.0",
            "_model_name": "DescriptionStyleModel",
            "_view_count": null,
            "_view_module": "@jupyter-widgets/base",
            "_view_module_version": "1.2.0",
            "_view_name": "StyleView",
            "description_width": ""
          }
        },
        "ab86c8b9770147ec9602f4aa0f7f6c1a": {
          "model_module": "@jupyter-widgets/base",
          "model_name": "LayoutModel",
          "model_module_version": "1.2.0",
          "state": {
            "_model_module": "@jupyter-widgets/base",
            "_model_module_version": "1.2.0",
            "_model_name": "LayoutModel",
            "_view_count": null,
            "_view_module": "@jupyter-widgets/base",
            "_view_module_version": "1.2.0",
            "_view_name": "LayoutView",
            "align_content": null,
            "align_items": null,
            "align_self": null,
            "border": null,
            "bottom": null,
            "display": null,
            "flex": null,
            "flex_flow": null,
            "grid_area": null,
            "grid_auto_columns": null,
            "grid_auto_flow": null,
            "grid_auto_rows": null,
            "grid_column": null,
            "grid_gap": null,
            "grid_row": null,
            "grid_template_areas": null,
            "grid_template_columns": null,
            "grid_template_rows": null,
            "height": null,
            "justify_content": null,
            "justify_items": null,
            "left": null,
            "margin": null,
            "max_height": null,
            "max_width": null,
            "min_height": null,
            "min_width": null,
            "object_fit": null,
            "object_position": null,
            "order": null,
            "overflow": null,
            "overflow_x": null,
            "overflow_y": null,
            "padding": null,
            "right": null,
            "top": null,
            "visibility": null,
            "width": null
          }
        },
        "d8a423cc57fa41c3b9ba1503c3f362f1": {
          "model_module": "@jupyter-widgets/controls",
          "model_name": "ProgressStyleModel",
          "model_module_version": "1.5.0",
          "state": {
            "_model_module": "@jupyter-widgets/controls",
            "_model_module_version": "1.5.0",
            "_model_name": "ProgressStyleModel",
            "_view_count": null,
            "_view_module": "@jupyter-widgets/base",
            "_view_module_version": "1.2.0",
            "_view_name": "StyleView",
            "bar_color": null,
            "description_width": ""
          }
        },
        "37c42f174faf4b9696afd79697e30d38": {
          "model_module": "@jupyter-widgets/base",
          "model_name": "LayoutModel",
          "model_module_version": "1.2.0",
          "state": {
            "_model_module": "@jupyter-widgets/base",
            "_model_module_version": "1.2.0",
            "_model_name": "LayoutModel",
            "_view_count": null,
            "_view_module": "@jupyter-widgets/base",
            "_view_module_version": "1.2.0",
            "_view_name": "LayoutView",
            "align_content": null,
            "align_items": null,
            "align_self": null,
            "border": null,
            "bottom": null,
            "display": null,
            "flex": null,
            "flex_flow": null,
            "grid_area": null,
            "grid_auto_columns": null,
            "grid_auto_flow": null,
            "grid_auto_rows": null,
            "grid_column": null,
            "grid_gap": null,
            "grid_row": null,
            "grid_template_areas": null,
            "grid_template_columns": null,
            "grid_template_rows": null,
            "height": null,
            "justify_content": null,
            "justify_items": null,
            "left": null,
            "margin": null,
            "max_height": null,
            "max_width": null,
            "min_height": null,
            "min_width": null,
            "object_fit": null,
            "object_position": null,
            "order": null,
            "overflow": null,
            "overflow_x": null,
            "overflow_y": null,
            "padding": null,
            "right": null,
            "top": null,
            "visibility": null,
            "width": null
          }
        },
        "b578c9d8982b425badef823c10699e33": {
          "model_module": "@jupyter-widgets/controls",
          "model_name": "DescriptionStyleModel",
          "model_module_version": "1.5.0",
          "state": {
            "_model_module": "@jupyter-widgets/controls",
            "_model_module_version": "1.5.0",
            "_model_name": "DescriptionStyleModel",
            "_view_count": null,
            "_view_module": "@jupyter-widgets/base",
            "_view_module_version": "1.2.0",
            "_view_name": "StyleView",
            "description_width": ""
          }
        },
        "90cd83b5228343c89690ec03a544b2c6": {
          "model_module": "@jupyter-widgets/controls",
          "model_name": "HBoxModel",
          "model_module_version": "1.5.0",
          "state": {
            "_dom_classes": [],
            "_model_module": "@jupyter-widgets/controls",
            "_model_module_version": "1.5.0",
            "_model_name": "HBoxModel",
            "_view_count": null,
            "_view_module": "@jupyter-widgets/controls",
            "_view_module_version": "1.5.0",
            "_view_name": "HBoxView",
            "box_style": "",
            "children": [
              "IPY_MODEL_5542ad8e3ae74f5386fb82a8dc52b810",
              "IPY_MODEL_467bdd6a0dae48418255bea66ffb6054",
              "IPY_MODEL_35013c1d78e34892924c09f1dde0f09e"
            ],
            "layout": "IPY_MODEL_816dc66448cf432ea26b561c9788d837"
          }
        },
        "5542ad8e3ae74f5386fb82a8dc52b810": {
          "model_module": "@jupyter-widgets/controls",
          "model_name": "HTMLModel",
          "model_module_version": "1.5.0",
          "state": {
            "_dom_classes": [],
            "_model_module": "@jupyter-widgets/controls",
            "_model_module_version": "1.5.0",
            "_model_name": "HTMLModel",
            "_view_count": null,
            "_view_module": "@jupyter-widgets/controls",
            "_view_module_version": "1.5.0",
            "_view_name": "HTMLView",
            "description": "",
            "description_tooltip": null,
            "layout": "IPY_MODEL_33fad44a14274afd8a7067646a46acf8",
            "placeholder": "​",
            "style": "IPY_MODEL_bf4cc2ae58ae433db541a722f3339ee6",
            "value": "Downloading (…)okenizer_config.json: 100%"
          }
        },
        "467bdd6a0dae48418255bea66ffb6054": {
          "model_module": "@jupyter-widgets/controls",
          "model_name": "FloatProgressModel",
          "model_module_version": "1.5.0",
          "state": {
            "_dom_classes": [],
            "_model_module": "@jupyter-widgets/controls",
            "_model_module_version": "1.5.0",
            "_model_name": "FloatProgressModel",
            "_view_count": null,
            "_view_module": "@jupyter-widgets/controls",
            "_view_module_version": "1.5.0",
            "_view_name": "ProgressView",
            "bar_style": "success",
            "description": "",
            "description_tooltip": null,
            "layout": "IPY_MODEL_dcf3de0be0f242b1a282bcf111a76ccb",
            "max": 28,
            "min": 0,
            "orientation": "horizontal",
            "style": "IPY_MODEL_38ca4f67b7b842d588a8d4284b3b6cc2",
            "value": 28
          }
        },
        "35013c1d78e34892924c09f1dde0f09e": {
          "model_module": "@jupyter-widgets/controls",
          "model_name": "HTMLModel",
          "model_module_version": "1.5.0",
          "state": {
            "_dom_classes": [],
            "_model_module": "@jupyter-widgets/controls",
            "_model_module_version": "1.5.0",
            "_model_name": "HTMLModel",
            "_view_count": null,
            "_view_module": "@jupyter-widgets/controls",
            "_view_module_version": "1.5.0",
            "_view_name": "HTMLView",
            "description": "",
            "description_tooltip": null,
            "layout": "IPY_MODEL_00c7d516fd8a4b31b37af48e0c9fb3e2",
            "placeholder": "​",
            "style": "IPY_MODEL_a8d52c63ee82493f9149db901b33f1af",
            "value": " 28.0/28.0 [00:00&lt;00:00, 1.09kB/s]"
          }
        },
        "816dc66448cf432ea26b561c9788d837": {
          "model_module": "@jupyter-widgets/base",
          "model_name": "LayoutModel",
          "model_module_version": "1.2.0",
          "state": {
            "_model_module": "@jupyter-widgets/base",
            "_model_module_version": "1.2.0",
            "_model_name": "LayoutModel",
            "_view_count": null,
            "_view_module": "@jupyter-widgets/base",
            "_view_module_version": "1.2.0",
            "_view_name": "LayoutView",
            "align_content": null,
            "align_items": null,
            "align_self": null,
            "border": null,
            "bottom": null,
            "display": null,
            "flex": null,
            "flex_flow": null,
            "grid_area": null,
            "grid_auto_columns": null,
            "grid_auto_flow": null,
            "grid_auto_rows": null,
            "grid_column": null,
            "grid_gap": null,
            "grid_row": null,
            "grid_template_areas": null,
            "grid_template_columns": null,
            "grid_template_rows": null,
            "height": null,
            "justify_content": null,
            "justify_items": null,
            "left": null,
            "margin": null,
            "max_height": null,
            "max_width": null,
            "min_height": null,
            "min_width": null,
            "object_fit": null,
            "object_position": null,
            "order": null,
            "overflow": null,
            "overflow_x": null,
            "overflow_y": null,
            "padding": null,
            "right": null,
            "top": null,
            "visibility": null,
            "width": null
          }
        },
        "33fad44a14274afd8a7067646a46acf8": {
          "model_module": "@jupyter-widgets/base",
          "model_name": "LayoutModel",
          "model_module_version": "1.2.0",
          "state": {
            "_model_module": "@jupyter-widgets/base",
            "_model_module_version": "1.2.0",
            "_model_name": "LayoutModel",
            "_view_count": null,
            "_view_module": "@jupyter-widgets/base",
            "_view_module_version": "1.2.0",
            "_view_name": "LayoutView",
            "align_content": null,
            "align_items": null,
            "align_self": null,
            "border": null,
            "bottom": null,
            "display": null,
            "flex": null,
            "flex_flow": null,
            "grid_area": null,
            "grid_auto_columns": null,
            "grid_auto_flow": null,
            "grid_auto_rows": null,
            "grid_column": null,
            "grid_gap": null,
            "grid_row": null,
            "grid_template_areas": null,
            "grid_template_columns": null,
            "grid_template_rows": null,
            "height": null,
            "justify_content": null,
            "justify_items": null,
            "left": null,
            "margin": null,
            "max_height": null,
            "max_width": null,
            "min_height": null,
            "min_width": null,
            "object_fit": null,
            "object_position": null,
            "order": null,
            "overflow": null,
            "overflow_x": null,
            "overflow_y": null,
            "padding": null,
            "right": null,
            "top": null,
            "visibility": null,
            "width": null
          }
        },
        "bf4cc2ae58ae433db541a722f3339ee6": {
          "model_module": "@jupyter-widgets/controls",
          "model_name": "DescriptionStyleModel",
          "model_module_version": "1.5.0",
          "state": {
            "_model_module": "@jupyter-widgets/controls",
            "_model_module_version": "1.5.0",
            "_model_name": "DescriptionStyleModel",
            "_view_count": null,
            "_view_module": "@jupyter-widgets/base",
            "_view_module_version": "1.2.0",
            "_view_name": "StyleView",
            "description_width": ""
          }
        },
        "dcf3de0be0f242b1a282bcf111a76ccb": {
          "model_module": "@jupyter-widgets/base",
          "model_name": "LayoutModel",
          "model_module_version": "1.2.0",
          "state": {
            "_model_module": "@jupyter-widgets/base",
            "_model_module_version": "1.2.0",
            "_model_name": "LayoutModel",
            "_view_count": null,
            "_view_module": "@jupyter-widgets/base",
            "_view_module_version": "1.2.0",
            "_view_name": "LayoutView",
            "align_content": null,
            "align_items": null,
            "align_self": null,
            "border": null,
            "bottom": null,
            "display": null,
            "flex": null,
            "flex_flow": null,
            "grid_area": null,
            "grid_auto_columns": null,
            "grid_auto_flow": null,
            "grid_auto_rows": null,
            "grid_column": null,
            "grid_gap": null,
            "grid_row": null,
            "grid_template_areas": null,
            "grid_template_columns": null,
            "grid_template_rows": null,
            "height": null,
            "justify_content": null,
            "justify_items": null,
            "left": null,
            "margin": null,
            "max_height": null,
            "max_width": null,
            "min_height": null,
            "min_width": null,
            "object_fit": null,
            "object_position": null,
            "order": null,
            "overflow": null,
            "overflow_x": null,
            "overflow_y": null,
            "padding": null,
            "right": null,
            "top": null,
            "visibility": null,
            "width": null
          }
        },
        "38ca4f67b7b842d588a8d4284b3b6cc2": {
          "model_module": "@jupyter-widgets/controls",
          "model_name": "ProgressStyleModel",
          "model_module_version": "1.5.0",
          "state": {
            "_model_module": "@jupyter-widgets/controls",
            "_model_module_version": "1.5.0",
            "_model_name": "ProgressStyleModel",
            "_view_count": null,
            "_view_module": "@jupyter-widgets/base",
            "_view_module_version": "1.2.0",
            "_view_name": "StyleView",
            "bar_color": null,
            "description_width": ""
          }
        },
        "00c7d516fd8a4b31b37af48e0c9fb3e2": {
          "model_module": "@jupyter-widgets/base",
          "model_name": "LayoutModel",
          "model_module_version": "1.2.0",
          "state": {
            "_model_module": "@jupyter-widgets/base",
            "_model_module_version": "1.2.0",
            "_model_name": "LayoutModel",
            "_view_count": null,
            "_view_module": "@jupyter-widgets/base",
            "_view_module_version": "1.2.0",
            "_view_name": "LayoutView",
            "align_content": null,
            "align_items": null,
            "align_self": null,
            "border": null,
            "bottom": null,
            "display": null,
            "flex": null,
            "flex_flow": null,
            "grid_area": null,
            "grid_auto_columns": null,
            "grid_auto_flow": null,
            "grid_auto_rows": null,
            "grid_column": null,
            "grid_gap": null,
            "grid_row": null,
            "grid_template_areas": null,
            "grid_template_columns": null,
            "grid_template_rows": null,
            "height": null,
            "justify_content": null,
            "justify_items": null,
            "left": null,
            "margin": null,
            "max_height": null,
            "max_width": null,
            "min_height": null,
            "min_width": null,
            "object_fit": null,
            "object_position": null,
            "order": null,
            "overflow": null,
            "overflow_x": null,
            "overflow_y": null,
            "padding": null,
            "right": null,
            "top": null,
            "visibility": null,
            "width": null
          }
        },
        "a8d52c63ee82493f9149db901b33f1af": {
          "model_module": "@jupyter-widgets/controls",
          "model_name": "DescriptionStyleModel",
          "model_module_version": "1.5.0",
          "state": {
            "_model_module": "@jupyter-widgets/controls",
            "_model_module_version": "1.5.0",
            "_model_name": "DescriptionStyleModel",
            "_view_count": null,
            "_view_module": "@jupyter-widgets/base",
            "_view_module_version": "1.2.0",
            "_view_name": "StyleView",
            "description_width": ""
          }
        },
        "34004e68a1f243988c7bce894722d2f0": {
          "model_module": "@jupyter-widgets/controls",
          "model_name": "HBoxModel",
          "model_module_version": "1.5.0",
          "state": {
            "_dom_classes": [],
            "_model_module": "@jupyter-widgets/controls",
            "_model_module_version": "1.5.0",
            "_model_name": "HBoxModel",
            "_view_count": null,
            "_view_module": "@jupyter-widgets/controls",
            "_view_module_version": "1.5.0",
            "_view_name": "HBoxView",
            "box_style": "",
            "children": [
              "IPY_MODEL_4a1a67e94d444ea7bd660c8985bf21c8",
              "IPY_MODEL_a39b54a1d52240c09cc2cdcb7253449f",
              "IPY_MODEL_457b3a6487c64c809e6ffc0a0aec9851"
            ],
            "layout": "IPY_MODEL_380d66ca2b3b45d99eea0e3ff0cb86bc"
          }
        },
        "4a1a67e94d444ea7bd660c8985bf21c8": {
          "model_module": "@jupyter-widgets/controls",
          "model_name": "HTMLModel",
          "model_module_version": "1.5.0",
          "state": {
            "_dom_classes": [],
            "_model_module": "@jupyter-widgets/controls",
            "_model_module_version": "1.5.0",
            "_model_name": "HTMLModel",
            "_view_count": null,
            "_view_module": "@jupyter-widgets/controls",
            "_view_module_version": "1.5.0",
            "_view_name": "HTMLView",
            "description": "",
            "description_tooltip": null,
            "layout": "IPY_MODEL_55ded3eb96464ab28d1571cb57cfdc3e",
            "placeholder": "​",
            "style": "IPY_MODEL_3f9457ddd77c417fa2106cbebe11e1c9",
            "value": "Downloading (…)lve/main/config.json: 100%"
          }
        },
        "a39b54a1d52240c09cc2cdcb7253449f": {
          "model_module": "@jupyter-widgets/controls",
          "model_name": "FloatProgressModel",
          "model_module_version": "1.5.0",
          "state": {
            "_dom_classes": [],
            "_model_module": "@jupyter-widgets/controls",
            "_model_module_version": "1.5.0",
            "_model_name": "FloatProgressModel",
            "_view_count": null,
            "_view_module": "@jupyter-widgets/controls",
            "_view_module_version": "1.5.0",
            "_view_name": "ProgressView",
            "bar_style": "success",
            "description": "",
            "description_tooltip": null,
            "layout": "IPY_MODEL_5b1de602f1b043bfa9d27e1de07d0225",
            "max": 570,
            "min": 0,
            "orientation": "horizontal",
            "style": "IPY_MODEL_2f9c98b9931847d4b91c819d41babc8a",
            "value": 570
          }
        },
        "457b3a6487c64c809e6ffc0a0aec9851": {
          "model_module": "@jupyter-widgets/controls",
          "model_name": "HTMLModel",
          "model_module_version": "1.5.0",
          "state": {
            "_dom_classes": [],
            "_model_module": "@jupyter-widgets/controls",
            "_model_module_version": "1.5.0",
            "_model_name": "HTMLModel",
            "_view_count": null,
            "_view_module": "@jupyter-widgets/controls",
            "_view_module_version": "1.5.0",
            "_view_name": "HTMLView",
            "description": "",
            "description_tooltip": null,
            "layout": "IPY_MODEL_a6d6434247bf4b759ff4286912aec28b",
            "placeholder": "​",
            "style": "IPY_MODEL_cf1f86dde6dd49579af23680ce473f27",
            "value": " 570/570 [00:00&lt;00:00, 42.6kB/s]"
          }
        },
        "380d66ca2b3b45d99eea0e3ff0cb86bc": {
          "model_module": "@jupyter-widgets/base",
          "model_name": "LayoutModel",
          "model_module_version": "1.2.0",
          "state": {
            "_model_module": "@jupyter-widgets/base",
            "_model_module_version": "1.2.0",
            "_model_name": "LayoutModel",
            "_view_count": null,
            "_view_module": "@jupyter-widgets/base",
            "_view_module_version": "1.2.0",
            "_view_name": "LayoutView",
            "align_content": null,
            "align_items": null,
            "align_self": null,
            "border": null,
            "bottom": null,
            "display": null,
            "flex": null,
            "flex_flow": null,
            "grid_area": null,
            "grid_auto_columns": null,
            "grid_auto_flow": null,
            "grid_auto_rows": null,
            "grid_column": null,
            "grid_gap": null,
            "grid_row": null,
            "grid_template_areas": null,
            "grid_template_columns": null,
            "grid_template_rows": null,
            "height": null,
            "justify_content": null,
            "justify_items": null,
            "left": null,
            "margin": null,
            "max_height": null,
            "max_width": null,
            "min_height": null,
            "min_width": null,
            "object_fit": null,
            "object_position": null,
            "order": null,
            "overflow": null,
            "overflow_x": null,
            "overflow_y": null,
            "padding": null,
            "right": null,
            "top": null,
            "visibility": null,
            "width": null
          }
        },
        "55ded3eb96464ab28d1571cb57cfdc3e": {
          "model_module": "@jupyter-widgets/base",
          "model_name": "LayoutModel",
          "model_module_version": "1.2.0",
          "state": {
            "_model_module": "@jupyter-widgets/base",
            "_model_module_version": "1.2.0",
            "_model_name": "LayoutModel",
            "_view_count": null,
            "_view_module": "@jupyter-widgets/base",
            "_view_module_version": "1.2.0",
            "_view_name": "LayoutView",
            "align_content": null,
            "align_items": null,
            "align_self": null,
            "border": null,
            "bottom": null,
            "display": null,
            "flex": null,
            "flex_flow": null,
            "grid_area": null,
            "grid_auto_columns": null,
            "grid_auto_flow": null,
            "grid_auto_rows": null,
            "grid_column": null,
            "grid_gap": null,
            "grid_row": null,
            "grid_template_areas": null,
            "grid_template_columns": null,
            "grid_template_rows": null,
            "height": null,
            "justify_content": null,
            "justify_items": null,
            "left": null,
            "margin": null,
            "max_height": null,
            "max_width": null,
            "min_height": null,
            "min_width": null,
            "object_fit": null,
            "object_position": null,
            "order": null,
            "overflow": null,
            "overflow_x": null,
            "overflow_y": null,
            "padding": null,
            "right": null,
            "top": null,
            "visibility": null,
            "width": null
          }
        },
        "3f9457ddd77c417fa2106cbebe11e1c9": {
          "model_module": "@jupyter-widgets/controls",
          "model_name": "DescriptionStyleModel",
          "model_module_version": "1.5.0",
          "state": {
            "_model_module": "@jupyter-widgets/controls",
            "_model_module_version": "1.5.0",
            "_model_name": "DescriptionStyleModel",
            "_view_count": null,
            "_view_module": "@jupyter-widgets/base",
            "_view_module_version": "1.2.0",
            "_view_name": "StyleView",
            "description_width": ""
          }
        },
        "5b1de602f1b043bfa9d27e1de07d0225": {
          "model_module": "@jupyter-widgets/base",
          "model_name": "LayoutModel",
          "model_module_version": "1.2.0",
          "state": {
            "_model_module": "@jupyter-widgets/base",
            "_model_module_version": "1.2.0",
            "_model_name": "LayoutModel",
            "_view_count": null,
            "_view_module": "@jupyter-widgets/base",
            "_view_module_version": "1.2.0",
            "_view_name": "LayoutView",
            "align_content": null,
            "align_items": null,
            "align_self": null,
            "border": null,
            "bottom": null,
            "display": null,
            "flex": null,
            "flex_flow": null,
            "grid_area": null,
            "grid_auto_columns": null,
            "grid_auto_flow": null,
            "grid_auto_rows": null,
            "grid_column": null,
            "grid_gap": null,
            "grid_row": null,
            "grid_template_areas": null,
            "grid_template_columns": null,
            "grid_template_rows": null,
            "height": null,
            "justify_content": null,
            "justify_items": null,
            "left": null,
            "margin": null,
            "max_height": null,
            "max_width": null,
            "min_height": null,
            "min_width": null,
            "object_fit": null,
            "object_position": null,
            "order": null,
            "overflow": null,
            "overflow_x": null,
            "overflow_y": null,
            "padding": null,
            "right": null,
            "top": null,
            "visibility": null,
            "width": null
          }
        },
        "2f9c98b9931847d4b91c819d41babc8a": {
          "model_module": "@jupyter-widgets/controls",
          "model_name": "ProgressStyleModel",
          "model_module_version": "1.5.0",
          "state": {
            "_model_module": "@jupyter-widgets/controls",
            "_model_module_version": "1.5.0",
            "_model_name": "ProgressStyleModel",
            "_view_count": null,
            "_view_module": "@jupyter-widgets/base",
            "_view_module_version": "1.2.0",
            "_view_name": "StyleView",
            "bar_color": null,
            "description_width": ""
          }
        },
        "a6d6434247bf4b759ff4286912aec28b": {
          "model_module": "@jupyter-widgets/base",
          "model_name": "LayoutModel",
          "model_module_version": "1.2.0",
          "state": {
            "_model_module": "@jupyter-widgets/base",
            "_model_module_version": "1.2.0",
            "_model_name": "LayoutModel",
            "_view_count": null,
            "_view_module": "@jupyter-widgets/base",
            "_view_module_version": "1.2.0",
            "_view_name": "LayoutView",
            "align_content": null,
            "align_items": null,
            "align_self": null,
            "border": null,
            "bottom": null,
            "display": null,
            "flex": null,
            "flex_flow": null,
            "grid_area": null,
            "grid_auto_columns": null,
            "grid_auto_flow": null,
            "grid_auto_rows": null,
            "grid_column": null,
            "grid_gap": null,
            "grid_row": null,
            "grid_template_areas": null,
            "grid_template_columns": null,
            "grid_template_rows": null,
            "height": null,
            "justify_content": null,
            "justify_items": null,
            "left": null,
            "margin": null,
            "max_height": null,
            "max_width": null,
            "min_height": null,
            "min_width": null,
            "object_fit": null,
            "object_position": null,
            "order": null,
            "overflow": null,
            "overflow_x": null,
            "overflow_y": null,
            "padding": null,
            "right": null,
            "top": null,
            "visibility": null,
            "width": null
          }
        },
        "cf1f86dde6dd49579af23680ce473f27": {
          "model_module": "@jupyter-widgets/controls",
          "model_name": "DescriptionStyleModel",
          "model_module_version": "1.5.0",
          "state": {
            "_model_module": "@jupyter-widgets/controls",
            "_model_module_version": "1.5.0",
            "_model_name": "DescriptionStyleModel",
            "_view_count": null,
            "_view_module": "@jupyter-widgets/base",
            "_view_module_version": "1.2.0",
            "_view_name": "StyleView",
            "description_width": ""
          }
        },
        "c6a074e8ab4f44d9b78d89171e522ff7": {
          "model_module": "@jupyter-widgets/controls",
          "model_name": "HBoxModel",
          "model_module_version": "1.5.0",
          "state": {
            "_dom_classes": [],
            "_model_module": "@jupyter-widgets/controls",
            "_model_module_version": "1.5.0",
            "_model_name": "HBoxModel",
            "_view_count": null,
            "_view_module": "@jupyter-widgets/controls",
            "_view_module_version": "1.5.0",
            "_view_name": "HBoxView",
            "box_style": "",
            "children": [
              "IPY_MODEL_4828d84f611d414f82a3bd2f78c40114",
              "IPY_MODEL_f5226f240a5e445f9e33ee5d6f5286d3",
              "IPY_MODEL_ee8091feafea467eaf163b2f18e4dbe0"
            ],
            "layout": "IPY_MODEL_dbe52df1a1ed48418406245129d09e59"
          }
        },
        "4828d84f611d414f82a3bd2f78c40114": {
          "model_module": "@jupyter-widgets/controls",
          "model_name": "HTMLModel",
          "model_module_version": "1.5.0",
          "state": {
            "_dom_classes": [],
            "_model_module": "@jupyter-widgets/controls",
            "_model_module_version": "1.5.0",
            "_model_name": "HTMLModel",
            "_view_count": null,
            "_view_module": "@jupyter-widgets/controls",
            "_view_module_version": "1.5.0",
            "_view_name": "HTMLView",
            "description": "",
            "description_tooltip": null,
            "layout": "IPY_MODEL_ace5157c28514c4abc48784310ea0a0e",
            "placeholder": "​",
            "style": "IPY_MODEL_763ed2a6cc8148bfbc84be27d5399eeb",
            "value": "Downloading (…)solve/main/vocab.txt: 100%"
          }
        },
        "f5226f240a5e445f9e33ee5d6f5286d3": {
          "model_module": "@jupyter-widgets/controls",
          "model_name": "FloatProgressModel",
          "model_module_version": "1.5.0",
          "state": {
            "_dom_classes": [],
            "_model_module": "@jupyter-widgets/controls",
            "_model_module_version": "1.5.0",
            "_model_name": "FloatProgressModel",
            "_view_count": null,
            "_view_module": "@jupyter-widgets/controls",
            "_view_module_version": "1.5.0",
            "_view_name": "ProgressView",
            "bar_style": "success",
            "description": "",
            "description_tooltip": null,
            "layout": "IPY_MODEL_77a5bdfc5bd942e1ac6d0f9c1ce23961",
            "max": 231508,
            "min": 0,
            "orientation": "horizontal",
            "style": "IPY_MODEL_064b7993a2a64977bd4da950721df144",
            "value": 231508
          }
        },
        "ee8091feafea467eaf163b2f18e4dbe0": {
          "model_module": "@jupyter-widgets/controls",
          "model_name": "HTMLModel",
          "model_module_version": "1.5.0",
          "state": {
            "_dom_classes": [],
            "_model_module": "@jupyter-widgets/controls",
            "_model_module_version": "1.5.0",
            "_model_name": "HTMLModel",
            "_view_count": null,
            "_view_module": "@jupyter-widgets/controls",
            "_view_module_version": "1.5.0",
            "_view_name": "HTMLView",
            "description": "",
            "description_tooltip": null,
            "layout": "IPY_MODEL_391d9e5859c246258c77bd376c1c955b",
            "placeholder": "​",
            "style": "IPY_MODEL_154b86a66be440a9a3ca6a374d9bde86",
            "value": " 232k/232k [00:00&lt;00:00, 682kB/s]"
          }
        },
        "dbe52df1a1ed48418406245129d09e59": {
          "model_module": "@jupyter-widgets/base",
          "model_name": "LayoutModel",
          "model_module_version": "1.2.0",
          "state": {
            "_model_module": "@jupyter-widgets/base",
            "_model_module_version": "1.2.0",
            "_model_name": "LayoutModel",
            "_view_count": null,
            "_view_module": "@jupyter-widgets/base",
            "_view_module_version": "1.2.0",
            "_view_name": "LayoutView",
            "align_content": null,
            "align_items": null,
            "align_self": null,
            "border": null,
            "bottom": null,
            "display": null,
            "flex": null,
            "flex_flow": null,
            "grid_area": null,
            "grid_auto_columns": null,
            "grid_auto_flow": null,
            "grid_auto_rows": null,
            "grid_column": null,
            "grid_gap": null,
            "grid_row": null,
            "grid_template_areas": null,
            "grid_template_columns": null,
            "grid_template_rows": null,
            "height": null,
            "justify_content": null,
            "justify_items": null,
            "left": null,
            "margin": null,
            "max_height": null,
            "max_width": null,
            "min_height": null,
            "min_width": null,
            "object_fit": null,
            "object_position": null,
            "order": null,
            "overflow": null,
            "overflow_x": null,
            "overflow_y": null,
            "padding": null,
            "right": null,
            "top": null,
            "visibility": null,
            "width": null
          }
        },
        "ace5157c28514c4abc48784310ea0a0e": {
          "model_module": "@jupyter-widgets/base",
          "model_name": "LayoutModel",
          "model_module_version": "1.2.0",
          "state": {
            "_model_module": "@jupyter-widgets/base",
            "_model_module_version": "1.2.0",
            "_model_name": "LayoutModel",
            "_view_count": null,
            "_view_module": "@jupyter-widgets/base",
            "_view_module_version": "1.2.0",
            "_view_name": "LayoutView",
            "align_content": null,
            "align_items": null,
            "align_self": null,
            "border": null,
            "bottom": null,
            "display": null,
            "flex": null,
            "flex_flow": null,
            "grid_area": null,
            "grid_auto_columns": null,
            "grid_auto_flow": null,
            "grid_auto_rows": null,
            "grid_column": null,
            "grid_gap": null,
            "grid_row": null,
            "grid_template_areas": null,
            "grid_template_columns": null,
            "grid_template_rows": null,
            "height": null,
            "justify_content": null,
            "justify_items": null,
            "left": null,
            "margin": null,
            "max_height": null,
            "max_width": null,
            "min_height": null,
            "min_width": null,
            "object_fit": null,
            "object_position": null,
            "order": null,
            "overflow": null,
            "overflow_x": null,
            "overflow_y": null,
            "padding": null,
            "right": null,
            "top": null,
            "visibility": null,
            "width": null
          }
        },
        "763ed2a6cc8148bfbc84be27d5399eeb": {
          "model_module": "@jupyter-widgets/controls",
          "model_name": "DescriptionStyleModel",
          "model_module_version": "1.5.0",
          "state": {
            "_model_module": "@jupyter-widgets/controls",
            "_model_module_version": "1.5.0",
            "_model_name": "DescriptionStyleModel",
            "_view_count": null,
            "_view_module": "@jupyter-widgets/base",
            "_view_module_version": "1.2.0",
            "_view_name": "StyleView",
            "description_width": ""
          }
        },
        "77a5bdfc5bd942e1ac6d0f9c1ce23961": {
          "model_module": "@jupyter-widgets/base",
          "model_name": "LayoutModel",
          "model_module_version": "1.2.0",
          "state": {
            "_model_module": "@jupyter-widgets/base",
            "_model_module_version": "1.2.0",
            "_model_name": "LayoutModel",
            "_view_count": null,
            "_view_module": "@jupyter-widgets/base",
            "_view_module_version": "1.2.0",
            "_view_name": "LayoutView",
            "align_content": null,
            "align_items": null,
            "align_self": null,
            "border": null,
            "bottom": null,
            "display": null,
            "flex": null,
            "flex_flow": null,
            "grid_area": null,
            "grid_auto_columns": null,
            "grid_auto_flow": null,
            "grid_auto_rows": null,
            "grid_column": null,
            "grid_gap": null,
            "grid_row": null,
            "grid_template_areas": null,
            "grid_template_columns": null,
            "grid_template_rows": null,
            "height": null,
            "justify_content": null,
            "justify_items": null,
            "left": null,
            "margin": null,
            "max_height": null,
            "max_width": null,
            "min_height": null,
            "min_width": null,
            "object_fit": null,
            "object_position": null,
            "order": null,
            "overflow": null,
            "overflow_x": null,
            "overflow_y": null,
            "padding": null,
            "right": null,
            "top": null,
            "visibility": null,
            "width": null
          }
        },
        "064b7993a2a64977bd4da950721df144": {
          "model_module": "@jupyter-widgets/controls",
          "model_name": "ProgressStyleModel",
          "model_module_version": "1.5.0",
          "state": {
            "_model_module": "@jupyter-widgets/controls",
            "_model_module_version": "1.5.0",
            "_model_name": "ProgressStyleModel",
            "_view_count": null,
            "_view_module": "@jupyter-widgets/base",
            "_view_module_version": "1.2.0",
            "_view_name": "StyleView",
            "bar_color": null,
            "description_width": ""
          }
        },
        "391d9e5859c246258c77bd376c1c955b": {
          "model_module": "@jupyter-widgets/base",
          "model_name": "LayoutModel",
          "model_module_version": "1.2.0",
          "state": {
            "_model_module": "@jupyter-widgets/base",
            "_model_module_version": "1.2.0",
            "_model_name": "LayoutModel",
            "_view_count": null,
            "_view_module": "@jupyter-widgets/base",
            "_view_module_version": "1.2.0",
            "_view_name": "LayoutView",
            "align_content": null,
            "align_items": null,
            "align_self": null,
            "border": null,
            "bottom": null,
            "display": null,
            "flex": null,
            "flex_flow": null,
            "grid_area": null,
            "grid_auto_columns": null,
            "grid_auto_flow": null,
            "grid_auto_rows": null,
            "grid_column": null,
            "grid_gap": null,
            "grid_row": null,
            "grid_template_areas": null,
            "grid_template_columns": null,
            "grid_template_rows": null,
            "height": null,
            "justify_content": null,
            "justify_items": null,
            "left": null,
            "margin": null,
            "max_height": null,
            "max_width": null,
            "min_height": null,
            "min_width": null,
            "object_fit": null,
            "object_position": null,
            "order": null,
            "overflow": null,
            "overflow_x": null,
            "overflow_y": null,
            "padding": null,
            "right": null,
            "top": null,
            "visibility": null,
            "width": null
          }
        },
        "154b86a66be440a9a3ca6a374d9bde86": {
          "model_module": "@jupyter-widgets/controls",
          "model_name": "DescriptionStyleModel",
          "model_module_version": "1.5.0",
          "state": {
            "_model_module": "@jupyter-widgets/controls",
            "_model_module_version": "1.5.0",
            "_model_name": "DescriptionStyleModel",
            "_view_count": null,
            "_view_module": "@jupyter-widgets/base",
            "_view_module_version": "1.2.0",
            "_view_name": "StyleView",
            "description_width": ""
          }
        },
        "3831eb168a794cc6943301687960e608": {
          "model_module": "@jupyter-widgets/controls",
          "model_name": "HBoxModel",
          "model_module_version": "1.5.0",
          "state": {
            "_dom_classes": [],
            "_model_module": "@jupyter-widgets/controls",
            "_model_module_version": "1.5.0",
            "_model_name": "HBoxModel",
            "_view_count": null,
            "_view_module": "@jupyter-widgets/controls",
            "_view_module_version": "1.5.0",
            "_view_name": "HBoxView",
            "box_style": "",
            "children": [
              "IPY_MODEL_399db87a508a4a0e9c2f8d57fc500f54",
              "IPY_MODEL_c55cb9eea38a47dfbd640a3d054fe305",
              "IPY_MODEL_685c1039120540638b6be8009a6b2f6b"
            ],
            "layout": "IPY_MODEL_ad134c1bcad940abb5e90ae0ea89819a"
          }
        },
        "399db87a508a4a0e9c2f8d57fc500f54": {
          "model_module": "@jupyter-widgets/controls",
          "model_name": "HTMLModel",
          "model_module_version": "1.5.0",
          "state": {
            "_dom_classes": [],
            "_model_module": "@jupyter-widgets/controls",
            "_model_module_version": "1.5.0",
            "_model_name": "HTMLModel",
            "_view_count": null,
            "_view_module": "@jupyter-widgets/controls",
            "_view_module_version": "1.5.0",
            "_view_name": "HTMLView",
            "description": "",
            "description_tooltip": null,
            "layout": "IPY_MODEL_f643485b1f0749c485593defe1fbb55f",
            "placeholder": "​",
            "style": "IPY_MODEL_9ce79d3c06e4444fb6d2a8849d49fdfd",
            "value": "Downloading (…)okenizer_config.json: 100%"
          }
        },
        "c55cb9eea38a47dfbd640a3d054fe305": {
          "model_module": "@jupyter-widgets/controls",
          "model_name": "FloatProgressModel",
          "model_module_version": "1.5.0",
          "state": {
            "_dom_classes": [],
            "_model_module": "@jupyter-widgets/controls",
            "_model_module_version": "1.5.0",
            "_model_name": "FloatProgressModel",
            "_view_count": null,
            "_view_module": "@jupyter-widgets/controls",
            "_view_module_version": "1.5.0",
            "_view_name": "ProgressView",
            "bar_style": "success",
            "description": "",
            "description_tooltip": null,
            "layout": "IPY_MODEL_a67b240c21ad40778c5bc7c34b1d3872",
            "max": 28,
            "min": 0,
            "orientation": "horizontal",
            "style": "IPY_MODEL_9240253364ce41a18d9f3b4e7a6de89e",
            "value": 28
          }
        },
        "685c1039120540638b6be8009a6b2f6b": {
          "model_module": "@jupyter-widgets/controls",
          "model_name": "HTMLModel",
          "model_module_version": "1.5.0",
          "state": {
            "_dom_classes": [],
            "_model_module": "@jupyter-widgets/controls",
            "_model_module_version": "1.5.0",
            "_model_name": "HTMLModel",
            "_view_count": null,
            "_view_module": "@jupyter-widgets/controls",
            "_view_module_version": "1.5.0",
            "_view_name": "HTMLView",
            "description": "",
            "description_tooltip": null,
            "layout": "IPY_MODEL_34807a2fb7bf46b48b968a99e8d7fe44",
            "placeholder": "​",
            "style": "IPY_MODEL_5096b3e9824a4dd19ddf06dc79840bbe",
            "value": " 28.0/28.0 [00:00&lt;00:00, 1.14kB/s]"
          }
        },
        "ad134c1bcad940abb5e90ae0ea89819a": {
          "model_module": "@jupyter-widgets/base",
          "model_name": "LayoutModel",
          "model_module_version": "1.2.0",
          "state": {
            "_model_module": "@jupyter-widgets/base",
            "_model_module_version": "1.2.0",
            "_model_name": "LayoutModel",
            "_view_count": null,
            "_view_module": "@jupyter-widgets/base",
            "_view_module_version": "1.2.0",
            "_view_name": "LayoutView",
            "align_content": null,
            "align_items": null,
            "align_self": null,
            "border": null,
            "bottom": null,
            "display": null,
            "flex": null,
            "flex_flow": null,
            "grid_area": null,
            "grid_auto_columns": null,
            "grid_auto_flow": null,
            "grid_auto_rows": null,
            "grid_column": null,
            "grid_gap": null,
            "grid_row": null,
            "grid_template_areas": null,
            "grid_template_columns": null,
            "grid_template_rows": null,
            "height": null,
            "justify_content": null,
            "justify_items": null,
            "left": null,
            "margin": null,
            "max_height": null,
            "max_width": null,
            "min_height": null,
            "min_width": null,
            "object_fit": null,
            "object_position": null,
            "order": null,
            "overflow": null,
            "overflow_x": null,
            "overflow_y": null,
            "padding": null,
            "right": null,
            "top": null,
            "visibility": null,
            "width": null
          }
        },
        "f643485b1f0749c485593defe1fbb55f": {
          "model_module": "@jupyter-widgets/base",
          "model_name": "LayoutModel",
          "model_module_version": "1.2.0",
          "state": {
            "_model_module": "@jupyter-widgets/base",
            "_model_module_version": "1.2.0",
            "_model_name": "LayoutModel",
            "_view_count": null,
            "_view_module": "@jupyter-widgets/base",
            "_view_module_version": "1.2.0",
            "_view_name": "LayoutView",
            "align_content": null,
            "align_items": null,
            "align_self": null,
            "border": null,
            "bottom": null,
            "display": null,
            "flex": null,
            "flex_flow": null,
            "grid_area": null,
            "grid_auto_columns": null,
            "grid_auto_flow": null,
            "grid_auto_rows": null,
            "grid_column": null,
            "grid_gap": null,
            "grid_row": null,
            "grid_template_areas": null,
            "grid_template_columns": null,
            "grid_template_rows": null,
            "height": null,
            "justify_content": null,
            "justify_items": null,
            "left": null,
            "margin": null,
            "max_height": null,
            "max_width": null,
            "min_height": null,
            "min_width": null,
            "object_fit": null,
            "object_position": null,
            "order": null,
            "overflow": null,
            "overflow_x": null,
            "overflow_y": null,
            "padding": null,
            "right": null,
            "top": null,
            "visibility": null,
            "width": null
          }
        },
        "9ce79d3c06e4444fb6d2a8849d49fdfd": {
          "model_module": "@jupyter-widgets/controls",
          "model_name": "DescriptionStyleModel",
          "model_module_version": "1.5.0",
          "state": {
            "_model_module": "@jupyter-widgets/controls",
            "_model_module_version": "1.5.0",
            "_model_name": "DescriptionStyleModel",
            "_view_count": null,
            "_view_module": "@jupyter-widgets/base",
            "_view_module_version": "1.2.0",
            "_view_name": "StyleView",
            "description_width": ""
          }
        },
        "a67b240c21ad40778c5bc7c34b1d3872": {
          "model_module": "@jupyter-widgets/base",
          "model_name": "LayoutModel",
          "model_module_version": "1.2.0",
          "state": {
            "_model_module": "@jupyter-widgets/base",
            "_model_module_version": "1.2.0",
            "_model_name": "LayoutModel",
            "_view_count": null,
            "_view_module": "@jupyter-widgets/base",
            "_view_module_version": "1.2.0",
            "_view_name": "LayoutView",
            "align_content": null,
            "align_items": null,
            "align_self": null,
            "border": null,
            "bottom": null,
            "display": null,
            "flex": null,
            "flex_flow": null,
            "grid_area": null,
            "grid_auto_columns": null,
            "grid_auto_flow": null,
            "grid_auto_rows": null,
            "grid_column": null,
            "grid_gap": null,
            "grid_row": null,
            "grid_template_areas": null,
            "grid_template_columns": null,
            "grid_template_rows": null,
            "height": null,
            "justify_content": null,
            "justify_items": null,
            "left": null,
            "margin": null,
            "max_height": null,
            "max_width": null,
            "min_height": null,
            "min_width": null,
            "object_fit": null,
            "object_position": null,
            "order": null,
            "overflow": null,
            "overflow_x": null,
            "overflow_y": null,
            "padding": null,
            "right": null,
            "top": null,
            "visibility": null,
            "width": null
          }
        },
        "9240253364ce41a18d9f3b4e7a6de89e": {
          "model_module": "@jupyter-widgets/controls",
          "model_name": "ProgressStyleModel",
          "model_module_version": "1.5.0",
          "state": {
            "_model_module": "@jupyter-widgets/controls",
            "_model_module_version": "1.5.0",
            "_model_name": "ProgressStyleModel",
            "_view_count": null,
            "_view_module": "@jupyter-widgets/base",
            "_view_module_version": "1.2.0",
            "_view_name": "StyleView",
            "bar_color": null,
            "description_width": ""
          }
        },
        "34807a2fb7bf46b48b968a99e8d7fe44": {
          "model_module": "@jupyter-widgets/base",
          "model_name": "LayoutModel",
          "model_module_version": "1.2.0",
          "state": {
            "_model_module": "@jupyter-widgets/base",
            "_model_module_version": "1.2.0",
            "_model_name": "LayoutModel",
            "_view_count": null,
            "_view_module": "@jupyter-widgets/base",
            "_view_module_version": "1.2.0",
            "_view_name": "LayoutView",
            "align_content": null,
            "align_items": null,
            "align_self": null,
            "border": null,
            "bottom": null,
            "display": null,
            "flex": null,
            "flex_flow": null,
            "grid_area": null,
            "grid_auto_columns": null,
            "grid_auto_flow": null,
            "grid_auto_rows": null,
            "grid_column": null,
            "grid_gap": null,
            "grid_row": null,
            "grid_template_areas": null,
            "grid_template_columns": null,
            "grid_template_rows": null,
            "height": null,
            "justify_content": null,
            "justify_items": null,
            "left": null,
            "margin": null,
            "max_height": null,
            "max_width": null,
            "min_height": null,
            "min_width": null,
            "object_fit": null,
            "object_position": null,
            "order": null,
            "overflow": null,
            "overflow_x": null,
            "overflow_y": null,
            "padding": null,
            "right": null,
            "top": null,
            "visibility": null,
            "width": null
          }
        },
        "5096b3e9824a4dd19ddf06dc79840bbe": {
          "model_module": "@jupyter-widgets/controls",
          "model_name": "DescriptionStyleModel",
          "model_module_version": "1.5.0",
          "state": {
            "_model_module": "@jupyter-widgets/controls",
            "_model_module_version": "1.5.0",
            "_model_name": "DescriptionStyleModel",
            "_view_count": null,
            "_view_module": "@jupyter-widgets/base",
            "_view_module_version": "1.2.0",
            "_view_name": "StyleView",
            "description_width": ""
          }
        },
        "3f204dcb42694e729464511356b45156": {
          "model_module": "@jupyter-widgets/controls",
          "model_name": "HBoxModel",
          "model_module_version": "1.5.0",
          "state": {
            "_dom_classes": [],
            "_model_module": "@jupyter-widgets/controls",
            "_model_module_version": "1.5.0",
            "_model_name": "HBoxModel",
            "_view_count": null,
            "_view_module": "@jupyter-widgets/controls",
            "_view_module_version": "1.5.0",
            "_view_name": "HBoxView",
            "box_style": "",
            "children": [
              "IPY_MODEL_a4fa301c1c42426a9d550c9dcba49f44",
              "IPY_MODEL_e9198201addc424388db58c8eab06a93",
              "IPY_MODEL_60ef423f056a405c9c11f3ee1e91c967"
            ],
            "layout": "IPY_MODEL_c0e20519102544459cfe8cc5e713510d"
          }
        },
        "a4fa301c1c42426a9d550c9dcba49f44": {
          "model_module": "@jupyter-widgets/controls",
          "model_name": "HTMLModel",
          "model_module_version": "1.5.0",
          "state": {
            "_dom_classes": [],
            "_model_module": "@jupyter-widgets/controls",
            "_model_module_version": "1.5.0",
            "_model_name": "HTMLModel",
            "_view_count": null,
            "_view_module": "@jupyter-widgets/controls",
            "_view_module_version": "1.5.0",
            "_view_name": "HTMLView",
            "description": "",
            "description_tooltip": null,
            "layout": "IPY_MODEL_9189e446c0cd43599c7393cfe762944f",
            "placeholder": "​",
            "style": "IPY_MODEL_46d3407cd60743589245f559afa14bf7",
            "value": "Downloading (…)lve/main/config.json: 100%"
          }
        },
        "e9198201addc424388db58c8eab06a93": {
          "model_module": "@jupyter-widgets/controls",
          "model_name": "FloatProgressModel",
          "model_module_version": "1.5.0",
          "state": {
            "_dom_classes": [],
            "_model_module": "@jupyter-widgets/controls",
            "_model_module_version": "1.5.0",
            "_model_name": "FloatProgressModel",
            "_view_count": null,
            "_view_module": "@jupyter-widgets/controls",
            "_view_module_version": "1.5.0",
            "_view_name": "ProgressView",
            "bar_style": "success",
            "description": "",
            "description_tooltip": null,
            "layout": "IPY_MODEL_06688f6de7a14da18140d5cfed758efd",
            "max": 570,
            "min": 0,
            "orientation": "horizontal",
            "style": "IPY_MODEL_e88fbc8e23c140519efc638490d66a79",
            "value": 570
          }
        },
        "60ef423f056a405c9c11f3ee1e91c967": {
          "model_module": "@jupyter-widgets/controls",
          "model_name": "HTMLModel",
          "model_module_version": "1.5.0",
          "state": {
            "_dom_classes": [],
            "_model_module": "@jupyter-widgets/controls",
            "_model_module_version": "1.5.0",
            "_model_name": "HTMLModel",
            "_view_count": null,
            "_view_module": "@jupyter-widgets/controls",
            "_view_module_version": "1.5.0",
            "_view_name": "HTMLView",
            "description": "",
            "description_tooltip": null,
            "layout": "IPY_MODEL_bd223c0d3b8c4f67932529b6ea774fff",
            "placeholder": "​",
            "style": "IPY_MODEL_4632d63ba5e14b5ab66a504642abc66b",
            "value": " 570/570 [00:00&lt;00:00, 19.6kB/s]"
          }
        },
        "c0e20519102544459cfe8cc5e713510d": {
          "model_module": "@jupyter-widgets/base",
          "model_name": "LayoutModel",
          "model_module_version": "1.2.0",
          "state": {
            "_model_module": "@jupyter-widgets/base",
            "_model_module_version": "1.2.0",
            "_model_name": "LayoutModel",
            "_view_count": null,
            "_view_module": "@jupyter-widgets/base",
            "_view_module_version": "1.2.0",
            "_view_name": "LayoutView",
            "align_content": null,
            "align_items": null,
            "align_self": null,
            "border": null,
            "bottom": null,
            "display": null,
            "flex": null,
            "flex_flow": null,
            "grid_area": null,
            "grid_auto_columns": null,
            "grid_auto_flow": null,
            "grid_auto_rows": null,
            "grid_column": null,
            "grid_gap": null,
            "grid_row": null,
            "grid_template_areas": null,
            "grid_template_columns": null,
            "grid_template_rows": null,
            "height": null,
            "justify_content": null,
            "justify_items": null,
            "left": null,
            "margin": null,
            "max_height": null,
            "max_width": null,
            "min_height": null,
            "min_width": null,
            "object_fit": null,
            "object_position": null,
            "order": null,
            "overflow": null,
            "overflow_x": null,
            "overflow_y": null,
            "padding": null,
            "right": null,
            "top": null,
            "visibility": null,
            "width": null
          }
        },
        "9189e446c0cd43599c7393cfe762944f": {
          "model_module": "@jupyter-widgets/base",
          "model_name": "LayoutModel",
          "model_module_version": "1.2.0",
          "state": {
            "_model_module": "@jupyter-widgets/base",
            "_model_module_version": "1.2.0",
            "_model_name": "LayoutModel",
            "_view_count": null,
            "_view_module": "@jupyter-widgets/base",
            "_view_module_version": "1.2.0",
            "_view_name": "LayoutView",
            "align_content": null,
            "align_items": null,
            "align_self": null,
            "border": null,
            "bottom": null,
            "display": null,
            "flex": null,
            "flex_flow": null,
            "grid_area": null,
            "grid_auto_columns": null,
            "grid_auto_flow": null,
            "grid_auto_rows": null,
            "grid_column": null,
            "grid_gap": null,
            "grid_row": null,
            "grid_template_areas": null,
            "grid_template_columns": null,
            "grid_template_rows": null,
            "height": null,
            "justify_content": null,
            "justify_items": null,
            "left": null,
            "margin": null,
            "max_height": null,
            "max_width": null,
            "min_height": null,
            "min_width": null,
            "object_fit": null,
            "object_position": null,
            "order": null,
            "overflow": null,
            "overflow_x": null,
            "overflow_y": null,
            "padding": null,
            "right": null,
            "top": null,
            "visibility": null,
            "width": null
          }
        },
        "46d3407cd60743589245f559afa14bf7": {
          "model_module": "@jupyter-widgets/controls",
          "model_name": "DescriptionStyleModel",
          "model_module_version": "1.5.0",
          "state": {
            "_model_module": "@jupyter-widgets/controls",
            "_model_module_version": "1.5.0",
            "_model_name": "DescriptionStyleModel",
            "_view_count": null,
            "_view_module": "@jupyter-widgets/base",
            "_view_module_version": "1.2.0",
            "_view_name": "StyleView",
            "description_width": ""
          }
        },
        "06688f6de7a14da18140d5cfed758efd": {
          "model_module": "@jupyter-widgets/base",
          "model_name": "LayoutModel",
          "model_module_version": "1.2.0",
          "state": {
            "_model_module": "@jupyter-widgets/base",
            "_model_module_version": "1.2.0",
            "_model_name": "LayoutModel",
            "_view_count": null,
            "_view_module": "@jupyter-widgets/base",
            "_view_module_version": "1.2.0",
            "_view_name": "LayoutView",
            "align_content": null,
            "align_items": null,
            "align_self": null,
            "border": null,
            "bottom": null,
            "display": null,
            "flex": null,
            "flex_flow": null,
            "grid_area": null,
            "grid_auto_columns": null,
            "grid_auto_flow": null,
            "grid_auto_rows": null,
            "grid_column": null,
            "grid_gap": null,
            "grid_row": null,
            "grid_template_areas": null,
            "grid_template_columns": null,
            "grid_template_rows": null,
            "height": null,
            "justify_content": null,
            "justify_items": null,
            "left": null,
            "margin": null,
            "max_height": null,
            "max_width": null,
            "min_height": null,
            "min_width": null,
            "object_fit": null,
            "object_position": null,
            "order": null,
            "overflow": null,
            "overflow_x": null,
            "overflow_y": null,
            "padding": null,
            "right": null,
            "top": null,
            "visibility": null,
            "width": null
          }
        },
        "e88fbc8e23c140519efc638490d66a79": {
          "model_module": "@jupyter-widgets/controls",
          "model_name": "ProgressStyleModel",
          "model_module_version": "1.5.0",
          "state": {
            "_model_module": "@jupyter-widgets/controls",
            "_model_module_version": "1.5.0",
            "_model_name": "ProgressStyleModel",
            "_view_count": null,
            "_view_module": "@jupyter-widgets/base",
            "_view_module_version": "1.2.0",
            "_view_name": "StyleView",
            "bar_color": null,
            "description_width": ""
          }
        },
        "bd223c0d3b8c4f67932529b6ea774fff": {
          "model_module": "@jupyter-widgets/base",
          "model_name": "LayoutModel",
          "model_module_version": "1.2.0",
          "state": {
            "_model_module": "@jupyter-widgets/base",
            "_model_module_version": "1.2.0",
            "_model_name": "LayoutModel",
            "_view_count": null,
            "_view_module": "@jupyter-widgets/base",
            "_view_module_version": "1.2.0",
            "_view_name": "LayoutView",
            "align_content": null,
            "align_items": null,
            "align_self": null,
            "border": null,
            "bottom": null,
            "display": null,
            "flex": null,
            "flex_flow": null,
            "grid_area": null,
            "grid_auto_columns": null,
            "grid_auto_flow": null,
            "grid_auto_rows": null,
            "grid_column": null,
            "grid_gap": null,
            "grid_row": null,
            "grid_template_areas": null,
            "grid_template_columns": null,
            "grid_template_rows": null,
            "height": null,
            "justify_content": null,
            "justify_items": null,
            "left": null,
            "margin": null,
            "max_height": null,
            "max_width": null,
            "min_height": null,
            "min_width": null,
            "object_fit": null,
            "object_position": null,
            "order": null,
            "overflow": null,
            "overflow_x": null,
            "overflow_y": null,
            "padding": null,
            "right": null,
            "top": null,
            "visibility": null,
            "width": null
          }
        },
        "4632d63ba5e14b5ab66a504642abc66b": {
          "model_module": "@jupyter-widgets/controls",
          "model_name": "DescriptionStyleModel",
          "model_module_version": "1.5.0",
          "state": {
            "_model_module": "@jupyter-widgets/controls",
            "_model_module_version": "1.5.0",
            "_model_name": "DescriptionStyleModel",
            "_view_count": null,
            "_view_module": "@jupyter-widgets/base",
            "_view_module_version": "1.2.0",
            "_view_name": "StyleView",
            "description_width": ""
          }
        }
      }
    }
  },
  "nbformat": 4,
  "nbformat_minor": 0
}